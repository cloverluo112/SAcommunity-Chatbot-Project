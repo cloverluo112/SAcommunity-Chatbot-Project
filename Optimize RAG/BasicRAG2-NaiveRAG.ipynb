{
 "cells": [
  {
   "cell_type": "markdown",
   "id": "ca846274-02f9-479d-9daf-f64009f365ac",
   "metadata": {},
   "source": [
    "## Import Google LLM GenAI Gemini API Key"
   ]
  },
  {
   "cell_type": "code",
   "execution_count": 1,
   "id": "fca0f1f7-fe99-436e-bac6-bac6ddabadc5",
   "metadata": {},
   "outputs": [],
   "source": [
    "import os\n",
    "os.environ[\"GOOGLE_API_KEY\"] = \"Insert GenAI API Key here\"\n",
    "\n",
    "#enable additional feature, LangSmith, which allows tracking of what's running behind\n",
    "os.environ['LANGCHAIN_TRACING_V2'] = 'true'\n",
    "os.environ['LANGCHAIN_ENDPOINT'] = 'https://api.smith.langchain.com'\n",
    "os.environ['LANGCHAIN_API_KEY'] = 'Insert LangSmith API here'"
   ]
  },
  {
   "cell_type": "markdown",
   "id": "a38273b0-07c6-45ed-aefb-20154c6205f4",
   "metadata": {},
   "source": [
    "## Import Google GenAi Embedding Feature"
   ]
  },
  {
   "cell_type": "code",
   "execution_count": 2,
   "id": "81484a65-8b8d-4ad4-81d9-0f4e9cfd2068",
   "metadata": {},
   "outputs": [],
   "source": [
    "from langchain_google_genai import GoogleGenerativeAIEmbeddings\n",
    "\n",
    "embeddings = GoogleGenerativeAIEmbeddings(model=\"models/embedding-001\")\n",
    "#embeddings.embed_query(\"hello, world!\")"
   ]
  },
  {
   "cell_type": "markdown",
   "id": "ec221bf9-4f4f-41f4-ab76-604eb22c9860",
   "metadata": {},
   "source": [
    "## Load CSV File with LangChain"
   ]
  },
  {
   "cell_type": "code",
   "execution_count": 3,
   "id": "4abfbd8f-0cbe-4830-969c-550b39aa550c",
   "metadata": {},
   "outputs": [],
   "source": [
    "from langchain.document_loaders import CSVLoader\n",
    "loader = CSVLoader(file_path='./decoded_sacom.csv', encoding=\"utf-8\")\n",
    "data = loader.load()"
   ]
  },
  {
   "cell_type": "code",
   "execution_count": 4,
   "id": "a6eceec2-529a-4207-9eb7-938313d25261",
   "metadata": {},
   "outputs": [
    {
     "name": "stdout",
     "output_type": "stream",
     "text": [
      "<class 'list'>\n",
      "14385\n"
     ]
    },
    {
     "data": {
      "text/plain": [
       "Document(page_content='Org ID: 193932\\nOrg Name: RSL Ardrossan Sub Branch\\nAKA: Ardrossan RSL----Returned & Services League Ardrossan\\nAcronym: \\nFormer Name: \\nS Street Addr 1: RSL Hall, West Tce\\nS Street Addr 2: \\nS Suburb: Ardrossan\\nS State: South Australia\\nS Postcode: 5571\\nPhone: 08 8837 3596++\\nMobile: \\nEmail: ardrossan@rslsa.org.au\\nWebsite: http://rslsa.org.au/stores/ardrossan\\nParent Body: \\nParent Body URL: \\nOpen Hours: \\nWheelchair Access: \\nToilets Access: \\nDisabled Parking: \\nServices: Welfare and pensions support for ex-servicemen and their families\\r\\\\\\nSocial and recreational activities\\r\\\\\\nCommemoration activities - ANZAC Day, Remembrance Day and other significant events\\nABN: 25166174779\\nLocal Community dir: Service Clubs\\nAdelaide Hills dir: \\nOnkaparinga dir: \\nSubjects: Ex-Defence Service Groups----Halls For Hire----Social & Activity Groups----Support & Resource Groups----Veterans\\nPrimary Category: Recreation\\nCouncil: Yorke Peninsula Council', metadata={'source': './decoded_sacom.csv', 'row': 0})"
      ]
     },
     "execution_count": 4,
     "metadata": {},
     "output_type": "execute_result"
    }
   ],
   "source": [
    "print(type(data))\n",
    "print(len(data))\n",
    "data[0]"
   ]
  },
  {
   "cell_type": "markdown",
   "id": "c41ceca1-4139-471d-bd63-5fce3f1072da",
   "metadata": {},
   "source": [
    "## Use FAISS for vector store"
   ]
  },
  {
   "cell_type": "code",
   "execution_count": 5,
   "id": "a100f211-031c-422b-844f-4aa30d00d3b2",
   "metadata": {},
   "outputs": [],
   "source": [
    "from langchain.vectorstores import FAISS\n",
    "\n",
    "vectorstore = FAISS.from_documents(data, embeddings)"
   ]
  },
  {
   "cell_type": "markdown",
   "id": "23133f93-fa5c-455a-afaf-fd4fed127bd2",
   "metadata": {},
   "source": [
    "## Check how many vector store"
   ]
  },
  {
   "cell_type": "code",
   "execution_count": 6,
   "id": "c5915b17-d21a-4e76-ba0f-47e17f05145f",
   "metadata": {},
   "outputs": [
    {
     "name": "stdout",
     "output_type": "stream",
     "text": [
      "14385\n"
     ]
    }
   ],
   "source": [
    "print(vectorstore.index.ntotal)"
   ]
  },
  {
   "cell_type": "markdown",
   "id": "d8f72f5d-285f-4096-897f-370c97c0d735",
   "metadata": {},
   "source": [
    "## Simple Search using FAISS to fetch relevant information"
   ]
  },
  {
   "cell_type": "code",
   "execution_count": 7,
   "id": "669dc477-16c5-437d-9588-96ee2ec6cde9",
   "metadata": {},
   "outputs": [
    {
     "name": "stdout",
     "output_type": "stream",
     "text": [
      "Org ID: 197897\n",
      "Org Name: Prospect Town Hall\n",
      "AKA: Eliza Hall\n",
      "Acronym: \n",
      "Former Name: \n",
      "S Street Addr 1: Payinthi Civic Centre,\n",
      "S Street Addr 2: 128 Prospect Rd\n",
      "S Suburb: Prospect\n",
      "S State: South Australia\n",
      "S Postcode: 5082\n",
      "Phone: 08 8269 5355++\n",
      "Mobile: \n",
      "Email: admin@prospect.sa.gov.au\n",
      "Website: https://www.spacetoco.com/space/eliza-hall\n",
      "Parent Body: \n",
      "Parent Body URL: \n",
      "Open Hours: Mon - Sun 7am - 12am\n",
      "Wheelchair Access: 1.0\n",
      "Toilets Access: 1.0\n",
      "Disabled Parking: 1.0\n",
      "Services: Venue and meeting rooms for hire\n",
      "ABN: \n",
      "Local Community dir: Halls & Venues for Hire\n",
      "Adelaide Hills dir: \n",
      "Onkaparinga dir: \n",
      "Subjects: Halls For Hire----Meeting Rooms\n",
      "Primary Category: Community Organisation & Development\n",
      "Council: City of Prospect\n",
      "Similarity score: 0.5422785\n"
     ]
    }
   ],
   "source": [
    "#Enter Search Query\n",
    "query = \"Hall for Hire, Prospect\"\n",
    "\n",
    "#Search the vector store with query, k is the number of results we want FAISS to return\n",
    "docs = vectorstore.similarity_search_with_score(query, k=5)\n",
    "\n",
    "#Print the first relevant document, which has the highest similarity score\n",
    "print(docs[0][0].page_content) #The row's content\n",
    "print(\"Similarity score: \"+str(docs[0][1])) #The similarity score"
   ]
  },
  {
   "cell_type": "code",
   "execution_count": 8,
   "id": "343f10c3-3996-480e-8943-eff5a08f729b",
   "metadata": {},
   "outputs": [
    {
     "name": "stdout",
     "output_type": "stream",
     "text": [
      "<class 'list'> 5\n",
      "<class 'langchain_core.documents.base.Document'>\n",
      "<class 'str'>\n"
     ]
    }
   ],
   "source": [
    "print (type(docs), len(docs))\n",
    "print (type(docs[0][0]))\n",
    "print (type(docs[0][0].page_content))"
   ]
  },
  {
   "cell_type": "markdown",
   "id": "8ae812d6-d08d-4dba-a18a-4a61d74dc246",
   "metadata": {},
   "source": [
    "## RETRIEVAL"
   ]
  },
  {
   "cell_type": "code",
   "execution_count": 9,
   "id": "94f44800-bbf9-40aa-9350-1b3f46ed61da",
   "metadata": {},
   "outputs": [],
   "source": [
    "retriever = vectorstore.as_retriever(search_type=\"similarity\", search_kwargs={\"k\": 10})"
   ]
  },
  {
   "cell_type": "code",
   "execution_count": 10,
   "id": "75d57a92-8038-4a93-9d72-a23d4b80fb9c",
   "metadata": {},
   "outputs": [],
   "source": [
    "retrieved_docs = retriever.invoke(\"Food bank in Prospect?\")"
   ]
  },
  {
   "cell_type": "code",
   "execution_count": 11,
   "id": "199f2f81-0792-479b-b2f1-79354748f355",
   "metadata": {},
   "outputs": [
    {
     "data": {
      "text/plain": [
       "10"
      ]
     },
     "execution_count": 11,
     "metadata": {},
     "output_type": "execute_result"
    }
   ],
   "source": [
    "len(retrieved_docs)"
   ]
  },
  {
   "cell_type": "code",
   "execution_count": 12,
   "id": "127e660f-8490-4da3-a453-e07d9186081c",
   "metadata": {},
   "outputs": [
    {
     "name": "stdout",
     "output_type": "stream",
     "text": [
      "Org ID: 197495\n",
      "Org Name: St Vincent de Paul Society Family Centre - Prospect\n",
      "AKA: Society of St Vincent de Paul Family Centre - Prospect\n",
      "Acronym: \n",
      "Former Name: \n",
      "S Street Addr 1: 92a Prospect Rd\n",
      "S Street Addr 2: \n",
      "S Suburb: Prospect\n",
      "S State: South Australia\n",
      "S Postcode: 5082\n",
      "Phone: 08 8269 5817++\n",
      "Mobile: \n",
      "Email: svdp@svdpsa.org.au\n",
      "Website: www.vinnies.org.au\n",
      "Parent Body: \n",
      "Parent Body URL: \n",
      "\\pen Hours: Mon - Sat 9am - 4pm, Closed public holidays\n",
      "Wheelchair Access: \n",
      "Toilets Access: \n",
      "Disabled Parking: \n",
      "\\ervices: Distribution of donated goods to people in need - clothing, crockery, blankets, pillows, sheets and towels\n",
      "Good quality second hand goods available for sale to low income families\n",
      "ABN: \n",
      "Local Community dir: Food & Clothing Assistance\n",
      "Adelaide Hills dir: \n",
      "Onkaparinga dir: \n",
      "Subjects: Clothing Assistance----Furniture Assistance----Goods & Services----Household Goods Assistance----Opportunity Shops\n",
      "Primary Category: Material & Practical Needs\n",
      "Council: City of Prospect\n"
     ]
    }
   ],
   "source": [
    "print(retrieved_docs[0].page_content)"
   ]
  },
  {
   "cell_type": "code",
   "execution_count": 13,
   "id": "93cf4450-df16-4740-af54-008b0750c10f",
   "metadata": {},
   "outputs": [
    {
     "name": "stdout",
     "output_type": "stream",
     "text": [
      "Org ID: 197495\n",
      "Org Name: St Vincent de Paul Society Family Centre - Prospect\n",
      "AKA: Society of St Vincent de Paul Family Centre - Prospect\n",
      "Acronym: \n",
      "Former Name: \n",
      "S Street Addr 1: 92a Prospect Rd\n",
      "S Street Addr 2: \n",
      "S Suburb: Prospect\n",
      "S State: South Australia\n",
      "S Postcode: 5082\n",
      "Phone: 08 8269 5817++\n",
      "Mobile: \n",
      "Email: svdp@svdpsa.org.au\n",
      "Website: www.vinnies.org.au\n",
      "Parent Body: \n",
      "Parent Body URL: \n",
      "\\pen Hours: Mon - Sat 9am - 4pm, Closed public holidays\n",
      "Wheelchair Access: \n",
      "Toilets Access: \n",
      "Disabled Parking: \n",
      "\\ervices: Distribution of donated goods to people in need - clothing, crockery, blankets, pillows, sheets and towels\n",
      "Good quality second hand goods available for sale to low income families\n",
      "ABN: \n",
      "Local Community dir: Food & Clothing Assistance\n",
      "Adelaide Hills dir: \n",
      "Onkaparinga dir: \n",
      "Subjects: Clothing Assistance----Furniture Assistance----Goods & Services----Household Goods Assistance----Opportunity Shops\n",
      "Primary Category: Material & Practical Needs\n",
      "Council: City of Prospect\n",
      "Org ID: 197391\n",
      "Org Name: Prospect Fair\n",
      "AKA: City of Prospect - Fair\n",
      "Acronym: \n",
      "Former Name: \n",
      "S Street Addr 1: Broadview Oval,\n",
      "S Street Addr 2: Poltawa Tce,\n",
      "S Suburb: Broadview\n",
      "S State: South Australia\n",
      "S Postcode: 5083\n",
      "Phone: 08 8269 5355++\n",
      "Mobile: \n",
      "Email: admin@prospect.sa.gov.au\n",
      "Website: https://www.prospect.sa.gov.au/springfair\n",
      "Parent Body: City of Prospect\n",
      "Parent Body URL: https://sacommunity.org/org/197470\n",
      "Open Hours: \n",
      "Wheelchair Access: \n",
      "Toilets Access: \n",
      "Disabled Parking: \n",
      "Services: Community Fair\n",
      "ABN: \n",
      "Local Community dir: Community Events\n",
      "Adelaide Hills dir: \n",
      "Onkaparinga dir: \n",
      "Subjects: Community Events----Fairs\n",
      "Primary Category: Community Organisation & Development\n",
      "Council: City of Prospect\n",
      "Org ID: 197457\n",
      "Org Name: Meals on Wheels SA - Prospect\n",
      "AKA: Prospect Meals on Wheels\n",
      "Acronym: MoWSA\n",
      "Former Name: \n",
      "S Street Addr 1: 66 Labrina Ave\n",
      "S Street Addr 2: \n",
      "S Suburb: Prospect\n",
      "S State: South Australia\n",
      "S Postcode: 5082\n",
      "Phone: 08 8271 8700++Head Office----08 8344 4164++AM Only----1800 854 453++Freecall\n",
      "Mobile: \n",
      "Email: info@mealsonwheelssa.org.au\n",
      "Website: www.mealsonwheelssa.org.au\n",
      "Parent Body: Meals on Wheels Inc.\n",
      "Parent Body URL: \n",
      "Open Hours: Monday - Friday 8.30am - 5pm\n",
      "Wheelchair Access: \n",
      "Toilets Access: \n",
      "Disabled Parking: \n",
      "\\ervices: Home delivered meals Mon – Fri\n",
      "\\olunteer Roles;\n",
      "\\Cooks and kitchen helpers 7am – 11am\n",
      "\\Drivers and deliverers 11am – 1:30pm\n",
      "\\Branch administration roles also available\n",
      "ABN: 76069457196\n",
      "Local Community dir: Home Delivered Meals\n",
      "Adelaide Hills dir: \n",
      "Onkaparinga dir: \n",
      "Subjects: Food Services----Home Care & Support----Home Delivered Meals----Personal & Family Support----Voluntary Work\n",
      "Primary Category: Personal & Family Support\n",
      "Council: City of Prospect\n",
      "Org ID: 237451\n",
      "Org Name: Vinnies - Prospect\n",
      "AKA: St Vincent de Paul Society - Prospect----St Vincent de Paul Society Family Centre - Prospect----Vinnies Shops - Prospect\n",
      "Acronym: \n",
      "Former Name: \n",
      "S Street Addr 1: 92A Prospect Rd\n",
      "S Street Addr 2: \n",
      "S Suburb: Prospect\n",
      "S State: South Australia\n",
      "S Postcode: 5082\n",
      "Phone: 08 8269 5817++\n",
      "Mobile: \n",
      "Email: svdp@svdpsa.org.au\n",
      "Website: https://www.vinnies.org.au/shops/view/188\n",
      "Parent Body: Vinnies SA\n",
      "Parent Body URL: https://sacommunity.org/org/201400-Vinnies_SA\n",
      "\\pen Hours: Mon - Fri 9am - 4pm\n",
      "\\at 10am - 4pm\n",
      "\\un CLOSED\n",
      "Public Holidays CLOSED\n",
      "Wheelchair Access: \n",
      "Toilets Access: \n",
      "Disabled Parking: \n",
      "\\ervices: Opportunity Shop\n",
      "\\lothing\n",
      "\\ric-a-Bric\n",
      "ABN: \n",
      "Local Community dir: Opportunity Shops\n",
      "Adelaide Hills dir: \n",
      "Onkaparinga dir: \n",
      "Subjects: Clothing----Opportunity Shops----Secondhand Goods----Voluntary Work ----Volunteers\n",
      "Primary Category: Material & Practical Needs\n",
      "Council: City of Prospect\n",
      "Org ID: 197430\n",
      "Org Name: Prospect Magazine\n",
      "AKA: City of Prospect - Review----Creative Community\n",
      "Acronym: \n",
      "Former Name: \n",
      "S Street Addr 1: 128 Prospect Rd\n",
      "S Street Addr 2: \n",
      "S Suburb: Prospect\n",
      "S State: South Australia\n",
      "S Postcode: 5082\n",
      "Phone: 08 8269 5355++\n",
      "Mobile: \n",
      "Email: admin@prospect.sa.gov.au\n",
      "Website: https://www.prospect.sa.gov.au/council/council-documents/prospect-magazine\n",
      "Parent Body: \n",
      "Parent Body URL: \n",
      "Open Hours: \n",
      "Wheelchair Access: \n",
      "Toilets Access: \n",
      "Disabled Parking: \n",
      "Services: Community newspaper\n",
      "ABN: \n",
      "Local Community dir: Community Publications\n",
      "Adelaide Hills dir: \n",
      "Onkaparinga dir: \n",
      "Subjects: Community Publications\n",
      "Primary Category: Communication & Information Services\n",
      "Council: City of Prospect\n",
      "Org ID: 197467\n",
      "Org Name: City of Prospect - Community Bus Service\n",
      "AKA: Community Bus Service - Prospect Council\n",
      "Acronym: \n",
      "Former Name: \n",
      "S Street Addr 1: Payinthi,\n",
      "S Street Addr 2: 128 Prospect Rd,\n",
      "S Suburb: Prospect\n",
      "S State: South Australia\n",
      "S Postcode: 5082\n",
      "Phone: 08 8342 8091++\n",
      "Mobile: \n",
      "Email: admin@prospect.sa.gov.au\n",
      "Website: https://www.prospect.sa.gov.au\n",
      "Parent Body: \n",
      "Parent Body URL: \n",
      "Open Hours: Office: Mon - Fri 9am - 5pm\n",
      "Wheelchair Access: \n",
      "Toilets Access: \n",
      "Disabled Parking: \n",
      "\\ervices: Door to door shopping trips to Northpark Shopping Centre. \n",
      "\\he bus has easy access for passengers with a disability. \n",
      "For wheelchair access, please phone 8342 8091. Door to door Prospect Library service.\n",
      "ABN: \n",
      "Local Community dir: Community Transport\n",
      "Adelaide Hills dir: \n",
      "Onkaparinga dir: \n",
      "Subjects: Community Transport\n",
      "Primary Category: Material & Practical Needs\n",
      "Council: City of Prospect\n",
      "Org ID: 237740\n",
      "Org Name: Prospect Run Club\n",
      "AKA: PRC\n",
      "Acronym: \n",
      "Former Name: \n",
      "S Street Addr 1: Prospect Town Hall\n",
      "S Street Addr 2: 126 Prospect Rd\n",
      "S Suburb: Prospect\n",
      "S State: South Australia\n",
      "S Postcode: 5082\n",
      "Phone: \n",
      "Mobile: \n",
      "Email: \n",
      "Website: https://www.instagram.com/prospectrunclub/?hl=en\n",
      "Parent Body: \n",
      "Parent Body URL: \n",
      "Open Hours: \n",
      "Wheelchair Access: \n",
      "Toilets Access: \n",
      "Disabled Parking: \n",
      "Services: Running\n",
      "ABN: \n",
      "Local Community dir: \n",
      "Adelaide Hills dir: \n",
      "Onkaparinga dir: \n",
      "Subjects: Jogging----Running\n",
      "Primary Category: Recreation\n",
      "Council: City of Prospect\n",
      "Org ID: 201169\n",
      "Org Name: Prospect Community Programs\n",
      "AKA: Thomas Street Centre\n",
      "Acronym: \n",
      "Former Name: \n",
      "S Street Addr 1: Payinthi, 128 Prospect Rd\n",
      "S Street Addr 2: \n",
      "S Suburb: Prospect\n",
      "S State: South Australia\n",
      "S Postcode: 5082\n",
      "Phone: 08 8269 5355++\n",
      "Mobile: \n",
      "Email: admin@prospect.sa.gov.au\n",
      "Website: www.prospect.sa.gov.au\n",
      "Parent Body: City of Prospect\n",
      "Parent Body URL: \n",
      "Open Hours: Office: Mon - Fri 9am - 5pm\n",
      "Wheelchair Access: 1.0\n",
      "Toilets Access: 1.0\n",
      "Disabled Parking: 1.0\n",
      "\\ervices: Adult community education - including English conversation, computer classes\n",
      "\\rts and crafts\n",
      "\\eeting/activity space\n",
      "\\roups - including scrabble, knitting\n",
      "\\oy library\n",
      "Volunteer program\n",
      "ABN: 58758236361\n",
      "Local Community dir: Community Centres\n",
      "Adelaide Hills dir: \n",
      "Onkaparinga dir: \n",
      "Subjects: Bushwalking----Choirs----Community Centres----Computing----Conversation Groups----Crafts----English----Homework Assistance----Personal Development----Playgroups----Recreation Activities----Scrabble----Toy Libraries----Training----Yoga\n",
      "Primary Category: Recreation\n",
      "Council: City of Prospect\n",
      "Org ID: 197480\n",
      "Org Name: Prospect Road Uniting Church\n",
      "AKA: St Johns Uniting Church Prospect\n",
      "Acronym: PRUC\n",
      "Former Name: \n",
      "S Street Addr 1: 174 Prospect Rd\n",
      "S Street Addr 2: \n",
      "S Suburb: Prospect\n",
      "S State: South Australia\n",
      "S Postcode: 5082\n",
      "Phone: 08 8359 4758++After Hours - Please leave a message\n",
      "Mobile: \n",
      "Email: prospectroad.uc@gmail.com\n",
      "Website: \n",
      "Parent Body: Uniting Church SA\n",
      "Parent Body URL: \n",
      "Open Hours: \n",
      "Wheelchair Access: 1.0\n",
      "Toilets Access: 1.0\n",
      "Disabled Parking: \n",
      "Services: Church services and pastoral care\n",
      "ABN: 54967016467\n",
      "Local Community dir: Uniting Church\n",
      "Adelaide Hills dir: \n",
      "Onkaparinga dir: \n",
      "Subjects: Bible Study Groups----Churches, Religions----Religions & Philosophies----Uniting Church\n",
      "Primary Category: Religions & Philosophies\n",
      "Council: City of Prospect\n",
      "Org ID: 197459\n",
      "Org Name: Prospect Community Support\n",
      "AKA: City of Prospect and Walkerville Council - Home Assist Program----Home Assist Program - Prospect Council----Home Assist Program - Walkerville Council\n",
      "Acronym: \n",
      "Former Name: \n",
      "S Street Addr 1: Payinthi,\n",
      "S Street Addr 2: 128 Prospect Road,\n",
      "S Suburb: Prospect\n",
      "S State: South Australia\n",
      "S Postcode: 5082\n",
      "Phone: 08 8342 8091++\n",
      "Mobile: \n",
      "Email: admin@prospect.sa.gov.au\n",
      "Website: https://www.prospect.sa.gov.au/community/community-services/community-support\n",
      "Parent Body: Prospect Community Support, City of Prospect\n",
      "Parent Body URL: https://www.prospect.sa.gov.au/community/community-services/community-support\n",
      "Open Hours: Enquiries Mon - Fri 9am - 5pm\n",
      "Wheelchair Access: 1.0\n",
      "Toilets Access: 1.0\n",
      "Disabled Parking: 1.0\n",
      "\\ervices: Commonwealth Home Support Program\n",
      "\\ocial Support Group Activities and Outings\n",
      "\\ocial Support Friendship Group \n",
      "\\ocial Support Men's Shed,\n",
      "\\ocial Support Gentle Chair Based Exercise Classes\n",
      "\\ocial Support Strength For Life Exercise Classes\n",
      "Social Support Aqua Aerobics Class\n",
      "ABN: \n",
      "Local Community dir: Home Maintenance\n",
      "Adelaide Hills dir: \n",
      "Onkaparinga dir: \n",
      "Subjects: Aged----Home Care & Support\n",
      "Primary Category: Personal & Family Support\n",
      "Council: City of Prospect\n"
     ]
    }
   ],
   "source": [
    "for i in range (len(retrieved_docs)):\n",
    "    print (retrieved_docs[i].page_content)"
   ]
  },
  {
   "cell_type": "markdown",
   "id": "f6a9dfbc-0311-4693-b3ba-5f387cb96720",
   "metadata": {},
   "source": [
    "## Generation"
   ]
  },
  {
   "cell_type": "code",
   "execution_count": 45,
   "id": "6e35560a-f0fd-4e5c-8ef4-f2103c200572",
   "metadata": {},
   "outputs": [],
   "source": [
    "#import LLM\n",
    "from langchain_google_genai import ChatGoogleGenerativeAI,HarmBlockThreshold,HarmCategory\n",
    "\n",
    "llm = ChatGoogleGenerativeAI(temperature=0, model=\"gemini-pro\",\n",
    "    safety_settings={\n",
    "        HarmCategory.HARM_CATEGORY_SEXUALLY_EXPLICIT: HarmBlockThreshold.BLOCK_NONE,\n",
    "        HarmCategory.HARM_CATEGORY_DANGEROUS_CONTENT: HarmBlockThreshold.BLOCK_NONE,\n",
    "        HarmCategory.HARM_CATEGORY_HATE_SPEECH: HarmBlockThreshold.BLOCK_NONE,\n",
    "        HarmCategory.HARM_CATEGORY_HARASSMENT: HarmBlockThreshold.BLOCK_NONE,\n",
    "        })"
   ]
  },
  {
   "cell_type": "code",
   "execution_count": 46,
   "id": "4cfe73f8-20e6-4270-ab48-09c4ceb265f6",
   "metadata": {},
   "outputs": [
    {
     "data": {
      "text/plain": [
       "ChatGoogleGenerativeAI(model='gemini-pro', temperature=0.0, safety_settings={<HarmCategory.HARM_CATEGORY_SEXUALLY_EXPLICIT: 9>: <HarmBlockThreshold.BLOCK_NONE: 4>, <HarmCategory.HARM_CATEGORY_DANGEROUS_CONTENT: 10>: <HarmBlockThreshold.BLOCK_NONE: 4>, <HarmCategory.HARM_CATEGORY_HATE_SPEECH: 8>: <HarmBlockThreshold.BLOCK_NONE: 4>, <HarmCategory.HARM_CATEGORY_HARASSMENT: 7>: <HarmBlockThreshold.BLOCK_NONE: 4>}, client=genai.GenerativeModel(\n",
       "    model_name='models/gemini-pro',\n",
       "    generation_config={},\n",
       "    safety_settings={},\n",
       "    tools=None,\n",
       "))"
      ]
     },
     "execution_count": 46,
     "metadata": {},
     "output_type": "execute_result"
    }
   ],
   "source": [
    "llm"
   ]
  },
  {
   "cell_type": "markdown",
   "id": "1a8368c7-fadf-4730-8d88-075aa819c162",
   "metadata": {},
   "source": [
    "## Use LangChain default RAG prompt"
   ]
  },
  {
   "cell_type": "code",
   "execution_count": 58,
   "id": "87a8c81c-8454-4b3f-8c62-2b31994a2576",
   "metadata": {},
   "outputs": [],
   "source": [
    "from langchain import hub\n",
    "\n",
    "prompt = hub.pull(\"rlm/rag-prompt\")"
   ]
  },
  {
   "cell_type": "code",
   "execution_count": 59,
   "id": "87aa8345-faad-4204-87f3-92bc4fdcfb35",
   "metadata": {},
   "outputs": [
    {
     "data": {
      "text/plain": [
       "[HumanMessage(content=\"You are an assistant for question-answering tasks. Use the following pieces of retrieved context to answer the question. If you don't know the answer, just say that you don't know. Use three sentences maximum and keep the answer concise.\\nQuestion: filler question \\nContext: filler context \\nAnswer:\")]"
      ]
     },
     "execution_count": 59,
     "metadata": {},
     "output_type": "execute_result"
    }
   ],
   "source": [
    "example_messages = prompt.invoke(\n",
    "    {\"context\": \"filler context\", \"question\": \"filler question\"}\n",
    ").to_messages()\n",
    "example_messages"
   ]
  },
  {
   "cell_type": "code",
   "execution_count": 60,
   "id": "56233b0c-54ad-4119-aa53-bd09696334ef",
   "metadata": {},
   "outputs": [
    {
     "name": "stdout",
     "output_type": "stream",
     "text": [
      "You are an assistant for question-answering tasks. Use the following pieces of retrieved context to answer the question. If you don't know the answer, just say that you don't know. Use three sentences maximum and keep the answer concise.\n",
      "Question: filler question \n",
      "Context: filler context \n",
      "Answer:\n"
     ]
    }
   ],
   "source": [
    "print(example_messages[0].content)"
   ]
  },
  {
   "cell_type": "code",
   "execution_count": 61,
   "id": "79b08900-cca5-4099-ba69-9cd9e50b7921",
   "metadata": {},
   "outputs": [],
   "source": [
    "from langchain_core.output_parsers import StrOutputParser\n",
    "from langchain_core.runnables import RunnablePassthrough\n",
    "\n",
    "def format_docs(docs):\n",
    "    return \"\\n\\n\".join(doc.page_content for doc in docs)\n",
    "\n",
    "\n",
    "rag_chain = (\n",
    "    {\"context\": retriever | format_docs, \"question\": RunnablePassthrough()}\n",
    "    | prompt\n",
    "    | llm\n",
    "    | StrOutputParser()\n",
    ")"
   ]
  },
  {
   "cell_type": "code",
   "execution_count": 62,
   "id": "4b80a869-eae3-41f7-b64f-570e5c840142",
   "metadata": {},
   "outputs": [
    {
     "name": "stdout",
     "output_type": "stream",
     "text": [
      "Narcotics Anonymous provides support for people with drug problems. Their phone number is 1300 652 820. Family Drug Support also offers support groups, a support line, and an interactive website on coping. Their phone number is 02 4782 9222."
     ]
    }
   ],
   "source": [
    "for chunk in rag_chain.stream(\"I need support for drug addiction\"):\n",
    "    print(chunk, end=\"\", flush=True)"
   ]
  },
  {
   "cell_type": "markdown",
   "id": "cd086158-6cf6-4e2d-9e7d-b08bcc5ac047",
   "metadata": {},
   "source": [
    "## Use a prompt template with clear instruction on how the Chatbot should reply"
   ]
  },
  {
   "cell_type": "code",
   "execution_count": 63,
   "id": "bd1c15db-4a74-48e0-ad23-9918734298f5",
   "metadata": {},
   "outputs": [],
   "source": [
    "from langchain.prompts import ChatPromptTemplate\n",
    "template = \"\"\"You are an customer service assistant for question-answering tasks.\n",
    "Answer the question based only on the following context delimited by triple backtick.\n",
    "context:```{context}```\n",
    "If you cannot find the answer, tell them to be more precise.\n",
    "You should reply in a friendly way.\n",
    "Your should also provide the website link in the following format:\n",
    "Org Name https://sacommunity.org/org/Org ID\n",
    "Question: {question}\n",
    "Answer:\n",
    "\"\"\""
   ]
  },
  {
   "cell_type": "code",
   "execution_count": 64,
   "id": "d0f3ca33-f895-40b7-9a39-453737050daf",
   "metadata": {},
   "outputs": [
    {
     "data": {
      "text/plain": [
       "ChatPromptTemplate(input_variables=['context', 'question'], messages=[HumanMessagePromptTemplate(prompt=PromptTemplate(input_variables=['context', 'question'], template='You are an customer service assistant for question-answering tasks.\\nAnswer the question based only on the following context delimited by triple backtick.\\ncontext:```{context}```\\nIf you cannot find the answer, tell them to be more precise.\\nYou should reply in a friendly way.\\nYour should also be providing the website link for them in the following format:\\nOrg Name https://sacommunity.org/org/Org ID\\nQuestion: {question}\\nAnswer:\\n'))])"
      ]
     },
     "execution_count": 64,
     "metadata": {},
     "output_type": "execute_result"
    }
   ],
   "source": [
    "prompt = ChatPromptTemplate.from_template(template)\n",
    "prompt"
   ]
  },
  {
   "cell_type": "code",
   "execution_count": 65,
   "id": "80457832-c365-4432-aca9-53f6c2ab73e9",
   "metadata": {},
   "outputs": [],
   "source": [
    "rag_chain = (\n",
    "    {\"context\": retriever | format_docs, \"question\": RunnablePassthrough()}\n",
    "    | prompt\n",
    "    | llm\n",
    "    | StrOutputParser()\n",
    ")"
   ]
  },
  {
   "cell_type": "code",
   "execution_count": 85,
   "id": "d6f24740-9586-44f4-8434-d7aef14c207c",
   "metadata": {},
   "outputs": [
    {
     "name": "stdout",
     "output_type": "stream",
     "text": [
      "Org Name Quitline https://sacommunity.org/org/202205"
     ]
    }
   ],
   "source": [
    "for chunk in rag_chain.stream(\"I want to quit smoking\"):\n",
    "    print(chunk, end=\"\", flush=True)"
   ]
  },
  {
   "cell_type": "code",
   "execution_count": null,
   "id": "b79d361a-dfee-4b39-b22e-de80da8c9f90",
   "metadata": {},
   "outputs": [],
   "source": []
  },
  {
   "cell_type": "code",
   "execution_count": null,
   "id": "304efb54-c744-4d1a-86cc-35e29810b673",
   "metadata": {},
   "outputs": [],
   "source": []
  }
 ],
 "metadata": {
  "kernelspec": {
   "display_name": "Python 3 (ipykernel)",
   "language": "python",
   "name": "python3"
  },
  "language_info": {
   "codemirror_mode": {
    "name": "ipython",
    "version": 3
   },
   "file_extension": ".py",
   "mimetype": "text/x-python",
   "name": "python",
   "nbconvert_exporter": "python",
   "pygments_lexer": "ipython3",
   "version": "3.11.7"
  }
 },
 "nbformat": 4,
 "nbformat_minor": 5
}
