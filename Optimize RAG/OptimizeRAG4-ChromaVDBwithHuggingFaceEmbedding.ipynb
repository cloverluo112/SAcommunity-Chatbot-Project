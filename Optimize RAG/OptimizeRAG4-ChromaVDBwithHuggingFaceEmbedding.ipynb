{
 "cells": [
  {
   "cell_type": "markdown",
   "id": "2a778817-49a4-481d-808d-5a347eeba342",
   "metadata": {},
   "source": [
    "#### This code is to reduce token count by removing columns that have null values for each row as LangChain CSV loader loads still print every columns even though there are empties which also affect the similarity search result"
   ]
  },
  {
   "cell_type": "code",
   "execution_count": 10,
   "id": "aa4cf14a-418a-4572-be63-5a57d572eeff",
   "metadata": {},
   "outputs": [],
   "source": [
    "import pandas as pd\n",
    "data=pd.read_csv('decoded_sacom.csv')"
   ]
  },
  {
   "cell_type": "code",
   "execution_count": 11,
   "id": "64ef6fb7-fd57-4adf-8dc7-45433ed58ec3",
   "metadata": {},
   "outputs": [
    {
     "name": "stdout",
     "output_type": "stream",
     "text": [
      "<class 'pandas.core.frame.DataFrame'>\n",
      "RangeIndex: 14378 entries, 0 to 14377\n",
      "Data columns (total 26 columns):\n",
      " #   Column               Non-Null Count  Dtype  \n",
      "---  ------               --------------  -----  \n",
      " 0   Org ID               14378 non-null  int64  \n",
      " 1   Org Name             14378 non-null  object \n",
      " 2   AKA                  4861 non-null   object \n",
      " 3   Acronym              1375 non-null   object \n",
      " 4   Former Name          1486 non-null   object \n",
      " 5   S Street Addr 1      12931 non-null  object \n",
      " 6   S Street Addr 2      3218 non-null   object \n",
      " 7   S Suburb             14303 non-null  object \n",
      " 8   S State              14346 non-null  object \n",
      " 9   S Postcode           14287 non-null  object \n",
      " 10  Phone                10401 non-null  object \n",
      " 11  Mobile               5782 non-null   object \n",
      " 12  Email                12615 non-null  object \n",
      " 13  Website              12137 non-null  object \n",
      " 14  Open Hours           6285 non-null   object \n",
      " 15  Wheelchair Access    5118 non-null   float64\n",
      " 16  Toilets Access       4600 non-null   float64\n",
      " 17  Disabled Parking     4070 non-null   float64\n",
      " 18  Services             14284 non-null  object \n",
      " 19  Org Type             14370 non-null  object \n",
      " 20  Local Community dir  13336 non-null  object \n",
      " 21  Adelaide Hills dir   104 non-null    object \n",
      " 22  Onkaparinga dir      361 non-null    object \n",
      " 23  Subjects             14368 non-null  object \n",
      " 24  Primary Category     14376 non-null  object \n",
      " 25  Council              14362 non-null  object \n",
      "dtypes: float64(3), int64(1), object(22)\n",
      "memory usage: 2.9+ MB\n"
     ]
    }
   ],
   "source": [
    "data.info()"
   ]
  },
  {
   "cell_type": "markdown",
   "id": "e7953d6a-22f6-40c6-8fb7-62345781c1a6",
   "metadata": {},
   "source": [
    "#### Split the services and subjects for improved search result\n",
    "###### when the content is too long, the similarity score will be lower even though it contains the service"
   ]
  },
  {
   "cell_type": "code",
   "execution_count": 12,
   "id": "143558d5-8b23-4782-991d-6b4ca5c9793d",
   "metadata": {},
   "outputs": [],
   "source": [
    "service = data.drop([\"S Street Addr 1\",\"S Street Addr 2\",\"S State\",\"S Postcode\",'Phone','Mobile', 'Email', 'Website', 'Open Hours', 'Wheelchair Access','Toilets Access', 'Disabled Parking','Subjects'],axis=1)\n",
    "subject = data.drop([\"S Street Addr 1\",\"S Street Addr 2\",\"S State\",\"S Postcode\",'Phone','Mobile', 'Email', 'Website', 'Open Hours', 'Wheelchair Access','Toilets Access', 'Disabled Parking','Services'],axis=1)"
   ]
  },
  {
   "cell_type": "code",
   "execution_count": 13,
   "id": "76f22225-237c-40ba-a89e-b848a2c29cb8",
   "metadata": {},
   "outputs": [
    {
     "data": {
      "text/plain": [
       "48424"
      ]
     },
     "execution_count": 13,
     "metadata": {},
     "output_type": "execute_result"
    }
   ],
   "source": [
    "#split the services to new rows(to improve similarity score)\n",
    "service['Services'] = service['Services'].str.split('\\n')\n",
    "service = service.explode('Services')\n",
    "len(service)"
   ]
  },
  {
   "cell_type": "code",
   "execution_count": 14,
   "id": "0430365c-6e5a-4571-965f-d13d1c73c907",
   "metadata": {},
   "outputs": [
    {
     "data": {
      "text/plain": [
       "50732"
      ]
     },
     "execution_count": 14,
     "metadata": {},
     "output_type": "execute_result"
    }
   ],
   "source": [
    "#split the subject to new rows (to improve similarity score)\n",
    "subject['Subjects'] = subject['Subjects'].str.split(';')\n",
    "subject = subject.explode('Subjects')\n",
    "len(subject)"
   ]
  },
  {
   "cell_type": "code",
   "execution_count": 15,
   "id": "496b1037-6a34-4fca-879a-c47999f939dc",
   "metadata": {},
   "outputs": [],
   "source": [
    "#combine both dataframes\n",
    "combined_df = pd.concat([service, subject])"
   ]
  },
  {
   "cell_type": "code",
   "execution_count": 16,
   "id": "a2142758-d8e4-4c18-9cc0-0d56eba2c449",
   "metadata": {},
   "outputs": [
    {
     "data": {
      "text/plain": [
       "99156"
      ]
     },
     "execution_count": 16,
     "metadata": {},
     "output_type": "execute_result"
    }
   ],
   "source": [
    "len(combined_df)"
   ]
  },
  {
   "cell_type": "code",
   "execution_count": 17,
   "id": "ae01c20d-908c-4122-b227-da409495823a",
   "metadata": {},
   "outputs": [
    {
     "data": {
      "text/html": [
       "<div>\n",
       "<style scoped>\n",
       "    .dataframe tbody tr th:only-of-type {\n",
       "        vertical-align: middle;\n",
       "    }\n",
       "\n",
       "    .dataframe tbody tr th {\n",
       "        vertical-align: top;\n",
       "    }\n",
       "\n",
       "    .dataframe thead th {\n",
       "        text-align: right;\n",
       "    }\n",
       "</style>\n",
       "<table border=\"1\" class=\"dataframe\">\n",
       "  <thead>\n",
       "    <tr style=\"text-align: right;\">\n",
       "      <th></th>\n",
       "      <th>Org ID</th>\n",
       "      <th>Org Name</th>\n",
       "      <th>AKA</th>\n",
       "      <th>Acronym</th>\n",
       "      <th>Former Name</th>\n",
       "      <th>S Suburb</th>\n",
       "      <th>Services</th>\n",
       "      <th>Org Type</th>\n",
       "      <th>Local Community dir</th>\n",
       "      <th>Adelaide Hills dir</th>\n",
       "      <th>Onkaparinga dir</th>\n",
       "      <th>Primary Category</th>\n",
       "      <th>Council</th>\n",
       "      <th>Subjects</th>\n",
       "    </tr>\n",
       "  </thead>\n",
       "  <tbody>\n",
       "    <tr>\n",
       "      <th>0</th>\n",
       "      <td>193932</td>\n",
       "      <td>RSL Ardrossan Sub Branch</td>\n",
       "      <td>Ardrossan RSL; Returned &amp; Services League Ardr...</td>\n",
       "      <td>NaN</td>\n",
       "      <td>NaN</td>\n",
       "      <td>Ardrossan</td>\n",
       "      <td>Welfare and pensions support for ex-servicemen...</td>\n",
       "      <td>Business</td>\n",
       "      <td>Service Clubs</td>\n",
       "      <td>NaN</td>\n",
       "      <td>NaN</td>\n",
       "      <td>Recreation</td>\n",
       "      <td>Yorke Peninsula Council</td>\n",
       "      <td>NaN</td>\n",
       "    </tr>\n",
       "    <tr>\n",
       "      <th>0</th>\n",
       "      <td>193932</td>\n",
       "      <td>RSL Ardrossan Sub Branch</td>\n",
       "      <td>Ardrossan RSL; Returned &amp; Services League Ardr...</td>\n",
       "      <td>NaN</td>\n",
       "      <td>NaN</td>\n",
       "      <td>Ardrossan</td>\n",
       "      <td>Social and recreational activities</td>\n",
       "      <td>Business</td>\n",
       "      <td>Service Clubs</td>\n",
       "      <td>NaN</td>\n",
       "      <td>NaN</td>\n",
       "      <td>Recreation</td>\n",
       "      <td>Yorke Peninsula Council</td>\n",
       "      <td>NaN</td>\n",
       "    </tr>\n",
       "    <tr>\n",
       "      <th>0</th>\n",
       "      <td>193932</td>\n",
       "      <td>RSL Ardrossan Sub Branch</td>\n",
       "      <td>Ardrossan RSL; Returned &amp; Services League Ardr...</td>\n",
       "      <td>NaN</td>\n",
       "      <td>NaN</td>\n",
       "      <td>Ardrossan</td>\n",
       "      <td>Commemoration activities - ANZAC Day, Remembra...</td>\n",
       "      <td>Business</td>\n",
       "      <td>Service Clubs</td>\n",
       "      <td>NaN</td>\n",
       "      <td>NaN</td>\n",
       "      <td>Recreation</td>\n",
       "      <td>Yorke Peninsula Council</td>\n",
       "      <td>NaN</td>\n",
       "    </tr>\n",
       "    <tr>\n",
       "      <th>1</th>\n",
       "      <td>193933</td>\n",
       "      <td>RSL Balaklava Sub Branch</td>\n",
       "      <td>Balaklava RSL; Returned &amp; Services League Bala...</td>\n",
       "      <td>NaN</td>\n",
       "      <td>NaN</td>\n",
       "      <td>Balaklava</td>\n",
       "      <td>Welfare and pensions support for ex-servicemen...</td>\n",
       "      <td>Community</td>\n",
       "      <td>Support Groups</td>\n",
       "      <td>NaN</td>\n",
       "      <td>NaN</td>\n",
       "      <td>Personal &amp; Family Support</td>\n",
       "      <td>Wakefield Regional Council</td>\n",
       "      <td>NaN</td>\n",
       "    </tr>\n",
       "    <tr>\n",
       "      <th>1</th>\n",
       "      <td>193933</td>\n",
       "      <td>RSL Balaklava Sub Branch</td>\n",
       "      <td>Balaklava RSL; Returned &amp; Services League Bala...</td>\n",
       "      <td>NaN</td>\n",
       "      <td>NaN</td>\n",
       "      <td>Balaklava</td>\n",
       "      <td>Social and recreational activities</td>\n",
       "      <td>Community</td>\n",
       "      <td>Support Groups</td>\n",
       "      <td>NaN</td>\n",
       "      <td>NaN</td>\n",
       "      <td>Personal &amp; Family Support</td>\n",
       "      <td>Wakefield Regional Council</td>\n",
       "      <td>NaN</td>\n",
       "    </tr>\n",
       "  </tbody>\n",
       "</table>\n",
       "</div>"
      ],
      "text/plain": [
       "   Org ID                  Org Name  \\\n",
       "0  193932  RSL Ardrossan Sub Branch   \n",
       "0  193932  RSL Ardrossan Sub Branch   \n",
       "0  193932  RSL Ardrossan Sub Branch   \n",
       "1  193933  RSL Balaklava Sub Branch   \n",
       "1  193933  RSL Balaklava Sub Branch   \n",
       "\n",
       "                                                 AKA Acronym Former Name  \\\n",
       "0  Ardrossan RSL; Returned & Services League Ardr...     NaN         NaN   \n",
       "0  Ardrossan RSL; Returned & Services League Ardr...     NaN         NaN   \n",
       "0  Ardrossan RSL; Returned & Services League Ardr...     NaN         NaN   \n",
       "1  Balaklava RSL; Returned & Services League Bala...     NaN         NaN   \n",
       "1  Balaklava RSL; Returned & Services League Bala...     NaN         NaN   \n",
       "\n",
       "    S Suburb                                           Services   Org Type  \\\n",
       "0  Ardrossan  Welfare and pensions support for ex-servicemen...   Business   \n",
       "0  Ardrossan                 Social and recreational activities   Business   \n",
       "0  Ardrossan  Commemoration activities - ANZAC Day, Remembra...   Business   \n",
       "1  Balaklava  Welfare and pensions support for ex-servicemen...  Community   \n",
       "1  Balaklava                 Social and recreational activities  Community   \n",
       "\n",
       "  Local Community dir Adelaide Hills dir Onkaparinga dir  \\\n",
       "0       Service Clubs                NaN             NaN   \n",
       "0       Service Clubs                NaN             NaN   \n",
       "0       Service Clubs                NaN             NaN   \n",
       "1      Support Groups                NaN             NaN   \n",
       "1      Support Groups                NaN             NaN   \n",
       "\n",
       "            Primary Category                     Council Subjects  \n",
       "0                 Recreation     Yorke Peninsula Council      NaN  \n",
       "0                 Recreation     Yorke Peninsula Council      NaN  \n",
       "0                 Recreation     Yorke Peninsula Council      NaN  \n",
       "1  Personal & Family Support  Wakefield Regional Council      NaN  \n",
       "1  Personal & Family Support  Wakefield Regional Council      NaN  "
      ]
     },
     "execution_count": 17,
     "metadata": {},
     "output_type": "execute_result"
    }
   ],
   "source": [
    "combined_df.head()"
   ]
  },
  {
   "cell_type": "code",
   "execution_count": 18,
   "id": "e322c8c8-30de-4c69-b042-667fa717b9e1",
   "metadata": {},
   "outputs": [
    {
     "data": {
      "text/html": [
       "<div>\n",
       "<style scoped>\n",
       "    .dataframe tbody tr th:only-of-type {\n",
       "        vertical-align: middle;\n",
       "    }\n",
       "\n",
       "    .dataframe tbody tr th {\n",
       "        vertical-align: top;\n",
       "    }\n",
       "\n",
       "    .dataframe thead th {\n",
       "        text-align: right;\n",
       "    }\n",
       "</style>\n",
       "<table border=\"1\" class=\"dataframe\">\n",
       "  <thead>\n",
       "    <tr style=\"text-align: right;\">\n",
       "      <th></th>\n",
       "      <th>Org ID</th>\n",
       "      <th>Org Name</th>\n",
       "      <th>AKA</th>\n",
       "      <th>Acronym</th>\n",
       "      <th>Former Name</th>\n",
       "      <th>S Suburb</th>\n",
       "      <th>Services</th>\n",
       "      <th>Org Type</th>\n",
       "      <th>Local Community dir</th>\n",
       "      <th>Adelaide Hills dir</th>\n",
       "      <th>Onkaparinga dir</th>\n",
       "      <th>Primary Category</th>\n",
       "      <th>Council</th>\n",
       "      <th>Subjects</th>\n",
       "    </tr>\n",
       "  </thead>\n",
       "  <tbody>\n",
       "    <tr>\n",
       "      <th>0</th>\n",
       "      <td>193932</td>\n",
       "      <td>RSL Ardrossan Sub Branch</td>\n",
       "      <td>Ardrossan RSL; Returned &amp; Services League Ardr...</td>\n",
       "      <td>NaN</td>\n",
       "      <td>NaN</td>\n",
       "      <td>Ardrossan</td>\n",
       "      <td>Welfare and pensions support for ex-servicemen...</td>\n",
       "      <td>Business</td>\n",
       "      <td>Service Clubs</td>\n",
       "      <td>NaN</td>\n",
       "      <td>NaN</td>\n",
       "      <td>Recreation</td>\n",
       "      <td>Yorke Peninsula Council</td>\n",
       "      <td>NaN</td>\n",
       "    </tr>\n",
       "    <tr>\n",
       "      <th>1</th>\n",
       "      <td>193932</td>\n",
       "      <td>RSL Ardrossan Sub Branch</td>\n",
       "      <td>Ardrossan RSL; Returned &amp; Services League Ardr...</td>\n",
       "      <td>NaN</td>\n",
       "      <td>NaN</td>\n",
       "      <td>Ardrossan</td>\n",
       "      <td>Social and recreational activities</td>\n",
       "      <td>Business</td>\n",
       "      <td>Service Clubs</td>\n",
       "      <td>NaN</td>\n",
       "      <td>NaN</td>\n",
       "      <td>Recreation</td>\n",
       "      <td>Yorke Peninsula Council</td>\n",
       "      <td>NaN</td>\n",
       "    </tr>\n",
       "    <tr>\n",
       "      <th>2</th>\n",
       "      <td>193932</td>\n",
       "      <td>RSL Ardrossan Sub Branch</td>\n",
       "      <td>Ardrossan RSL; Returned &amp; Services League Ardr...</td>\n",
       "      <td>NaN</td>\n",
       "      <td>NaN</td>\n",
       "      <td>Ardrossan</td>\n",
       "      <td>Commemoration activities - ANZAC Day, Remembra...</td>\n",
       "      <td>Business</td>\n",
       "      <td>Service Clubs</td>\n",
       "      <td>NaN</td>\n",
       "      <td>NaN</td>\n",
       "      <td>Recreation</td>\n",
       "      <td>Yorke Peninsula Council</td>\n",
       "      <td>NaN</td>\n",
       "    </tr>\n",
       "    <tr>\n",
       "      <th>3</th>\n",
       "      <td>193933</td>\n",
       "      <td>RSL Balaklava Sub Branch</td>\n",
       "      <td>Balaklava RSL; Returned &amp; Services League Bala...</td>\n",
       "      <td>NaN</td>\n",
       "      <td>NaN</td>\n",
       "      <td>Balaklava</td>\n",
       "      <td>Welfare and pensions support for ex-servicemen...</td>\n",
       "      <td>Community</td>\n",
       "      <td>Support Groups</td>\n",
       "      <td>NaN</td>\n",
       "      <td>NaN</td>\n",
       "      <td>Personal &amp; Family Support</td>\n",
       "      <td>Wakefield Regional Council</td>\n",
       "      <td>NaN</td>\n",
       "    </tr>\n",
       "    <tr>\n",
       "      <th>4</th>\n",
       "      <td>193933</td>\n",
       "      <td>RSL Balaklava Sub Branch</td>\n",
       "      <td>Balaklava RSL; Returned &amp; Services League Bala...</td>\n",
       "      <td>NaN</td>\n",
       "      <td>NaN</td>\n",
       "      <td>Balaklava</td>\n",
       "      <td>Social and recreational activities</td>\n",
       "      <td>Community</td>\n",
       "      <td>Support Groups</td>\n",
       "      <td>NaN</td>\n",
       "      <td>NaN</td>\n",
       "      <td>Personal &amp; Family Support</td>\n",
       "      <td>Wakefield Regional Council</td>\n",
       "      <td>NaN</td>\n",
       "    </tr>\n",
       "  </tbody>\n",
       "</table>\n",
       "</div>"
      ],
      "text/plain": [
       "   Org ID                  Org Name  \\\n",
       "0  193932  RSL Ardrossan Sub Branch   \n",
       "1  193932  RSL Ardrossan Sub Branch   \n",
       "2  193932  RSL Ardrossan Sub Branch   \n",
       "3  193933  RSL Balaklava Sub Branch   \n",
       "4  193933  RSL Balaklava Sub Branch   \n",
       "\n",
       "                                                 AKA Acronym Former Name  \\\n",
       "0  Ardrossan RSL; Returned & Services League Ardr...     NaN         NaN   \n",
       "1  Ardrossan RSL; Returned & Services League Ardr...     NaN         NaN   \n",
       "2  Ardrossan RSL; Returned & Services League Ardr...     NaN         NaN   \n",
       "3  Balaklava RSL; Returned & Services League Bala...     NaN         NaN   \n",
       "4  Balaklava RSL; Returned & Services League Bala...     NaN         NaN   \n",
       "\n",
       "    S Suburb                                           Services   Org Type  \\\n",
       "0  Ardrossan  Welfare and pensions support for ex-servicemen...   Business   \n",
       "1  Ardrossan                 Social and recreational activities   Business   \n",
       "2  Ardrossan  Commemoration activities - ANZAC Day, Remembra...   Business   \n",
       "3  Balaklava  Welfare and pensions support for ex-servicemen...  Community   \n",
       "4  Balaklava                 Social and recreational activities  Community   \n",
       "\n",
       "  Local Community dir Adelaide Hills dir Onkaparinga dir  \\\n",
       "0       Service Clubs                NaN             NaN   \n",
       "1       Service Clubs                NaN             NaN   \n",
       "2       Service Clubs                NaN             NaN   \n",
       "3      Support Groups                NaN             NaN   \n",
       "4      Support Groups                NaN             NaN   \n",
       "\n",
       "            Primary Category                     Council Subjects  \n",
       "0                 Recreation     Yorke Peninsula Council      NaN  \n",
       "1                 Recreation     Yorke Peninsula Council      NaN  \n",
       "2                 Recreation     Yorke Peninsula Council      NaN  \n",
       "3  Personal & Family Support  Wakefield Regional Council      NaN  \n",
       "4  Personal & Family Support  Wakefield Regional Council      NaN  "
      ]
     },
     "execution_count": 18,
     "metadata": {},
     "output_type": "execute_result"
    }
   ],
   "source": [
    "combined_df = combined_df.reset_index(drop=True) #reset the index as when splitting and combined, the index are jumbled up\n",
    "combined_df.head()"
   ]
  },
  {
   "cell_type": "markdown",
   "id": "5236f87c-36b2-4fbb-9db9-e2c68852ccbc",
   "metadata": {},
   "source": [
    "#### Extract the location and council for metadata input during vector database create to improve search using metadata filtering"
   ]
  },
  {
   "cell_type": "code",
   "execution_count": 19,
   "id": "cce620c3-1124-4688-9739-b97b63e3259b",
   "metadata": {},
   "outputs": [
    {
     "data": {
      "text/html": [
       "<div>\n",
       "<style scoped>\n",
       "    .dataframe tbody tr th:only-of-type {\n",
       "        vertical-align: middle;\n",
       "    }\n",
       "\n",
       "    .dataframe tbody tr th {\n",
       "        vertical-align: top;\n",
       "    }\n",
       "\n",
       "    .dataframe thead th {\n",
       "        text-align: right;\n",
       "    }\n",
       "</style>\n",
       "<table border=\"1\" class=\"dataframe\">\n",
       "  <thead>\n",
       "    <tr style=\"text-align: right;\">\n",
       "      <th></th>\n",
       "      <th>Org ID</th>\n",
       "      <th>Org Name</th>\n",
       "      <th>AKA</th>\n",
       "      <th>Acronym</th>\n",
       "      <th>Former Name</th>\n",
       "      <th>Services</th>\n",
       "      <th>Org Type</th>\n",
       "      <th>Local Community dir</th>\n",
       "      <th>Adelaide Hills dir</th>\n",
       "      <th>Onkaparinga dir</th>\n",
       "      <th>Primary Category</th>\n",
       "      <th>Subjects</th>\n",
       "    </tr>\n",
       "  </thead>\n",
       "  <tbody>\n",
       "    <tr>\n",
       "      <th>0</th>\n",
       "      <td>193932</td>\n",
       "      <td>RSL Ardrossan Sub Branch</td>\n",
       "      <td>Ardrossan RSL; Returned &amp; Services League Ardr...</td>\n",
       "      <td>NaN</td>\n",
       "      <td>NaN</td>\n",
       "      <td>Welfare and pensions support for ex-servicemen...</td>\n",
       "      <td>Business</td>\n",
       "      <td>Service Clubs</td>\n",
       "      <td>NaN</td>\n",
       "      <td>NaN</td>\n",
       "      <td>Recreation</td>\n",
       "      <td>NaN</td>\n",
       "    </tr>\n",
       "    <tr>\n",
       "      <th>1</th>\n",
       "      <td>193932</td>\n",
       "      <td>RSL Ardrossan Sub Branch</td>\n",
       "      <td>Ardrossan RSL; Returned &amp; Services League Ardr...</td>\n",
       "      <td>NaN</td>\n",
       "      <td>NaN</td>\n",
       "      <td>Social and recreational activities</td>\n",
       "      <td>Business</td>\n",
       "      <td>Service Clubs</td>\n",
       "      <td>NaN</td>\n",
       "      <td>NaN</td>\n",
       "      <td>Recreation</td>\n",
       "      <td>NaN</td>\n",
       "    </tr>\n",
       "    <tr>\n",
       "      <th>2</th>\n",
       "      <td>193932</td>\n",
       "      <td>RSL Ardrossan Sub Branch</td>\n",
       "      <td>Ardrossan RSL; Returned &amp; Services League Ardr...</td>\n",
       "      <td>NaN</td>\n",
       "      <td>NaN</td>\n",
       "      <td>Commemoration activities - ANZAC Day, Remembra...</td>\n",
       "      <td>Business</td>\n",
       "      <td>Service Clubs</td>\n",
       "      <td>NaN</td>\n",
       "      <td>NaN</td>\n",
       "      <td>Recreation</td>\n",
       "      <td>NaN</td>\n",
       "    </tr>\n",
       "    <tr>\n",
       "      <th>3</th>\n",
       "      <td>193933</td>\n",
       "      <td>RSL Balaklava Sub Branch</td>\n",
       "      <td>Balaklava RSL; Returned &amp; Services League Bala...</td>\n",
       "      <td>NaN</td>\n",
       "      <td>NaN</td>\n",
       "      <td>Welfare and pensions support for ex-servicemen...</td>\n",
       "      <td>Community</td>\n",
       "      <td>Support Groups</td>\n",
       "      <td>NaN</td>\n",
       "      <td>NaN</td>\n",
       "      <td>Personal &amp; Family Support</td>\n",
       "      <td>NaN</td>\n",
       "    </tr>\n",
       "    <tr>\n",
       "      <th>4</th>\n",
       "      <td>193933</td>\n",
       "      <td>RSL Balaklava Sub Branch</td>\n",
       "      <td>Balaklava RSL; Returned &amp; Services League Bala...</td>\n",
       "      <td>NaN</td>\n",
       "      <td>NaN</td>\n",
       "      <td>Social and recreational activities</td>\n",
       "      <td>Community</td>\n",
       "      <td>Support Groups</td>\n",
       "      <td>NaN</td>\n",
       "      <td>NaN</td>\n",
       "      <td>Personal &amp; Family Support</td>\n",
       "      <td>NaN</td>\n",
       "    </tr>\n",
       "  </tbody>\n",
       "</table>\n",
       "</div>"
      ],
      "text/plain": [
       "   Org ID                  Org Name  \\\n",
       "0  193932  RSL Ardrossan Sub Branch   \n",
       "1  193932  RSL Ardrossan Sub Branch   \n",
       "2  193932  RSL Ardrossan Sub Branch   \n",
       "3  193933  RSL Balaklava Sub Branch   \n",
       "4  193933  RSL Balaklava Sub Branch   \n",
       "\n",
       "                                                 AKA Acronym Former Name  \\\n",
       "0  Ardrossan RSL; Returned & Services League Ardr...     NaN         NaN   \n",
       "1  Ardrossan RSL; Returned & Services League Ardr...     NaN         NaN   \n",
       "2  Ardrossan RSL; Returned & Services League Ardr...     NaN         NaN   \n",
       "3  Balaklava RSL; Returned & Services League Bala...     NaN         NaN   \n",
       "4  Balaklava RSL; Returned & Services League Bala...     NaN         NaN   \n",
       "\n",
       "                                            Services   Org Type  \\\n",
       "0  Welfare and pensions support for ex-servicemen...   Business   \n",
       "1                 Social and recreational activities   Business   \n",
       "2  Commemoration activities - ANZAC Day, Remembra...   Business   \n",
       "3  Welfare and pensions support for ex-servicemen...  Community   \n",
       "4                 Social and recreational activities  Community   \n",
       "\n",
       "  Local Community dir Adelaide Hills dir Onkaparinga dir  \\\n",
       "0       Service Clubs                NaN             NaN   \n",
       "1       Service Clubs                NaN             NaN   \n",
       "2       Service Clubs                NaN             NaN   \n",
       "3      Support Groups                NaN             NaN   \n",
       "4      Support Groups                NaN             NaN   \n",
       "\n",
       "            Primary Category Subjects  \n",
       "0                 Recreation      NaN  \n",
       "1                 Recreation      NaN  \n",
       "2                 Recreation      NaN  \n",
       "3  Personal & Family Support      NaN  \n",
       "4  Personal & Family Support      NaN  "
      ]
     },
     "execution_count": 19,
     "metadata": {},
     "output_type": "execute_result"
    }
   ],
   "source": [
    "location=combined_df[\"S Suburb\"].str.lower() #extract the location and council for metadata\n",
    "council=combined_df[\"Council\"].str.lower()\n",
    "combined_df.drop(['S Suburb','Council'],axis=1,inplace=True)\n",
    "combined_df.head()"
   ]
  },
  {
   "cell_type": "markdown",
   "id": "fab416e9-b841-40d1-918d-e9e09fd5a70c",
   "metadata": {},
   "source": [
    "#### Function to create strings for each csv row while removing column which have null, and append to a list"
   ]
  },
  {
   "cell_type": "code",
   "execution_count": 20,
   "id": "af852e75-027e-4447-a2e1-beaf3008ea4b",
   "metadata": {},
   "outputs": [
    {
     "data": {
      "text/plain": [
       "99156"
      ]
     },
     "execution_count": 20,
     "metadata": {},
     "output_type": "execute_result"
    }
   ],
   "source": [
    "def create_row_strings(df):\n",
    "    row_strings = []  # Initialize an empty list to store row strings\n",
    "    # Iterate over each row in the DataFrame\n",
    "    for index, row in df.iterrows():\n",
    "        # Initialize an empty list to store column name-value pairs\n",
    "        column_value_pairs = []\n",
    "\n",
    "        # Iterate over each column in the row\n",
    "        for column_name, value in row.items():\n",
    "            # Check if the value is not null (not NaN)\n",
    "            if pd.notna(value):\n",
    "                # Format column name and value as \"column_name: value\"\n",
    "                column_value_pair = f\"{column_name}: {value}\"\n",
    "                column_value_pairs.append(column_value_pair)\n",
    "\n",
    "        # Join column name-value pairs with newline separator\n",
    "        formatted_row_string = \" \\n\".join(column_value_pairs)\n",
    "\n",
    "        # Append the formatted row string to the list\n",
    "        row_strings.append(formatted_row_string)\n",
    "\n",
    "    return row_strings\n",
    "\n",
    "# Create a list of row strings\n",
    "strings_list = create_row_strings(combined_df)\n",
    "len(strings_list)"
   ]
  },
  {
   "cell_type": "code",
   "execution_count": 21,
   "id": "2456fb3b-8e5e-4f4b-a192-d25affa536d8",
   "metadata": {},
   "outputs": [
    {
     "data": {
      "text/plain": [
       "['Org ID: 193966 \\nOrg Name: RSL Meningie Sub Branch \\nAKA: Meningie RSL; Returned & Services League Meningie \\nServices: Commemoration activities - ANZAC Day, Remembrance Day and other significant events \\nOrg Type: Community \\nLocal Community dir: Service Clubs \\nPrimary Category: Community Organisation & Development',\n",
       " 'Org ID: 193966 \\nOrg Name: RSL Meningie Sub Branch \\nAKA: Meningie RSL; Returned & Services League Meningie \\nServices: Hall for hire \\nOrg Type: Community \\nLocal Community dir: Service Clubs \\nPrimary Category: Community Organisation & Development',\n",
       " 'Org ID: 193968 \\nOrg Name: RSL Moonta Sub Branch \\nAKA: Moonta RSL; Returned & Services League Moonta \\nServices: Welfare and pensions support for ex-servicemen and their families \\nOrg Type: Community \\nLocal Community dir: Ex Services groups \\nPrimary Category: Recreation',\n",
       " 'Org ID: 193968 \\nOrg Name: RSL Moonta Sub Branch \\nAKA: Moonta RSL; Returned & Services League Moonta \\nServices: Social and recreational activities \\nOrg Type: Community \\nLocal Community dir: Ex Services groups \\nPrimary Category: Recreation',\n",
       " 'Org ID: 193968 \\nOrg Name: RSL Moonta Sub Branch \\nAKA: Moonta RSL; Returned & Services League Moonta \\nServices: Commemoration activities - ANZAC Day, Remembrance Day and other significant events \\nOrg Type: Community \\nLocal Community dir: Ex Services groups \\nPrimary Category: Recreation']"
      ]
     },
     "execution_count": 21,
     "metadata": {},
     "output_type": "execute_result"
    }
   ],
   "source": [
    "#check first five results, empty columns for each rows are removed\n",
    "strings_list[100:105]"
   ]
  },
  {
   "cell_type": "markdown",
   "id": "3b710a36-3da2-49a5-a088-161273890bcc",
   "metadata": {},
   "source": [
    "#### Create a LangChain Document and add the list of strings to the documents for vectordatabase preparation"
   ]
  },
  {
   "cell_type": "code",
   "execution_count": 22,
   "id": "cdb12564-2169-4e35-804e-17240ef05efa",
   "metadata": {},
   "outputs": [],
   "source": [
    "from langchain_core.documents import Document\n",
    "\n",
    "doc = []\n",
    "\n",
    "for i in range(len(strings_list)):\n",
    "    page=Document(page_content = strings_list[i], metadata = {'location': location[i], 'council': council[i]})\n",
    "    doc.append(page)\n"
   ]
  },
  {
   "cell_type": "code",
   "execution_count": 16,
   "id": "d2ecfa24-fa80-4b84-868f-61d72c782021",
   "metadata": {},
   "outputs": [
    {
     "data": {
      "text/plain": [
       "Document(page_content='Org ID: 199864 \\nOrg Name: Scouts SA - Stradbroke \\nServices: Recreation \\nOrg Type: Community \\nPrimary Category: Recreation', metadata={'location': 'rostrevor', 'council': 'adelaide hills council'})"
      ]
     },
     "execution_count": 16,
     "metadata": {},
     "output_type": "execute_result"
    }
   ],
   "source": [
    "doc[12086]"
   ]
  },
  {
   "cell_type": "code",
   "execution_count": 17,
   "id": "89c02b78-dd6c-4de4-8395-7a35d0082ddc",
   "metadata": {},
   "outputs": [
    {
     "name": "stdout",
     "output_type": "stream",
     "text": [
      "Org ID: 193936 \n",
      "Org Name: RSL Blanchetown Sub Branch \n",
      "AKA: Blanchetown RSL; Returned & Services League Blanchetown \n",
      "Services: Social and recreational activities \n",
      "Org Type: Community \n",
      "Local Community dir: Service Clubs \n",
      "Primary Category: Community Organisation & Development\n"
     ]
    }
   ],
   "source": [
    "print(doc[11].page_content)"
   ]
  },
  {
   "cell_type": "markdown",
   "id": "1e1b729e-78ca-444f-a238-32caed459cdc",
   "metadata": {},
   "source": [
    "#### Create Vector Database and Save to Local Directory (chroma_db) (old ways)"
   ]
  },
  {
   "cell_type": "code",
   "execution_count": 15,
   "id": "0e2cf760-7652-48c8-a0c1-2c79c015e37a",
   "metadata": {},
   "outputs": [],
   "source": [
    "# import os\n",
    "# from langchain_google_genai import GoogleGenerativeAIEmbeddings\n",
    "# from langchain_chroma import Chroma\n",
    "\n",
    "# os.environ[\"GOOGLE_API_KEY\"] = \"insert your api key here\"\n",
    "# embeddings = GoogleGenerativeAIEmbeddings(model=\"models/embedding-001\")\n",
    "# vectorstore = Chroma.from_documents(doc, embeddings, persist_directory=\"./chroma_db\")\n",
    "# vectorstore._collection.count()"
   ]
  },
  {
   "cell_type": "markdown",
   "id": "e5608170-50c5-4603-b56e-72ced445f66b",
   "metadata": {},
   "source": [
    "#### Create Chroma Vector DB with HuggingFace Bert Embeddings"
   ]
  },
  {
   "cell_type": "code",
   "execution_count": 6,
   "id": "c114f153-4fe1-43f6-a638-1b0f5a8f50d4",
   "metadata": {},
   "outputs": [],
   "source": [
    "from langchain.embeddings import SentenceTransformerEmbeddings"
   ]
  },
  {
   "cell_type": "code",
   "execution_count": 8,
   "id": "2b124305-e4c4-498c-b74e-fb0e601148a8",
   "metadata": {},
   "outputs": [
    {
     "data": {
      "application/vnd.jupyter.widget-view+json": {
       "model_id": "ac2d1d8790e744c3acf12ad08426c1eb",
       "version_major": 2,
       "version_minor": 0
      },
      "text/plain": [
       "modules.json:   0%|          | 0.00/229 [00:00<?, ?B/s]"
      ]
     },
     "metadata": {},
     "output_type": "display_data"
    },
    {
     "name": "stderr",
     "output_type": "stream",
     "text": [
      "C:\\Users\\Kheng\\anaconda3\\Lib\\site-packages\\huggingface_hub\\file_download.py:149: UserWarning: `huggingface_hub` cache-system uses symlinks by default to efficiently store duplicated files but your machine does not support them in C:\\Users\\Kheng\\.cache\\huggingface\\hub\\models--WhereIsAI--UAE-Large-V1. Caching files will still work but in a degraded version that might require more space on your disk. This warning can be disabled by setting the `HF_HUB_DISABLE_SYMLINKS_WARNING` environment variable. For more details, see https://huggingface.co/docs/huggingface_hub/how-to-cache#limitations.\n",
      "To support symlinks on Windows, you either need to activate Developer Mode or to run Python as an administrator. In order to see activate developer mode, see this article: https://docs.microsoft.com/en-us/windows/apps/get-started/enable-your-device-for-development\n",
      "  warnings.warn(message)\n"
     ]
    },
    {
     "data": {
      "application/vnd.jupyter.widget-view+json": {
       "model_id": "4c04897a18074170baab8a7c541cdb57",
       "version_major": 2,
       "version_minor": 0
      },
      "text/plain": [
       "config_sentence_transformers.json:   0%|          | 0.00/171 [00:00<?, ?B/s]"
      ]
     },
     "metadata": {},
     "output_type": "display_data"
    },
    {
     "data": {
      "application/vnd.jupyter.widget-view+json": {
       "model_id": "e324dac018ef41578bfdc4396ce87736",
       "version_major": 2,
       "version_minor": 0
      },
      "text/plain": [
       "README.md:   0%|          | 0.00/65.3k [00:00<?, ?B/s]"
      ]
     },
     "metadata": {},
     "output_type": "display_data"
    },
    {
     "data": {
      "application/vnd.jupyter.widget-view+json": {
       "model_id": "e0e7cb6bf17b44d4b4bfa2f705109b0e",
       "version_major": 2,
       "version_minor": 0
      },
      "text/plain": [
       "sentence_bert_config.json:   0%|          | 0.00/53.0 [00:00<?, ?B/s]"
      ]
     },
     "metadata": {},
     "output_type": "display_data"
    },
    {
     "data": {
      "application/vnd.jupyter.widget-view+json": {
       "model_id": "9dde2ec5e51e4e7d9c08ddb1d30c3e61",
       "version_major": 2,
       "version_minor": 0
      },
      "text/plain": [
       "config.json:   0%|          | 0.00/655 [00:00<?, ?B/s]"
      ]
     },
     "metadata": {},
     "output_type": "display_data"
    },
    {
     "data": {
      "application/vnd.jupyter.widget-view+json": {
       "model_id": "13157bc0dc9f4ca587d315137a5b2c22",
       "version_major": 2,
       "version_minor": 0
      },
      "text/plain": [
       "model.safetensors:   0%|          | 0.00/1.34G [00:00<?, ?B/s]"
      ]
     },
     "metadata": {},
     "output_type": "display_data"
    },
    {
     "data": {
      "application/vnd.jupyter.widget-view+json": {
       "model_id": "78265c3e3e2643ad9243288040fe2ea1",
       "version_major": 2,
       "version_minor": 0
      },
      "text/plain": [
       "tokenizer_config.json:   0%|          | 0.00/1.24k [00:00<?, ?B/s]"
      ]
     },
     "metadata": {},
     "output_type": "display_data"
    },
    {
     "data": {
      "application/vnd.jupyter.widget-view+json": {
       "model_id": "e8221a86134c4dfd86e0772211146ec8",
       "version_major": 2,
       "version_minor": 0
      },
      "text/plain": [
       "vocab.txt:   0%|          | 0.00/232k [00:00<?, ?B/s]"
      ]
     },
     "metadata": {},
     "output_type": "display_data"
    },
    {
     "data": {
      "application/vnd.jupyter.widget-view+json": {
       "model_id": "7e476ec8e9d24be2a5ca0a77f59c4c6b",
       "version_major": 2,
       "version_minor": 0
      },
      "text/plain": [
       "tokenizer.json:   0%|          | 0.00/711k [00:00<?, ?B/s]"
      ]
     },
     "metadata": {},
     "output_type": "display_data"
    },
    {
     "data": {
      "application/vnd.jupyter.widget-view+json": {
       "model_id": "594ddb4b5b424be0bf7506341d2bde21",
       "version_major": 2,
       "version_minor": 0
      },
      "text/plain": [
       "special_tokens_map.json:   0%|          | 0.00/125 [00:00<?, ?B/s]"
      ]
     },
     "metadata": {},
     "output_type": "display_data"
    },
    {
     "data": {
      "application/vnd.jupyter.widget-view+json": {
       "model_id": "b5aa13f90f64459b92852cce14849b9a",
       "version_major": 2,
       "version_minor": 0
      },
      "text/plain": [
       "1_Pooling/config.json:   0%|          | 0.00/297 [00:00<?, ?B/s]"
      ]
     },
     "metadata": {},
     "output_type": "display_data"
    }
   ],
   "source": [
    "embeddings=SentenceTransformerEmbeddings(model_name=\"WhereIsAI/UAE-Large-V1\")"
   ]
  },
  {
   "cell_type": "code",
   "execution_count": 25,
   "id": "a60489c4-3c7d-4bc7-a3d9-f9064fbc6f34",
   "metadata": {},
   "outputs": [
    {
     "data": {
      "text/plain": [
       "[-0.10548216849565506, -0.06547529995441437, -0.2753311097621918]"
      ]
     },
     "execution_count": 25,
     "metadata": {},
     "output_type": "execute_result"
    }
   ],
   "source": [
    "query_result = embeddings.embed_query(\"quit smoking\")\n",
    "query_result[:3]"
   ]
  },
  {
   "cell_type": "code",
   "execution_count": null,
   "id": "cd85b2a0-ef3c-4563-879e-45feffb3cc66",
   "metadata": {},
   "outputs": [],
   "source": [
    "from langchain_chroma import Chroma\n",
    "\n",
    "bert = Chroma.from_documents(doc, embeddings, persist_directory=\"./bert_db\")"
   ]
  },
  {
   "cell_type": "code",
   "execution_count": null,
   "id": "532da893-876f-4184-945c-923227e7778f",
   "metadata": {},
   "outputs": [],
   "source": []
  }
 ],
 "metadata": {
  "kernelspec": {
   "display_name": "Python 3 (ipykernel)",
   "language": "python",
   "name": "python3"
  },
  "language_info": {
   "codemirror_mode": {
    "name": "ipython",
    "version": 3
   },
   "file_extension": ".py",
   "mimetype": "text/x-python",
   "name": "python",
   "nbconvert_exporter": "python",
   "pygments_lexer": "ipython3",
   "version": "3.11.9"
  }
 },
 "nbformat": 4,
 "nbformat_minor": 5
}
