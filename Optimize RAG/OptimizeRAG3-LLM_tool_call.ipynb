{
 "cells": [
  {
   "cell_type": "markdown",
   "id": "81e4f91b-20f2-439c-ab7d-c3c4abc419f5",
   "metadata": {},
   "source": [
    "#### Import Chat Model"
   ]
  },
  {
   "cell_type": "code",
   "execution_count": 1,
   "id": "7fce9c3f-a9b9-46f1-81e9-fec9888e7591",
   "metadata": {},
   "outputs": [],
   "source": [
    "import os\n",
    "os.environ[\"COHERE_API_KEY\"] = \"insert your api key here\"\n",
    "from langchain_cohere import ChatCohere #!pip install langchain-cohere\n",
    "llm = ChatCohere(model='command-r', temperature=0)\n",
    "#Trial API keys: limited to 100 API calls per minute"
   ]
  },
  {
   "cell_type": "markdown",
   "id": "0970e4b3-ce9c-4278-b50c-e45db11e2f30",
   "metadata": {},
   "source": [
    "#### A function/tool to extract information"
   ]
  },
  {
   "cell_type": "code",
   "execution_count": 2,
   "id": "464155be-0d12-4026-82cd-17ed0a984d4e",
   "metadata": {},
   "outputs": [],
   "source": [
    "from typing import Optional\n",
    "from pprint import pprint\n",
    "from langchain_core.pydantic_v1 import BaseModel, Field\n",
    "from langchain_core.tools import tool\n",
    "\n",
    "class extract(BaseModel):\n",
    "    \"\"\"Extract search terms to search in a database of organisations in South Australia.\"\"\"\n",
    "\n",
    "    content_search: str = Field(\n",
    "        ...,\n",
    "        description=\"Similarity search query applied to service that the organisation can provide and the organisation location.\",\n",
    "    )\n",
    "    \n",
    "    location: Optional[str] = Field(\n",
    "        None,\n",
    "        description=\"The location of the service requested.\",\n",
    "    )\n",
    "    \n",
    "llm_with_tools = llm.bind_tools([extract])\n"
   ]
  },
  {
   "cell_type": "markdown",
   "id": "a39ff266-4a09-499b-95c2-8154d2a83280",
   "metadata": {},
   "source": [
    "#### Use LLM to decide whether to use tool or chat"
   ]
  },
  {
   "cell_type": "code",
   "execution_count": 3,
   "id": "4a9e042e-5003-40a1-aac0-6c8e1b5355a7",
   "metadata": {},
   "outputs": [],
   "source": [
    "result = llm_with_tools.invoke(\"Financial service in Marion\")"
   ]
  },
  {
   "cell_type": "code",
   "execution_count": 4,
   "id": "0d7f5ae8-bc90-4e31-9a14-26357882b4e3",
   "metadata": {},
   "outputs": [
    {
     "data": {
      "text/plain": [
       "AIMessage(content='', additional_kwargs={'documents': None, 'citations': None, 'search_results': None, 'search_queries': None, 'is_search_required': None, 'generation_id': '2cad292b-631c-42dd-99f4-5c5ac26ffc55', 'tool_calls': [{'id': 'b9f7458a7dc647eb93a3d7c6ebc3c0a6', 'function': {'name': 'extract', 'arguments': '{\"content_search\": \"financial service in Marion\", \"location\": \"Marion\"}'}, 'type': 'function'}], 'token_count': {'output_tokens': 15}}, response_metadata={'documents': None, 'citations': None, 'search_results': None, 'search_queries': None, 'is_search_required': None, 'generation_id': '2cad292b-631c-42dd-99f4-5c5ac26ffc55', 'tool_calls': [{'id': 'b9f7458a7dc647eb93a3d7c6ebc3c0a6', 'function': {'name': 'extract', 'arguments': '{\"content_search\": \"financial service in Marion\", \"location\": \"Marion\"}'}, 'type': 'function'}], 'token_count': {'output_tokens': 15}}, id='run-b6029174-c240-42ad-84e7-524521b0513d-0', tool_calls=[{'name': 'extract', 'args': {'content_search': 'financial service in Marion', 'location': 'Marion'}, 'id': '8c1f1e64aa614fa1a15fc3a2c2e6cd8d'}])"
      ]
     },
     "execution_count": 4,
     "metadata": {},
     "output_type": "execute_result"
    }
   ],
   "source": [
    "result"
   ]
  },
  {
   "cell_type": "markdown",
   "id": "157aa288-f844-42cd-9d2e-4acbf4c60a3a",
   "metadata": {},
   "source": [
    "#### LLM used tool call and extract the relevant information"
   ]
  },
  {
   "cell_type": "code",
   "execution_count": 5,
   "id": "e0e70718-6981-47a2-a480-8a47e7c73a5d",
   "metadata": {},
   "outputs": [
    {
     "data": {
      "text/plain": [
       "[{'name': 'extract',\n",
       "  'args': {'content_search': 'financial service in Marion',\n",
       "   'location': 'Marion'},\n",
       "  'id': '8c1f1e64aa614fa1a15fc3a2c2e6cd8d'}]"
      ]
     },
     "execution_count": 5,
     "metadata": {},
     "output_type": "execute_result"
    }
   ],
   "source": [
    "result.tool_calls"
   ]
  },
  {
   "cell_type": "markdown",
   "id": "70a72362-1a81-45df-8877-fec2ced1dade",
   "metadata": {},
   "source": [
    "#### Can it have normal conversation?"
   ]
  },
  {
   "cell_type": "code",
   "execution_count": 6,
   "id": "e32a30ec-40f0-4e98-ad0a-505792309ab5",
   "metadata": {},
   "outputs": [],
   "source": [
    "result=llm_with_tools.invoke(\"Hello\")"
   ]
  },
  {
   "cell_type": "code",
   "execution_count": 7,
   "id": "db01530d-975f-4445-a78a-63cb43576f39",
   "metadata": {},
   "outputs": [
    {
     "data": {
      "text/plain": [
       "AIMessage(content=\"Hi! Hello there! How's it going? I hope you're having a fantastic day so far. Is there anything I can help you with?\", additional_kwargs={'documents': None, 'citations': None, 'search_results': None, 'search_queries': None, 'is_search_required': None, 'generation_id': 'f4536f8d-00fb-4440-8d25-3dad01359024', 'token_count': {'input_tokens': 67, 'output_tokens': 30}}, response_metadata={'documents': None, 'citations': None, 'search_results': None, 'search_queries': None, 'is_search_required': None, 'generation_id': 'f4536f8d-00fb-4440-8d25-3dad01359024', 'token_count': {'input_tokens': 67, 'output_tokens': 30}}, id='run-67a54240-cea5-440f-8678-5d884b5961de-0')"
      ]
     },
     "execution_count": 7,
     "metadata": {},
     "output_type": "execute_result"
    }
   ],
   "source": [
    "result"
   ]
  },
  {
   "cell_type": "markdown",
   "id": "b665786e-ed10-4c08-afa7-3d67e5f7b3f6",
   "metadata": {},
   "source": [
    "#### YES, it is talking to us and did not use the tool"
   ]
  },
  {
   "cell_type": "code",
   "execution_count": 8,
   "id": "37ed7023-9fc3-4874-9d5a-212aeb2800c2",
   "metadata": {},
   "outputs": [
    {
     "data": {
      "text/plain": [
       "\"Hi! Hello there! How's it going? I hope you're having a fantastic day so far. Is there anything I can help you with?\""
      ]
     },
     "execution_count": 8,
     "metadata": {},
     "output_type": "execute_result"
    }
   ],
   "source": [
    "result.content"
   ]
  },
  {
   "cell_type": "code",
   "execution_count": 9,
   "id": "0c8351da-8812-4daf-86b1-7ae52f3b94f6",
   "metadata": {},
   "outputs": [
    {
     "data": {
      "text/plain": [
       "[]"
      ]
     },
     "execution_count": 9,
     "metadata": {},
     "output_type": "execute_result"
    }
   ],
   "source": [
    "result.tool_calls"
   ]
  },
  {
   "cell_type": "code",
   "execution_count": null,
   "id": "7f5aef7d-de27-471d-8cb6-742dd7ba7c77",
   "metadata": {},
   "outputs": [],
   "source": []
  }
 ],
 "metadata": {
  "kernelspec": {
   "display_name": "Python 3 (ipykernel)",
   "language": "python",
   "name": "python3"
  },
  "language_info": {
   "codemirror_mode": {
    "name": "ipython",
    "version": 3
   },
   "file_extension": ".py",
   "mimetype": "text/x-python",
   "name": "python",
   "nbconvert_exporter": "python",
   "pygments_lexer": "ipython3",
   "version": "3.11.9"
  }
 },
 "nbformat": 4,
 "nbformat_minor": 5
}
