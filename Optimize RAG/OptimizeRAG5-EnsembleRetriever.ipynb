{
 "cells": [
  {
   "cell_type": "markdown",
   "id": "9da0b60d-b0a0-40c3-9324-96a3d43fbbfd",
   "metadata": {},
   "source": [
    "# Ensemble Retriever"
   ]
  },
  {
   "cell_type": "markdown",
   "id": "3b8810b3-cc95-4822-b5a7-b9169be4cd5a",
   "metadata": {},
   "source": [
    "This ensemble retriever combine both dense and sparse retriever to retrieve more relevant results.  \n",
    "Embedding and creating vectordatabase and search from the database like FAISS is a type of dense retrieval.  \n",
    "bm25 is a type of sparse retriever which include splitting the queries and documents and search for similar words without embedding.  "
   ]
  },
  {
   "cell_type": "code",
   "execution_count": 28,
   "id": "831261d4-2639-49b6-9828-6bdfaf849f76",
   "metadata": {},
   "outputs": [],
   "source": [
    "#extract the important data\n",
    "import pandas as pd\n",
    "data=pd.read_csv('decoded_sacom.csv')\n",
    "data.drop([\"S Street Addr 1\",\"S Street Addr 2\",\"S State\",\"S Postcode\",'Phone','Mobile', 'Email', 'Website', 'Open Hours', 'Wheelchair Access','Toilets Access', 'Disabled Parking'],axis=1, inplace=True)\n",
    "service = data.drop(['Subjects'],axis=1)\n",
    "subject = data.drop(['Services'],axis=1)\n",
    "service['Services'] = service['Services'].str.split('\\n')\n",
    "service = service.explode('Services')\n",
    "subject['Subjects'] = subject['Subjects'].str.split(';')\n",
    "subject = subject.explode('Subjects')\n",
    "combined_df = pd.concat([service, subject])\n",
    "combined_df = combined_df.reset_index(drop=True) #reset the index as when splitting and combined, the index are jumbled up\n",
    "#combined_df.to_csv('filtered_sacom.csv', index=False)"
   ]
  },
  {
   "cell_type": "code",
   "execution_count": 29,
   "id": "e15855cd-7a16-4435-8c17-63d7d80c9b10",
   "metadata": {},
   "outputs": [],
   "source": [
    "location=data[\"S Suburb\"].str.lower() #extract the location and council for metadata\n",
    "council=data[\"Council\"].str.lower()\n",
    "data2=data.drop(['S Suburb','Council'],axis=1)"
   ]
  },
  {
   "cell_type": "code",
   "execution_count": 30,
   "id": "29e802c0-724a-44d8-a8cd-8bc7fdce9d75",
   "metadata": {},
   "outputs": [],
   "source": [
    "#create the documents \n",
    "def create_row_strings(df):\n",
    "    row_strings = []  # Initialize an empty list to store row strings\n",
    "    # Iterate over each row in the DataFrame\n",
    "    for index, row in df.iterrows():\n",
    "        # Initialize an empty list to store column name-value pairs\n",
    "        column_value_pairs = []\n",
    "\n",
    "        # Iterate over each column in the row\n",
    "        for column_name, value in row.items():\n",
    "            # Check if the value is not null (not NaN)\n",
    "            if pd.notna(value):\n",
    "                # Format column name and value as \"column_name: value\"\n",
    "                column_value_pair = f\"{column_name}: {value}\"\n",
    "                column_value_pairs.append(column_value_pair)\n",
    "\n",
    "        # Join column name-value pairs with newline separator\n",
    "        formatted_row_string = \" \\n\".join(column_value_pairs)\n",
    "\n",
    "        # Append the formatted row string to the list\n",
    "        row_strings.append(formatted_row_string)\n",
    "\n",
    "    return row_strings\n",
    "\n",
    "# Create a list of row strings\n",
    "doc_list= create_row_strings(data)\n",
    "doc_list2= create_row_strings(data2)\n",
    "#splited_list = create_row_strings(combined_df)\n"
   ]
  },
  {
   "cell_type": "code",
   "execution_count": 45,
   "id": "ffaff5b2-cd62-4ebe-a0ea-0e569e13df88",
   "metadata": {},
   "outputs": [
    {
     "data": {
      "text/plain": [
       "14378"
      ]
     },
     "execution_count": 45,
     "metadata": {},
     "output_type": "execute_result"
    }
   ],
   "source": [
    "len(doc_list)"
   ]
  },
  {
   "cell_type": "code",
   "execution_count": 41,
   "id": "8125b4e4-ce64-4ad6-81df-531995be1394",
   "metadata": {},
   "outputs": [
    {
     "data": {
      "text/plain": [
       "'Org ID: 193932 \\nOrg Name: RSL Ardrossan Sub Branch \\nAKA: Ardrossan RSL; Returned & Services League Ardrossan \\nS Suburb: Ardrossan \\nServices: Welfare and pensions support for ex-servicemen and their families\\nSocial and recreational activities\\nCommemoration activities - ANZAC Day, Remembrance Day and other significant events \\nOrg Type: Business \\nLocal Community dir: Service Clubs \\nSubjects: Ex-Defence Service Groups; Halls For Hire; Social & Activity Groups; Support & Resource Groups; Veterans \\nPrimary Category: Recreation \\nCouncil: Yorke Peninsula Council'"
      ]
     },
     "execution_count": 41,
     "metadata": {},
     "output_type": "execute_result"
    }
   ],
   "source": [
    "doc_list[0]"
   ]
  },
  {
   "cell_type": "code",
   "execution_count": 46,
   "id": "6f88aa65-c239-4f05-bfab-c00a7d4dc50f",
   "metadata": {},
   "outputs": [],
   "source": [
    "import json\n",
    "\n",
    "# Use json.dump to write the list to a file\n",
    "with open('sacommunity.json', 'w') as f:\n",
    "    json.dump(doc_list, f)"
   ]
  },
  {
   "cell_type": "code",
   "execution_count": 31,
   "id": "aafeaa70-42f4-4772-b615-d6241e9d2b42",
   "metadata": {},
   "outputs": [],
   "source": [
    "#create langchain document\n",
    "from langchain_core.documents import Document\n",
    "\n",
    "def create_documents(lis):\n",
    "    documents=[]\n",
    "    for i in range(len(lis)):\n",
    "        page=Document(page_content = lis[i])\n",
    "        documents.append(page)\n",
    "    return documents\n",
    "    \n",
    "docs = create_documents(doc_list) #without metadata\n",
    "#docs2 = create_documents(doc_list2) #location and council into metadata\n",
    "#splits = create_documents(splited_list)"
   ]
  },
  {
   "cell_type": "code",
   "execution_count": 32,
   "id": "cd612528-138f-4240-8bce-6c48e53b1b2e",
   "metadata": {},
   "outputs": [
    {
     "name": "stdout",
     "output_type": "stream",
     "text": [
      "page_content='Org ID: 193932 \\nOrg Name: RSL Ardrossan Sub Branch \\nAKA: Ardrossan RSL; Returned & Services League Ardrossan \\nS Suburb: Ardrossan \\nServices: Welfare and pensions support for ex-servicemen and their families\\nSocial and recreational activities\\nCommemoration activities - ANZAC Day, Remembrance Day and other significant events \\nOrg Type: Business \\nLocal Community dir: Service Clubs \\nSubjects: Ex-Defence Service Groups; Halls For Hire; Social & Activity Groups; Support & Resource Groups; Veterans \\nPrimary Category: Recreation \\nCouncil: Yorke Peninsula Council'\n"
     ]
    }
   ],
   "source": [
    "print(docs[0])"
   ]
  },
  {
   "cell_type": "markdown",
   "id": "44622346-cd45-49dc-b2d3-cc14f0f8ed1a",
   "metadata": {},
   "source": [
    "##### Initialize sparse retriever(bm25) which retrieve directly from the documents"
   ]
  },
  {
   "cell_type": "code",
   "execution_count": 33,
   "id": "bf130cf0-bd57-41b5-ab54-6ed64af971d3",
   "metadata": {},
   "outputs": [],
   "source": [
    "#!pip install rank_bm25\n",
    "from langchain_community.retrievers import BM25Retriever\n",
    "retriever = BM25Retriever.from_documents(docs, k=5) #return k results\n",
    "retriever2 = BM25Retriever.from_documents(docs2, k=5)"
   ]
  },
  {
   "cell_type": "code",
   "execution_count": 34,
   "id": "aa065ae4-e10d-4841-874a-d03ac9d72a1e",
   "metadata": {},
   "outputs": [
    {
     "data": {
      "text/plain": [
       "[Document(page_content='Org ID: 199358 \\nOrg Name: Workskil Australia - Kangaroo Island \\nS Suburb:  Kingscote \\nServices: Access to Government assistance\\nHelp with registering for ongoing assistance to help search for work, obtain financial assistance with training, clothes and other items. \\nPeople who have registered to receive bush fire assistance payments can be assisted to access other support services.\\nThose who have lost their job or have had reduced hours as a result of the bush fires can be connected with other support services.\\nAccess to job vacancies on the Island.\\nHelp can be offered to coordinate any ongoing mental health support, using financial assistance to cover costs. \\nOrg Type: Community \\nLocal Community dir: Employment Services \\nSubjects: Employment Assistance Programs; Employment Counselling; Employment Services \\nPrimary Category: Employment \\nCouncil: Kangaroo Island Council'),\n",
       " Document(page_content='Org ID: 202974 \\nOrg Name: Rural Business Support \\nAKA: Rural Financial Counselling Service SA \\nAcronym: RBS \\nS Suburb: Magill \\nServices: Rural Financial Counselling Service\\nCounselling on Business and financial goals, plans, and risk management strategies, future projections, succession planning, family meetings, financial assistance & referrals to support\\nSmall Business Financial Counselling Service\\nProvides support to small business with financial issues, developing budgets and cash flows, negotiating with creditors, accessing dispute resolution services, professional advice and support, applying for government and community grants, programs or schemes\\nFarm Business Management Programs\\nAssistance to manage change, risk and business challenges run on a cost-recovery basis  \\nOrg Type: Community \\nLocal Community dir: Business Advice \\nSubjects: Financial Counselling; Rural Counselling; Rural Information Services; Rural Interest Groups \\nPrimary Category: Finance, Income, Business \\nCouncil: City of Burnside'),\n",
       " Document(page_content='Org ID: 202811 \\nOrg Name: Mount Gambier Community Centre \\nAKA: Anglican Community Care Inc. Community Support Centre; Community Support Centre Mount Gambier  \\nS Suburb: Mount Gambier \\nServices: Adult community education - computer technology, budget cooking, arts and crafts, employment preparation programs\\nEmergency relief - food assistance by appointment. Further assistance available upon referral to financial counsellor \\nEmergency accommodation by appointment\\nInformation and referral\\nMeeting room for hire \\nOrg Type: Community \\nLocal Community dir: Community Centres \\nSubjects: Community Centres; Computing; Financial Assistance; Fitness; Food Assistance \\nPrimary Category: Recreation \\nCouncil: City of Mount Gambier'),\n",
       " Document(page_content='Org ID: 231224 \\nOrg Name: Paws & People - Living Ruff or doing it Tough in SA \\nAKA: Paws & People; Pay It Paw-ward Scheme \\nAcronym: P&P----PIPS \\nS Suburb: Mount Barker \\nServices: Provide short term boarding up to max. 3 months for pets of people going into hospital or find themselves homeless and need to find alternate pet friendly accommodation.\\nProvide financial assistance to people experiencing financial crisis whose pets need urgent vet medical treatment. \\nOrg Type: Community \\nLocal Community dir: Animal Welfare \\nSubjects: Animals, Birds; Boarding Facilities (Cats); Boarding Kennels; Cats; Dogs; Emergency Finance; Petsitting Services \\nPrimary Category: Animals, Birds \\nCouncil: Mount Barker District Council'),\n",
       " Document(page_content='Org ID: 200553 \\nOrg Name: Encounter Care \\nFormer Name: Salt Services Group \\nS Suburb: Evanston Gardens \\nServices: Emergency food relief - Free Food Thursday\\nEmergency financial assistance\\nNo interest loans\\nCommunity housing application referrals\\nCounselling clinic & recovery courses \\nOrg Type: Business \\nLocal Community dir: Personal & Family Support \\nSubjects: Community Centres; Counselling; Food; Food Assistance \\nPrimary Category: Community Organisation & Development \\nCouncil: Town of Gawler')]"
      ]
     },
     "execution_count": 34,
     "metadata": {},
     "output_type": "execute_result"
    }
   ],
   "source": [
    "retriever.invoke(\"financial assistance marion\")"
   ]
  },
  {
   "cell_type": "code",
   "execution_count": 35,
   "id": "8c9e0c83-4d70-49ab-a84e-8e4ba4284937",
   "metadata": {},
   "outputs": [
    {
     "data": {
      "text/plain": [
       "[Document(page_content='Org ID: 199358 \\nOrg Name: Workskil Australia - Kangaroo Island \\nServices: Access to Government assistance\\nHelp with registering for ongoing assistance to help search for work, obtain financial assistance with training, clothes and other items. \\nPeople who have registered to receive bush fire assistance payments can be assisted to access other support services.\\nThose who have lost their job or have had reduced hours as a result of the bush fires can be connected with other support services.\\nAccess to job vacancies on the Island.\\nHelp can be offered to coordinate any ongoing mental health support, using financial assistance to cover costs. \\nOrg Type: Community \\nLocal Community dir: Employment Services \\nSubjects: Employment Assistance Programs; Employment Counselling; Employment Services \\nPrimary Category: Employment', metadata={'location': ' kingscote', 'council': 'kangaroo island council'}),\n",
       " Document(page_content='Org ID: 202974 \\nOrg Name: Rural Business Support \\nAKA: Rural Financial Counselling Service SA \\nAcronym: RBS \\nServices: Rural Financial Counselling Service\\nCounselling on Business and financial goals, plans, and risk management strategies, future projections, succession planning, family meetings, financial assistance & referrals to support\\nSmall Business Financial Counselling Service\\nProvides support to small business with financial issues, developing budgets and cash flows, negotiating with creditors, accessing dispute resolution services, professional advice and support, applying for government and community grants, programs or schemes\\nFarm Business Management Programs\\nAssistance to manage change, risk and business challenges run on a cost-recovery basis  \\nOrg Type: Community \\nLocal Community dir: Business Advice \\nSubjects: Financial Counselling; Rural Counselling; Rural Information Services; Rural Interest Groups \\nPrimary Category: Finance, Income, Business', metadata={'location': 'magill', 'council': 'city of burnside'}),\n",
       " Document(page_content='Org ID: 202811 \\nOrg Name: Mount Gambier Community Centre \\nAKA: Anglican Community Care Inc. Community Support Centre; Community Support Centre Mount Gambier  \\nServices: Adult community education - computer technology, budget cooking, arts and crafts, employment preparation programs\\nEmergency relief - food assistance by appointment. Further assistance available upon referral to financial counsellor \\nEmergency accommodation by appointment\\nInformation and referral\\nMeeting room for hire \\nOrg Type: Community \\nLocal Community dir: Community Centres \\nSubjects: Community Centres; Computing; Financial Assistance; Fitness; Food Assistance \\nPrimary Category: Recreation', metadata={'location': 'mount gambier', 'council': 'city of mount gambier'}),\n",
       " Document(page_content='Org ID: 200553 \\nOrg Name: Encounter Care \\nFormer Name: Salt Services Group \\nServices: Emergency food relief - Free Food Thursday\\nEmergency financial assistance\\nNo interest loans\\nCommunity housing application referrals\\nCounselling clinic & recovery courses \\nOrg Type: Business \\nLocal Community dir: Personal & Family Support \\nSubjects: Community Centres; Counselling; Food; Food Assistance \\nPrimary Category: Community Organisation & Development', metadata={'location': 'evanston gardens', 'council': 'town of gawler'}),\n",
       " Document(page_content='Org ID: 231224 \\nOrg Name: Paws & People - Living Ruff or doing it Tough in SA \\nAKA: Paws & People; Pay It Paw-ward Scheme \\nAcronym: P&P----PIPS \\nServices: Provide short term boarding up to max. 3 months for pets of people going into hospital or find themselves homeless and need to find alternate pet friendly accommodation.\\nProvide financial assistance to people experiencing financial crisis whose pets need urgent vet medical treatment. \\nOrg Type: Community \\nLocal Community dir: Animal Welfare \\nSubjects: Animals, Birds; Boarding Facilities (Cats); Boarding Kennels; Cats; Dogs; Emergency Finance; Petsitting Services \\nPrimary Category: Animals, Birds', metadata={'location': 'mount barker', 'council': 'mount barker district council'})]"
      ]
     },
     "execution_count": 35,
     "metadata": {},
     "output_type": "execute_result"
    }
   ],
   "source": [
    "retriever2.invoke(\"financial assistance marion\")"
   ]
  },
  {
   "cell_type": "markdown",
   "id": "c587cf91-bdbb-42d3-abd9-abb6fc52a543",
   "metadata": {},
   "source": [
    "##### Create a FAISS vector database by convert the documents into embeddings and add to the FAISS"
   ]
  },
  {
   "cell_type": "code",
   "execution_count": 9,
   "id": "4bf22e5b-5f4b-48c7-b9b6-01d8439a99a1",
   "metadata": {},
   "outputs": [],
   "source": [
    "import os\n",
    "from langchain_google_genai import GoogleGenerativeAIEmbeddings\n",
    "os.environ[\"GOOGLE_API_KEY\"] = \"insert your api key here\"\n",
    "embeddings = GoogleGenerativeAIEmbeddings(model=\"models/embedding-001\")\n",
    "\n",
    "from langchain_community.vectorstores import FAISS\n",
    "# faiss = FAISS.from_documents(doc, embeddings)\n",
    "# faiss.save_local(\"faiss_index2\") #save to local folder"
   ]
  },
  {
   "cell_type": "markdown",
   "id": "0f13897c-f484-4466-8aba-e66f9b5413de",
   "metadata": {},
   "source": [
    "##### Initialise dense retriever (FAISS)"
   ]
  },
  {
   "cell_type": "code",
   "execution_count": 12,
   "id": "1929f52c-281f-4558-8c95-2f8a775fec9c",
   "metadata": {},
   "outputs": [],
   "source": [
    "faiss=FAISS.load_local(\"faiss_index2\", embeddings, allow_dangerous_deserialization=True)\n",
    "faiss_retriever = faiss.as_retriever(search_kwargs={\"k\": 10}) #return 10 results"
   ]
  },
  {
   "cell_type": "code",
   "execution_count": 18,
   "id": "7cdc4e06-e903-425d-8f17-d5bbb7516e4b",
   "metadata": {},
   "outputs": [
    {
     "data": {
      "text/plain": [
       "[Document(page_content='Org ID: 204141 \\nOrg Name: Marion Tennis Club \\nS Suburb: Marion \\nOrg Type: Community \\nLocal Community dir: Tennis \\nPrimary Category: Recreation \\nCouncil: City of Marion \\nSubjects:  Halls For Hire'),\n",
       " Document(page_content='Org ID: 203702 \\nOrg Name: Marion Bowling Club \\nS Suburb: Marion \\nOrg Type: Community \\nLocal Community dir: Bowling \\nPrimary Category: Recreation \\nCouncil: City of Marion \\nSubjects:  Halls For Hire'),\n",
       " Document(page_content='Org ID: 217527 \\nOrg Name: District Council of Karoonda East Murray  \\nS Suburb: Karoonda \\nOrg Type: Government \\nLocal Community dir: Local Government \\nPrimary Category: Government \\nCouncil: Karoonda East Murray \\nSubjects:  Halls For Hire'),\n",
       " Document(page_content='Org ID: 203662 \\nOrg Name: Active Elders Association Inc. \\nS Suburb: Ascot Park \\nOrg Type: Community \\nLocal Community dir: Seniors \\nPrimary Category: Recreation \\nCouncil: City of Marion \\nSubjects:  Halls For Hire'),\n",
       " Document(page_content='Org ID: 217582 \\nOrg Name: District Council of Peterborough \\nAKA: Peterborough, District Council of \\nS Suburb: Peterborough \\nOrg Type: Government \\nLocal Community dir: Local Government \\nPrimary Category: Government \\nCouncil: Peterborough \\nSubjects:  Halls For Hire'),\n",
       " Document(page_content='Org ID: 195038 \\nOrg Name: Salisbury High School \\nS Suburb: Salisbury North \\nOrg Type: Government \\nLocal Community dir: Secondary Schools \\nPrimary Category: Education \\nCouncil: City of Salisbury \\nSubjects: Halls For Hire'),\n",
       " Document(page_content='Org ID: 238293 \\nOrg Name: North Adelaide Baroque Hall \\nAKA: Baroque Hall \\nS Suburb: North Adelaide \\nOrg Type: Government \\nPrimary Category: Recreation \\nCouncil: City of Adelaide \\nSubjects:  Folk Music'),\n",
       " Document(page_content='Org ID: 206887 \\nOrg Name: Virginia Institute \\nS Suburb: Virginia \\nOrg Type: Community \\nLocal Community dir: Halls & Venues for Hire \\nPrimary Category: Community Organisation & Development \\nCouncil: City of Playford \\nSubjects: Halls For Hire'),\n",
       " Document(page_content='Org ID: 238425 \\nOrg Name: Karoonda Institute \\nS Suburb: Karoonda \\nOrg Type: Government \\nLocal Community dir: Community Organisations & Facilities \\nPrimary Category: Community Organisation & Development \\nCouncil: Karoonda East Murray \\nSubjects:  Halls For Hire'),\n",
       " Document(page_content='Org ID: 204144 \\nOrg Name: Corner Uniting Church \\nS Suburb: Warradale \\nOrg Type: Community \\nLocal Community dir: Uniting Church \\nPrimary Category: Religions & Philosophies \\nCouncil: City of Marion \\nSubjects:  Halls For Hire')]"
      ]
     },
     "execution_count": 18,
     "metadata": {},
     "output_type": "execute_result"
    }
   ],
   "source": [
    "faiss_retriever.invoke(\"hall for hire marion\")"
   ]
  },
  {
   "cell_type": "code",
   "execution_count": 14,
   "id": "7a1b02a5-bd8c-45c0-89a0-47c2d528ffa0",
   "metadata": {},
   "outputs": [],
   "source": [
    "from langchain.retrievers import EnsembleRetriever\n",
    "ensemble_retriever = EnsembleRetriever(\n",
    "    retrievers=[retriever, faiss_retriever], weights=[0.5, 0.5]\n",
    ")"
   ]
  },
  {
   "cell_type": "code",
   "execution_count": 25,
   "id": "30dc793e-b6d9-4048-a2bd-3c5c2559b3d1",
   "metadata": {},
   "outputs": [],
   "source": [
    "result=ensemble_retriever.invoke(\"quit smoking\")"
   ]
  },
  {
   "cell_type": "code",
   "execution_count": 26,
   "id": "1513241e-070f-4b93-abdc-46bb6a7b4b25",
   "metadata": {},
   "outputs": [
    {
     "data": {
      "text/plain": [
       "15"
      ]
     },
     "execution_count": 26,
     "metadata": {},
     "output_type": "execute_result"
    }
   ],
   "source": [
    "len(result) #10 from bm25, 10 from FAISS"
   ]
  },
  {
   "cell_type": "code",
   "execution_count": 27,
   "id": "ef50ee4d-2cf4-4fdb-9e81-6fa4843d5961",
   "metadata": {},
   "outputs": [
    {
     "data": {
      "text/plain": [
       "[Document(page_content='Org ID: 202205 \\nOrg Name: Quitline \\nAKA: OxyGen \\nS Suburb: Eastwood \\nServices: Confidential free telephone information, counselling and support service for people who want to quit smoking cigarettes and other tobacco products \\nOrg Type: Community \\nLocal Community dir: Drug & Alcohol Services \\nSubjects: Smoking ; Treatment \\nPrimary Category: Health & Disability \\nCouncil: City of Burnside', metadata={'location': 'eastwood', 'council': 'city of burnside'}),\n",
       " Document(page_content='Org ID: 228297 \\nOrg Name: PsychMed - City \\nS Suburb: Adelaide \\nOrg Type: Business \\nLocal Community dir: Mental Health Services \\nPrimary Category: Health & Disability \\nCouncil: City of Adelaide \\nSubjects:  Smoking '),\n",
       " Document(page_content=\"Org ID: 201607 \\nOrg Name: Lyell McEwin Hospital \\nAcronym: LMH \\nS Suburb: Elizabeth Vale \\nServices: Emergency medical care/casualty\\nMedical and surgical care\\nPsychiatric care\\nPaediatric care\\nAllied health services - dietetics, occupational therapy, physiotherapy, podiatry, speech pathology\\nCancer care\\nHealth education - diabetes, parenting, relaxation, cancer support, high blood pressure, cardiac rehabilitation and quit smoking program\\nHospital at Home\\nPastoral care - chaplaincy service; chapel and Islamic prayer room available\\nMaternity and neonatal services - parent education, birthing unit for women anticipating a low risk pregnancy and delivery, mother carer service, home visiting midwifery service, special care nursery\\nMedical imaging\\nMental health services - Ward 1G\\nRespite care provided by volunteers in clients' homes - referral required\\nSatellite dialysis\\nStomal therapy support\\nVolunteer program \\nOrg Type: Government \\nLocal Community dir: Hospitals \\nSubjects: Alcohol Abuse; Antenatal Care & Education; Birthing Centres; Breastfeeding; Cancer; Children; Community Nursing Services; Contraception; Diabetes; Drug Abuse; Emergency Medical Treatment; Hospitals (Public); Medical Aids & Appliances; Medical Services; Mental Health Services; Nutrition Education; Occupational Therapy; Physiotherapy; Podiatry; Postnatal Care & Education; Pregnancy Counselling; Pregnancy Termination; Pregnancy Testing; Psychiatric Services; Respite Care; Speech Pathology; Sterilisation (Female); Sterilisation (Male); Stomal Therapy Nursing Services; Treatment; Voluntary Work ; Volunteers \\nPrimary Category: Health & Disability \\nCouncil: City of Playford\", metadata={'location': 'elizabeth vale', 'council': 'city of playford'}),\n",
       " Document(page_content='Org ID: 237133 \\nOrg Name: PsychMed - North \\nS Suburb: Gilles Plains \\nOrg Type: Business \\nLocal Community dir: Mental Health Services \\nPrimary Category: Health & Disability \\nCouncil: City of Port Adelaide Enfield \\nSubjects:  Smoking '),\n",
       " Document(page_content='Org ID: 196648 \\nOrg Name: Seventh-day Adventist Church - Melrose Park  \\nAKA: Southern Memorial Seventh Day Adventist \\nS Suburb: Melrose Park \\nServices: Church services and pastoral care\\nBible seminars\\nCommunity welfare\\nEmergency food relief\\nCounselling\\nQuit smoking program\\nVegetarian Cooking Classes \\nOrg Type: Community \\nLocal Community dir: Seventh Day Adventist \\nSubjects: Churches, Religions; Food Assistance; Religions & Philosophies; Seventh Day Adventist; Vegetarian Food \\nPrimary Category: Religions & Philosophies \\nCouncil: City of Mitcham', metadata={'location': 'melrose park', 'council': 'city of mitcham'}),\n",
       " Document(page_content='Org ID: 203101 \\nOrg Name: Healthdirect Australia \\nOrg Type: Government \\nLocal Community dir: General \\nPrimary Category: Communication & Information Services \\nCouncil: NSW \\nSubjects: Health & Disability'),\n",
       " Document(page_content='Org ID: 238847 \\nOrg Name: Adelaide Sri Lanka Buddhist Vihara \\nAcronym: ASBV \\nS Suburb: Crafers \\nServices: Buddhist rituals \\nMeditation programs\\nCultural programs\\nCommunity library\\nNew migrant and refugee support\\nCommunity Language School \\nOrg Type: Community \\nLocal Community dir: Multicultural \\nSubjects: Buddhist; Community Languages; English as a Second Language; Migrant Education; Migrant Resource Centres; Migrants; Refugees; Religions & Philosophies \\nPrimary Category: Religions & Philosophies \\nCouncil: Adelaide Hills Council', metadata={'location': 'crafers', 'council': 'adelaide hills council'}),\n",
       " Document(page_content='Org ID: 201189 \\nOrg Name: SA Health \\nAKA: SA Dept of Health and Wellbeing \\nS Suburb: Adelaide \\nOrg Type: Government \\nLocal Community dir: Health \\nPrimary Category: Health & Disability \\nCouncil: City of Adelaide \\nSubjects:  Health Promotion'),\n",
       " Document(page_content='Org ID: 201841 \\nOrg Name: Greening Australia SA \\nAKA: National Green Jobs Corps  \\nS Suburb: Edwardstown \\nServices: Advice to landholders by field officers regarding land degradation and tree planting\\nCommunity training - remnant vegetation management and re-establishment techniques\\nDemonstration projects - tree planting by direct seeding in rural areas\\nSpecialist contract work teams for planting, weed control, surveys and plant supply \\nOrg Type: Community \\nLocal Community dir: Environmental Groups \\nSubjects: Environmental Education; Native Plants Cultivation; Tree Conservation \\nPrimary Category: Environment & Heritage \\nCouncil: City of Mitcham', metadata={'location': 'edwardstown', 'council': 'city of mitcham'}),\n",
       " Document(page_content='Org ID: 237134 \\nOrg Name: PsychMed - South West \\nS Suburb: Seaview Downs \\nOrg Type: Business \\nLocal Community dir: Mental Health Services \\nPrimary Category: Health & Disability \\nCouncil: City of Marion \\nSubjects:  Smoking '),\n",
       " Document(page_content='Org ID: 201189 \\nOrg Name: SA Health \\nAKA: SA Dept of Health and Wellbeing \\nS Suburb: Adelaide \\nOrg Type: Government \\nLocal Community dir: Health \\nPrimary Category: Health & Disability \\nCouncil: City of Adelaide \\nSubjects:  Public Health'),\n",
       " Document(page_content='Org ID: 201939 \\nOrg Name: Kids Helpline \\nS Suburb: Brisbane \\nOrg Type: Community \\nLocal Community dir: Counselling \\nPrimary Category: Personal & Family Support \\nCouncil: QLD \\nSubjects:  Suicide'),\n",
       " Document(page_content='Org ID: 202051 \\nOrg Name: Lifeline - Adelaide \\nS Suburb: Adelaide \\nOrg Type: Community \\nLocal Community dir: Counselling \\nPrimary Category: Personal & Family Support \\nCouncil: City of Adelaide \\nSubjects:  Suicide'),\n",
       " Document(page_content='Org ID: 202941 \\nOrg Name: Country Health SA \\nS Suburb: Adelaide \\nOrg Type: Government \\nLocal Community dir: Community Health Services \\nPrimary Category: Health & Disability \\nCouncil: City of Adelaide \\nSubjects:  Health Services'),\n",
       " Document(page_content='Org ID: 201870 \\nOrg Name: State Library of SA \\nS Suburb: Adelaide \\nOrg Type: Government \\nLocal Community dir: Public Libraries \\nPrimary Category: Communication & Information Services \\nCouncil: City of Adelaide \\nSubjects: Audio-Visual Resources')]"
      ]
     },
     "execution_count": 27,
     "metadata": {},
     "output_type": "execute_result"
    }
   ],
   "source": [
    "result"
   ]
  },
  {
   "cell_type": "markdown",
   "id": "8174d385-ccf7-4570-a99a-aa910aa21335",
   "metadata": {},
   "source": [
    "#### Result are what we are expected and a lot improvement compared to just using FAISS "
   ]
  },
  {
   "cell_type": "code",
   "execution_count": null,
   "id": "b650c8de-6d8d-4f06-ac32-5c2ac2158e72",
   "metadata": {},
   "outputs": [],
   "source": []
  }
 ],
 "metadata": {
  "kernelspec": {
   "display_name": "Python 3 (ipykernel)",
   "language": "python",
   "name": "python3"
  },
  "language_info": {
   "codemirror_mode": {
    "name": "ipython",
    "version": 3
   },
   "file_extension": ".py",
   "mimetype": "text/x-python",
   "name": "python",
   "nbconvert_exporter": "python",
   "pygments_lexer": "ipython3",
   "version": "3.11.9"
  }
 },
 "nbformat": 4,
 "nbformat_minor": 5
}
