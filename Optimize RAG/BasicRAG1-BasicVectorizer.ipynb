{
 "cells": [
  {
   "cell_type": "code",
   "execution_count": 26,
   "id": "00eb5a8c-1c3b-4915-88ca-67155351690f",
   "metadata": {},
   "outputs": [],
   "source": [
    "import pandas as pd\n",
    "import numpy as np\n",
    "data = pd.read_csv(\"decoded_sacom.csv\")"
   ]
  },
  {
   "cell_type": "code",
   "execution_count": 27,
   "id": "6db92a3f-e2e0-422c-b658-c7f41a005749",
   "metadata": {},
   "outputs": [
    {
     "name": "stdout",
     "output_type": "stream",
     "text": [
      "<class 'pandas.core.frame.DataFrame'>\n",
      "RangeIndex: 14385 entries, 0 to 14384\n",
      "Data columns (total 28 columns):\n",
      " #   Column               Non-Null Count  Dtype  \n",
      "---  ------               --------------  -----  \n",
      " 0   Org ID               14385 non-null  int64  \n",
      " 1   Org Name             14385 non-null  object \n",
      " 2   AKA                  4849 non-null   object \n",
      " 3   Acronym              1365 non-null   object \n",
      " 4   Former Name          1476 non-null   object \n",
      " 5   S Street Addr 1      12933 non-null  object \n",
      " 6   S Street Addr 2      3184 non-null   object \n",
      " 7   S Suburb             14312 non-null  object \n",
      " 8   S State              14353 non-null  object \n",
      " 9   S Postcode           14295 non-null  object \n",
      " 10  Phone                10438 non-null  object \n",
      " 11  Mobile               5774 non-null   object \n",
      " 12  Email                12595 non-null  object \n",
      " 13  Website              12123 non-null  object \n",
      " 14  Parent Body          6304 non-null   object \n",
      " 15  Parent Body URL      3059 non-null   object \n",
      " 16  Open Hours           6293 non-null   object \n",
      " 17  Wheelchair Access    5116 non-null   float64\n",
      " 18  Toilets Access       4602 non-null   float64\n",
      " 19  Disabled Parking     4065 non-null   float64\n",
      " 20  Services             14290 non-null  object \n",
      " 21  ABN                  8312 non-null   object \n",
      " 22  Local Community dir  13327 non-null  object \n",
      " 23  Adelaide Hills dir   104 non-null    object \n",
      " 24  Onkaparinga dir      364 non-null    object \n",
      " 25  Subjects             14376 non-null  object \n",
      " 26  Primary Category     14380 non-null  object \n",
      " 27  Council              14370 non-null  object \n",
      "dtypes: float64(3), int64(1), object(24)\n",
      "memory usage: 3.1+ MB\n"
     ]
    }
   ],
   "source": [
    "data.info()"
   ]
  },
  {
   "cell_type": "markdown",
   "id": "71954ba7-89e8-4506-9dad-509ea39075e4",
   "metadata": {},
   "source": [
    "### Fill in np.NaN data with a string"
   ]
  },
  {
   "cell_type": "code",
   "execution_count": 28,
   "id": "ec74582b-402d-43ca-95b3-cb2703563a65",
   "metadata": {},
   "outputs": [],
   "source": [
    "data['Services'].fillna('Nil', inplace=True)"
   ]
  },
  {
   "cell_type": "markdown",
   "id": "9d2a169c-f661-4cb4-8aee-70a08329be86",
   "metadata": {},
   "source": [
    "### Vectorize Service Column"
   ]
  },
  {
   "cell_type": "code",
   "execution_count": 29,
   "id": "d05d639c-9ab4-462d-ab1b-ebd8709bef82",
   "metadata": {},
   "outputs": [],
   "source": [
    "from sklearn.feature_extraction.text import TfidfVectorizer"
   ]
  },
  {
   "cell_type": "code",
   "execution_count": 30,
   "id": "3cfca05e-c5c2-4081-90c1-7f7322844e49",
   "metadata": {},
   "outputs": [],
   "source": [
    "tv = TfidfVectorizer()\n",
    "text = tv.fit_transform(data[\"Services\"])\n",
    "\n",
    "#Test run with search query\n",
    "query = [\"food bank\"]\n",
    "q_text = tv.transform(query)"
   ]
  },
  {
   "cell_type": "code",
   "execution_count": 31,
   "id": "e3a21586-5a37-4baa-b6f1-b790379e91e8",
   "metadata": {},
   "outputs": [],
   "source": [
    "tv_dense = text.toarray()\n",
    "q_dense = q_text.toarray()"
   ]
  },
  {
   "cell_type": "code",
   "execution_count": 44,
   "id": "6654aef0-25be-44fd-917e-c6695c367344",
   "metadata": {},
   "outputs": [
    {
     "data": {
      "text/plain": [
       "(14385, 12341)"
      ]
     },
     "execution_count": 44,
     "metadata": {},
     "output_type": "execute_result"
    }
   ],
   "source": [
    "size = text.shape"
   ]
  },
  {
   "cell_type": "markdown",
   "id": "f50672ab-6e2c-4d46-9da8-e9ca67f6948f",
   "metadata": {},
   "source": [
    "### Import Search Engine"
   ]
  },
  {
   "cell_type": "code",
   "execution_count": 47,
   "id": "5e78d219-1220-45be-a640-a5bc1bd7bfcd",
   "metadata": {},
   "outputs": [],
   "source": [
    "import faiss\n",
    "\n",
    "index=faiss.IndexFlatIP(size[1])"
   ]
  },
  {
   "cell_type": "markdown",
   "id": "f4378628-7649-4850-b321-e71c3efb43c1",
   "metadata": {},
   "source": [
    "### Add Vector into Database"
   ]
  },
  {
   "cell_type": "code",
   "execution_count": 49,
   "id": "47d4ca9b-ba84-46c6-9d38-eea7733a19cd",
   "metadata": {},
   "outputs": [],
   "source": [
    "index.add(tv_dense)"
   ]
  },
  {
   "cell_type": "markdown",
   "id": "ef15c537-4a54-4881-bf4b-0409509f3a67",
   "metadata": {},
   "source": [
    "### Perform Search"
   ]
  },
  {
   "cell_type": "code",
   "execution_count": 50,
   "id": "ed533fe7-1716-48c3-95a9-6e02f9722ea9",
   "metadata": {},
   "outputs": [
    {
     "name": "stdout",
     "output_type": "stream",
     "text": [
      "[[13569 13866 13730 12871 13853]]\n"
     ]
    }
   ],
   "source": [
    "D, I = index.search(q_dense, 5)\n",
    "print(I)"
   ]
  },
  {
   "cell_type": "markdown",
   "id": "2445fe97-0f61-40aa-8a87-ea366274145c",
   "metadata": {},
   "source": [
    "### Check Result"
   ]
  },
  {
   "cell_type": "code",
   "execution_count": 52,
   "id": "68783db8-6bd5-4341-82c9-4ff609f2cf69",
   "metadata": {},
   "outputs": [
    {
     "data": {
      "text/plain": [
       "Org ID                                                            236926\n",
       "Org Name               UnitingCare North Adelaide - Emergency Relief ...\n",
       "AKA                                                                  NaN\n",
       "Acronym                                                             UCNA\n",
       "Former Name                                                          NaN\n",
       "S Street Addr 1                                       193 Brougham Place\n",
       "S Street Addr 2                                                      NaN\n",
       "S Suburb                                                  North Adelaide\n",
       "S State                                                  South Australia\n",
       "S Postcode                                                          5006\n",
       "Phone                                        08 8267 2657++Church Office\n",
       "Mobile                                         0420 692 667++Coordinator\n",
       "Email                                                      ucna@bpuc.org\n",
       "Website                                        https://www.bpuc.org/ucna\n",
       "Parent Body                                Brougham Place Uniting Church\n",
       "Parent Body URL                                            bpuc.org/ucna\n",
       "Open Hours                           Phone Enquiries Mon - Fri 9am - 5pm\n",
       "Wheelchair Access                                                    1.0\n",
       "Toilets Access                                                       1.0\n",
       "Disabled Parking                                                     1.0\n",
       "Services                                Food Assistance\\r\\\\nFood Parcels\n",
       "ABN                                                          41091049015\n",
       "Local Community dir                           Food & Clothing Assistance\n",
       "Adelaide Hills dir                                                   NaN\n",
       "Onkaparinga dir                                                      NaN\n",
       "Subjects                                         Food----Food Assistance\n",
       "Primary Category                              Material & Practical Needs\n",
       "Council                                                 City of Adelaide\n",
       "Name: 13866, dtype: object"
      ]
     },
     "execution_count": 52,
     "metadata": {},
     "output_type": "execute_result"
    }
   ],
   "source": [
    "data.loc[13866]"
   ]
  },
  {
   "cell_type": "code",
   "execution_count": null,
   "id": "2c207fad-bb84-4766-9ba9-724cfabbb596",
   "metadata": {},
   "outputs": [],
   "source": []
  }
 ],
 "metadata": {
  "kernelspec": {
   "display_name": "Python 3 (ipykernel)",
   "language": "python",
   "name": "python3"
  },
  "language_info": {
   "codemirror_mode": {
    "name": "ipython",
    "version": 3
   },
   "file_extension": ".py",
   "mimetype": "text/x-python",
   "name": "python",
   "nbconvert_exporter": "python",
   "pygments_lexer": "ipython3",
   "version": "3.11.7"
  }
 },
 "nbformat": 4,
 "nbformat_minor": 5
}
