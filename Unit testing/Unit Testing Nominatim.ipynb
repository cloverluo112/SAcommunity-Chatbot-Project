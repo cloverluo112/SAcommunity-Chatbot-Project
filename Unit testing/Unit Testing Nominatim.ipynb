{
 "cells": [
  {
   "cell_type": "code",
   "execution_count": 1,
   "id": "82fbafd8-81c0-449f-ac67-b82e0af9a520",
   "metadata": {},
   "outputs": [],
   "source": [
    "from geopy.geocoders import Nominatim\n",
    "#!pip install geopy"
   ]
  },
  {
   "cell_type": "code",
   "execution_count": 2,
   "id": "e46cf8d1-ecaf-4a81-b60d-8da46216db34",
   "metadata": {},
   "outputs": [],
   "source": [
    "# Location setup (current)\n",
    "council_list = {\n",
    "    'The Berri Barmera Council': 'Berri Barmera Council',\n",
    "    'The Regional Council of Goyder': 'Regional Council of Goyder',\n",
    "    'The District Council of Ceduna': 'District Council of Ceduna',\n",
    "    'The District Council of Coober Pedy': 'District Council of Coober Pedy',\n",
    "    'The District Council of Franklin Harbour': 'District of Franklin Harbour',\n",
    "    'The City of Norwood Payneham and St Peters': 'Norwood Payneham and St Peters',\n",
    "    'The District Council of Kimba': 'District Council of Kimba',\n",
    "    'The District Council of Loxton Waikerie': 'Loxton Waikerie',\n",
    "    'The District Council of Peterborough': 'Peterborough',\n",
    "    'Southern Mallee District Council': 'Southern Mallee',\n",
    "    'Municipal Council of Roxby Downs': 'Roxby Downs',\n",
    "    'The District Council of Streaky Bay': 'District Council of Streaky Bay',\n",
    "    'The District Council of Tumby Bay': 'District Council of Tumby Bay',\n",
    "    'Pastoral Unincorporated Area': 'Outback Communities Authority',\n",
    "    'Anangu Pitjantjatjara Yankunytjatjara': 'Outback Communities Authority',\n",
    "    'The District Council of Yankalilla': 'District Council of Yankalilla',\n",
    "    'Adelaide City Council': 'City of Adelaide',\n",
    "    'The District Council of Mount Remarkable': 'Mount Remarkable',\n",
    "    'The District Council of Cleve': 'District Council of Cleve',\n",
    "    'The District Council of Lower Eyre Peninsula': 'Lower Eyre Peninsula',\n",
    "    'The District Council of Karoonda East Murray': 'Karoonda East Murray',\n",
    "    'The Rural City of Murray Bridge': 'Rural City of Murray Bridge',\n",
    "    'The District Council of Orroroo Carrieton': 'Orroroo Carrieton',\n",
    "    'The District Council of Grant': 'District Council of Grant',\n",
    "    'The Corporation of the City of Whyalla': 'City of Whyalla',\n",
    "    'The Corporation of the Town of Walkerville': 'Town of Walkerville'\n",
    "}"
   ]
  },
  {
   "cell_type": "code",
   "execution_count": 3,
   "id": "750a51bc-a73f-4683-a0c7-2387a4516116",
   "metadata": {},
   "outputs": [],
   "source": [
    "geolocator = Nominatim(user_agent='chatbot_geocoder')"
   ]
  },
  {
   "cell_type": "code",
   "execution_count": 4,
   "id": "d2641f5c-c3e8-4808-8562-01ba13e4c35c",
   "metadata": {},
   "outputs": [],
   "source": [
    "def get_location(address):\n",
    "    address = address + ', SA, AU'\n",
    "    location = geolocator.geocode(address, addressdetails=True)\n",
    "\n",
    "    suburb = ''\n",
    "    council = ''\n",
    "\n",
    "    if location:\n",
    "        addr = location.raw['address']\n",
    "        \n",
    "        # Suburb\n",
    "        if 'suburb' in addr:\n",
    "            suburb = addr['suburb']\n",
    "        elif 'town' in addr:\n",
    "            suburb = addr['town']\n",
    "        elif 'hamlet' in addr:\n",
    "            suburb = addr['hamlet']\n",
    "        elif 'village' in addr:\n",
    "            suburb = addr['village']\n",
    "        elif 'city_district' in addr:\n",
    "            suburb = addr['city_district']\n",
    "        elif 'city' in addr:\n",
    "            suburb = addr['city']\n",
    "\n",
    "        # Council\n",
    "        if 'county' in addr:\n",
    "            council = addr['county']\n",
    "        elif 'municipality' in addr:\n",
    "            council = addr['municipality']\n",
    "        elif 'natural' in addr:\n",
    "            council = addr['natural']\n",
    "        \n",
    "        if council in council_list:\n",
    "            council = council_list[council]\n",
    "    \n",
    "    return suburb, council"
   ]
  },
  {
   "cell_type": "code",
   "execution_count": 5,
   "id": "ff06efcb-b4ed-4ff7-a6db-451a9154f9a0",
   "metadata": {},
   "outputs": [
    {
     "data": {
      "text/plain": [
       "('Kilburn', 'City of Port Adelaide Enfield')"
      ]
     },
     "execution_count": 5,
     "metadata": {},
     "output_type": "execute_result"
    }
   ],
   "source": [
    "get_location(\"costco\")"
   ]
  },
  {
   "cell_type": "code",
   "execution_count": 6,
   "id": "481075cd-0ea2-4e00-bdab-32342980107f",
   "metadata": {},
   "outputs": [],
   "source": [
    "location = geolocator.geocode(\"Costco SA, AU\", addressdetails=True)"
   ]
  },
  {
   "cell_type": "code",
   "execution_count": 7,
   "id": "99a7bee5-9652-4887-8982-f069cc632054",
   "metadata": {},
   "outputs": [
    {
     "data": {
      "text/plain": [
       "{'retail': 'Costco',\n",
       " 'suburb': 'Kilburn',\n",
       " 'city': 'Adelaide',\n",
       " 'municipality': 'City of Port Adelaide Enfield',\n",
       " 'state': 'South Australia',\n",
       " 'ISO3166-2-lvl4': 'AU-SA',\n",
       " 'postcode': '5084',\n",
       " 'country': 'Australia',\n",
       " 'country_code': 'au'}"
      ]
     },
     "execution_count": 7,
     "metadata": {},
     "output_type": "execute_result"
    }
   ],
   "source": [
    "location.raw['address']"
   ]
  },
  {
   "cell_type": "code",
   "execution_count": 8,
   "id": "c772f692-6889-4ccb-b19f-df10f6d77e78",
   "metadata": {},
   "outputs": [],
   "source": [
    "location = geolocator.geocode(\"Marion SA, AU\", addressdetails=True)"
   ]
  },
  {
   "cell_type": "code",
   "execution_count": 9,
   "id": "a7fdc9e1-bc8c-4d24-8cfb-015895035a80",
   "metadata": {},
   "outputs": [
    {
     "data": {
      "text/plain": [
       "{'municipality': 'City of Marion',\n",
       " 'state': 'South Australia',\n",
       " 'ISO3166-2-lvl4': 'AU-SA',\n",
       " 'country': 'Australia',\n",
       " 'country_code': 'au'}"
      ]
     },
     "execution_count": 9,
     "metadata": {},
     "output_type": "execute_result"
    }
   ],
   "source": [
    "location.raw['address']"
   ]
  },
  {
   "cell_type": "code",
   "execution_count": 12,
   "id": "b077deff-7e6e-469b-b385-89666345edf7",
   "metadata": {},
   "outputs": [],
   "source": [
    "location = geolocator.geocode(\"5600 SA, AU\", addressdetails=True)"
   ]
  },
  {
   "cell_type": "code",
   "execution_count": 13,
   "id": "504eda3c-d0c5-4cef-b7a4-ebc510bb4dbc",
   "metadata": {},
   "outputs": [
    {
     "data": {
      "text/plain": [
       "{'postcode': '5600',\n",
       " 'city': 'Whyalla',\n",
       " 'municipality': 'The Corporation of the City of Whyalla',\n",
       " 'state': 'South Australia',\n",
       " 'ISO3166-2-lvl4': 'AU-SA',\n",
       " 'country': 'Australia',\n",
       " 'country_code': 'au'}"
      ]
     },
     "execution_count": 13,
     "metadata": {},
     "output_type": "execute_result"
    }
   ],
   "source": [
    "location.raw['address']"
   ]
  },
  {
   "cell_type": "code",
   "execution_count": null,
   "id": "9a7c0932-dc23-4d22-9a91-611d9f4e2710",
   "metadata": {},
   "outputs": [],
   "source": []
  }
 ],
 "metadata": {
  "kernelspec": {
   "display_name": "Python 3 (ipykernel)",
   "language": "python",
   "name": "python3"
  },
  "language_info": {
   "codemirror_mode": {
    "name": "ipython",
    "version": 3
   },
   "file_extension": ".py",
   "mimetype": "text/x-python",
   "name": "python",
   "nbconvert_exporter": "python",
   "pygments_lexer": "ipython3",
   "version": "3.11.9"
  }
 },
 "nbformat": 4,
 "nbformat_minor": 5
}
