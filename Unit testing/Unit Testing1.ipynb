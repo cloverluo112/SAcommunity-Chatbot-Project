{
 "cells": [
  {
   "cell_type": "markdown",
   "id": "a8c77c75-5df6-4930-b6d0-b66ac29b8a4f",
   "metadata": {},
   "source": [
    "Test 1: Import LLM"
   ]
  },
  {
   "cell_type": "code",
   "execution_count": 4,
   "id": "d6104916-ea60-482b-8f63-6504d507660d",
   "metadata": {},
   "outputs": [],
   "source": [
    "import os\n",
    "os.environ[\"COHERE_API_KEY\"] = \"\"\n",
    "\n",
    "from langchain_cohere import ChatCohere #!pip install langchain-cohere\n",
    "llm = ChatCohere(model='command-r', temperature=0)"
   ]
  },
  {
   "cell_type": "code",
   "execution_count": 5,
   "id": "1969f5bd-cfd5-4c4e-8967-8fbfec140bab",
   "metadata": {},
   "outputs": [
    {
     "data": {
      "text/plain": [
       "AIMessage(content=\"Hi Bob! It's nice to meet you. How's it going today?\", additional_kwargs={'documents': None, 'citations': None, 'search_results': None, 'search_queries': None, 'is_search_required': None, 'generation_id': '461b996c-aa2a-4ef7-aa2d-2c7c1e3f1ace', 'token_count': {'input_tokens': 72, 'output_tokens': 16}}, response_metadata={'documents': None, 'citations': None, 'search_results': None, 'search_queries': None, 'is_search_required': None, 'generation_id': '461b996c-aa2a-4ef7-aa2d-2c7c1e3f1ace', 'token_count': {'input_tokens': 72, 'output_tokens': 16}}, id='run-469a7b07-1984-499d-b9cb-c932c8988f25-0')"
      ]
     },
     "execution_count": 5,
     "metadata": {},
     "output_type": "execute_result"
    }
   ],
   "source": [
    "llm.invoke(\"Hi, I'm Bob.\")"
   ]
  },
  {
   "cell_type": "code",
   "execution_count": null,
   "id": "3603ace9-ecfe-42eb-9454-3fd83aea3298",
   "metadata": {},
   "outputs": [],
   "source": [
    "#TooManyRequestsError: status_code: 429, body: {'message': \"You are using a Trial key, which is limited to 1000 API calls / month. You can continue to use the Trial key for free or upgrade to a Production key with higher rate limits at 'https://dashboard.cohere.com/api-keys'. Contact us on 'https://discord.gg/XW44jPfYJu' or email us at support@cohere.com with any questions\"}"
   ]
  },
  {
   "cell_type": "code",
   "execution_count": 3,
   "id": "8939f987-72f3-4e64-9cba-025eaa6b5615",
   "metadata": {},
   "outputs": [
    {
     "name": "stdout",
     "output_type": "stream",
     "text": [
      "Hi Bob, how can I help you today?\n"
     ]
    }
   ],
   "source": [
    "import os\n",
    "from langchain_google_genai import ChatGoogleGenerativeAI\n",
    "os.environ[\"GOOGLE_API_KEY\"] = \"\"\n",
    "llm = ChatGoogleGenerativeAI(model=\"gemini-pro\", temperature = 0)\n",
    "result = llm.invoke(\"Hello, I'm Bob?\")\n",
    "print(result.content)"
   ]
  },
  {
   "cell_type": "markdown",
   "id": "1f8c5810-2f91-446a-997c-57a2fe491115",
   "metadata": {},
   "source": [
    "Test 2: Analyse, prepare and clean extracted data (mainly done in datacleaning-ver3.ipynb)"
   ]
  },
  {
   "cell_type": "markdown",
   "id": "8b9228f0-8ee4-4bed-8b5b-e65c82f73aed",
   "metadata": {},
   "source": [
    "Test 3: Prepare LangChain documents"
   ]
  },
  {
   "cell_type": "code",
   "execution_count": 3,
   "id": "2568d304-946b-4646-af87-27e1d4e53400",
   "metadata": {},
   "outputs": [],
   "source": [
    "from langchain.document_loaders import CSVLoader\n",
    "loader = CSVLoader (file_path = './decoded_sacom.csv', encoding=\"utf-8\")\n",
    "data = loader.load()"
   ]
  },
  {
   "cell_type": "code",
   "execution_count": 4,
   "id": "5785ea47-8fb4-4eff-8b2d-cfc3c546a0b0",
   "metadata": {},
   "outputs": [
    {
     "name": "stdout",
     "output_type": "stream",
     "text": [
      "Number of documents:14378\n"
     ]
    },
    {
     "data": {
      "text/plain": [
       "Document(page_content='Org ID: 193932\\nOrg Name: RSL Ardrossan Sub Branch\\nAKA: Ardrossan RSL; Returned & Services League Ardrossan\\nAcronym: \\nFormer Name: \\nS Street Addr 1: RSL Hall, West Tce\\nS Street Addr 2: \\nS Suburb: Ardrossan\\nS State: South Australia\\nS Postcode: 5571\\nPhone: 08 8837 3596\\nMobile: \\nEmail: ardrossan@rslsa.org.au\\nWebsite: http://rslsa.org.au/stores/ardrossan\\nOpen Hours: \\nWheelchair Access: \\nToilets Access: \\nDisabled Parking: \\nServices: Welfare and pensions support for ex-servicemen and their families\\nSocial and recreational activities\\nCommemoration activities - ANZAC Day, Remembrance Day and other significant events\\nOrg Type: Business\\nLocal Community dir: Service Clubs\\nAdelaide Hills dir: \\nOnkaparinga dir: \\nSubjects: Ex-Defence Service Groups; Halls For Hire; Social & Activity Groups; Support & Resource Groups; Veterans\\nPrimary Category: Recreation\\nCouncil: Yorke Peninsula Council', metadata={'source': './decoded_sacom.csv', 'row': 0})"
      ]
     },
     "execution_count": 4,
     "metadata": {},
     "output_type": "execute_result"
    }
   ],
   "source": [
    "print (\"Number of documents:\"+str(len(data)))\n",
    "data[0]"
   ]
  },
  {
   "cell_type": "markdown",
   "id": "1fcd6cb6-1fc9-471e-8a46-a255c7d2158f",
   "metadata": {},
   "source": [
    "Test 4: Import embedding tool"
   ]
  },
  {
   "cell_type": "code",
   "execution_count": 7,
   "id": "df130266-f9b3-44a9-88d6-29fdcf7627bc",
   "metadata": {},
   "outputs": [
    {
     "name": "stdout",
     "output_type": "stream",
     "text": [
      "384\n"
     ]
    },
    {
     "data": {
      "text/plain": [
       "[-0.03814070299267769, 0.0328650176525116, -0.0055811433121562]"
      ]
     },
     "execution_count": 7,
     "metadata": {},
     "output_type": "execute_result"
    }
   ],
   "source": [
    "#!pip install gpt4all\n",
    "from langchain_community.embeddings import GPT4AllEmbeddings\n",
    "embeddings = GPT4AllEmbeddings()\n",
    "embed_text = embeddings.embed_query(\"hello, world!\")\n",
    "print(len(embed_text))\n",
    "embed_text[0:3]"
   ]
  },
  {
   "cell_type": "markdown",
   "id": "05d476c5-117c-400e-a003-50cb1f048832",
   "metadata": {},
   "source": [
    "Test 5: Create FAISS vector database with embeddings and save to local directory"
   ]
  },
  {
   "cell_type": "code",
   "execution_count": null,
   "id": "58320544-6360-4ee7-912b-09bbb796306b",
   "metadata": {},
   "outputs": [],
   "source": [
    "from langchain.vectorstores import FAISS\n",
    "vectorstore = FAISS.from_documents (data, embeddings)\n",
    "faiss.save_local(\"faiss_index\")"
   ]
  },
  {
   "cell_type": "markdown",
   "id": "f2f02279-8e14-42d8-a2ec-61d77586a7f5",
   "metadata": {},
   "source": [
    "Test 6: Load FAISS vector database from local directory and perform similarity search"
   ]
  },
  {
   "cell_type": "code",
   "execution_count": 8,
   "id": "9ce2c3cc-6075-40d4-b54a-1332917e988f",
   "metadata": {},
   "outputs": [
    {
     "data": {
      "text/plain": [
       "[Document(page_content='Org ID: 197897 \\nOrg Name: Prospect Town Hall  \\nAKA: Eliza Hall \\nServices: Venue and meeting rooms for hire \\nOrg Type: Government \\nLocal Community dir: Halls & Venues for Hire \\nSubjects: Halls For Hire; Meeting Rooms \\nPrimary Category: Community Organisation & Development', metadata={'location': 'prospect', 'council': 'city of prospect'}),\n",
       " Document(page_content='Org ID: 198278 \\nOrg Name: Lobethal Centennial Hall Inc \\nServices: Hall for Hire\\nVenue for Hire \\nOrg Type: Community \\nLocal Community dir: Halls & Venues for Hire \\nSubjects: Cinemas; Halls For Hire; Hire \\nPrimary Category: Community Organisation & Development', metadata={'location': 'lobethal', 'council': 'adelaide hills council'}),\n",
       " Document(page_content='Org ID: 200367 \\nOrg Name: Roseworthy Soldiers Memorial Hall \\nServices: Hall for hire\\nAvailable for hire at hourly rates for meetings and other\\nAvailable to hire for functions \\nOrg Type: Community \\nLocal Community dir: Halls & Venues for Hire \\nSubjects: Halls For Hire \\nPrimary Category: Community Organisation & Development', metadata={'location': 'roseworthy', 'council': 'light regional council'}),\n",
       " Document(page_content='Org ID: 198307 \\nOrg Name: Bridgewater Hall \\nServices: Hall for hire \\nOrg Type: Community \\nLocal Community dir: Halls & Venues for Hire \\nSubjects: Halls For Hire \\nPrimary Category: Community Organisation & Development', metadata={'location': 'bridgewater', 'council': 'adelaide hills council'})]"
      ]
     },
     "execution_count": 8,
     "metadata": {},
     "output_type": "execute_result"
    }
   ],
   "source": [
    "from langchain_community.vectorstores import FAISS\n",
    "faiss = FAISS.load_local(\"faiss_index\", embeddings, allow_dangerous_deserialization=True)\n",
    "faiss.similarity_search(\"hall for hire in prospect\")"
   ]
  },
  {
   "cell_type": "code",
   "execution_count": 9,
   "id": "8e0d06fb-fc93-4e63-b0f3-0e0d9e8bd037",
   "metadata": {},
   "outputs": [],
   "source": [
    "retriever = faiss.as_retriever(search_type=\"similarity\", search_kwargs={\"k\": 10})"
   ]
  },
  {
   "cell_type": "markdown",
   "id": "ac1dead3-0a69-4f37-b3af-5ed96a38bbe2",
   "metadata": {},
   "source": [
    "Test 7: Link query, database, retriever and LLM to generate response"
   ]
  },
  {
   "cell_type": "code",
   "execution_count": 10,
   "id": "8c51c23f-0875-43b2-a254-dca0f5f5c496",
   "metadata": {},
   "outputs": [],
   "source": [
    "from langchain.prompts import ChatPromptTemplate\n",
    "from langchain_core.output_parsers import StrOutputParser\n",
    "from langchain_core.runnables import RunnablePassthrough\n",
    "\n",
    "def format_docs(docs):\n",
    "    return \"\\n\\n\".join(doc.page_content for doc in docs)\n",
    "    \n",
    "template = \"\"\"You are an customer service assistant for SAcommunity.org.\n",
    "Answer the question based only on the following context delimited by triple backtick.\n",
    "context:```{context}```\n",
    "If you cannot find the answer, tell them to be more precise.\n",
    "You should reply in a friendly way.\n",
    "Your must provide the website link in the following format:\n",
    "\"Org Name\" \"https://sacommunity.org/\"+\"org/\"+\"Org ID\"\n",
    "Question: {question}\n",
    "Answer:\n",
    "\"\"\"\n",
    "prompt = ChatPromptTemplate.from_template(template)\n",
    "rag_chain = (\n",
    "    {\"context\": retriever | format_docs, \"question\": RunnablePassthrough()}\n",
    "    | prompt\n",
    "    | llm\n",
    "    | StrOutputParser()\n",
    ")"
   ]
  },
  {
   "cell_type": "code",
   "execution_count": 11,
   "id": "e63a4328-0d74-4e7c-aeac-d7e24433965a",
   "metadata": {},
   "outputs": [
    {
     "name": "stdout",
     "output_type": "stream",
     "text": [
      "Quitline might be a good first point of contact for you. They offer a confidential telephone information and counselling service for people who want to give up smoking. You can find them at https://sacommunity.org/org/202205.\n",
      "\n",
      "Lung Foundation Australia also has lots of resources and information available, as well as peer support groups. They might have some useful services and recommendations too. You can find them at https://sacommunity.org/org/202421.\n",
      "\n",
      "If you're interested in support groups more broadly, you could also check out the Millicent Respiratory Support Group. See https://sacommunity.org/org/227963 for details."
     ]
    }
   ],
   "source": [
    "for chunk in rag_chain.stream(\"I want to quit smoking\"):\n",
    "    print(chunk, end=\"\", flush=True)"
   ]
  },
  {
   "cell_type": "code",
   "execution_count": null,
   "id": "954a5d61-9651-4290-9f5f-7f9aa43c81d7",
   "metadata": {},
   "outputs": [],
   "source": []
  }
 ],
 "metadata": {
  "kernelspec": {
   "display_name": "Python 3 (ipykernel)",
   "language": "python",
   "name": "python3"
  },
  "language_info": {
   "codemirror_mode": {
    "name": "ipython",
    "version": 3
   },
   "file_extension": ".py",
   "mimetype": "text/x-python",
   "name": "python",
   "nbconvert_exporter": "python",
   "pygments_lexer": "ipython3",
   "version": "3.11.9"
  }
 },
 "nbformat": 4,
 "nbformat_minor": 5
}
