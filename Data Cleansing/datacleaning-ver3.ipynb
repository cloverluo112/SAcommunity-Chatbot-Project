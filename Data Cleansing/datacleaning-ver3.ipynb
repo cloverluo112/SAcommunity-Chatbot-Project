{
 "cells": [
  {
   "cell_type": "markdown",
   "id": "16fcd23d-780c-4bad-83c1-891557ebd870",
   "metadata": {},
   "source": [
    "## Import CSV"
   ]
  },
  {
   "cell_type": "code",
   "execution_count": 1,
   "id": "1177fa17",
   "metadata": {},
   "outputs": [],
   "source": [
    "import pandas as pd\n",
    "import base64\n",
    "import numpy as np\n",
    "\n",
    "data = pd.read_csv(\"sacom-data-encoded-12th-april.csv\")"
   ]
  },
  {
   "cell_type": "code",
   "execution_count": 2,
   "id": "5fe6ed50-6955-4db3-a703-f32bc11ca4ea",
   "metadata": {},
   "outputs": [
    {
     "data": {
      "text/html": [
       "<div>\n",
       "<style scoped>\n",
       "    .dataframe tbody tr th:only-of-type {\n",
       "        vertical-align: middle;\n",
       "    }\n",
       "\n",
       "    .dataframe tbody tr th {\n",
       "        vertical-align: top;\n",
       "    }\n",
       "\n",
       "    .dataframe thead th {\n",
       "        text-align: right;\n",
       "    }\n",
       "</style>\n",
       "<table border=\"1\" class=\"dataframe\">\n",
       "  <thead>\n",
       "    <tr style=\"text-align: right;\">\n",
       "      <th></th>\n",
       "      <th>Org Name</th>\n",
       "      <th>AKA</th>\n",
       "      <th>Acronym</th>\n",
       "      <th>Former Name</th>\n",
       "      <th>S Street Addr 1</th>\n",
       "      <th>S Street Addr 2</th>\n",
       "      <th>S Suburb</th>\n",
       "      <th>S State</th>\n",
       "      <th>S Postcode</th>\n",
       "      <th>Phone</th>\n",
       "      <th>...</th>\n",
       "      <th>Toilets Access</th>\n",
       "      <th>Disabled Parking</th>\n",
       "      <th>Services</th>\n",
       "      <th>Org Type</th>\n",
       "      <th>Local Community dir</th>\n",
       "      <th>Adelaide Hills dir</th>\n",
       "      <th>Onkaparinga dir</th>\n",
       "      <th>Subjects</th>\n",
       "      <th>Primary Category</th>\n",
       "      <th>Council</th>\n",
       "    </tr>\n",
       "    <tr>\n",
       "      <th>Org ID</th>\n",
       "      <th></th>\n",
       "      <th></th>\n",
       "      <th></th>\n",
       "      <th></th>\n",
       "      <th></th>\n",
       "      <th></th>\n",
       "      <th></th>\n",
       "      <th></th>\n",
       "      <th></th>\n",
       "      <th></th>\n",
       "      <th></th>\n",
       "      <th></th>\n",
       "      <th></th>\n",
       "      <th></th>\n",
       "      <th></th>\n",
       "      <th></th>\n",
       "      <th></th>\n",
       "      <th></th>\n",
       "      <th></th>\n",
       "      <th></th>\n",
       "      <th></th>\n",
       "    </tr>\n",
       "  </thead>\n",
       "  <tbody>\n",
       "    <tr>\n",
       "      <th>193932</th>\n",
       "      <td>RSL Ardrossan Sub Branch</td>\n",
       "      <td>Ardrossan RSL----Returned &amp; Services League Ar...</td>\n",
       "      <td>\\N</td>\n",
       "      <td>\\N</td>\n",
       "      <td>UlNMIEhhbGwsIFdlc3QgVGNl</td>\n",
       "      <td>NaN</td>\n",
       "      <td>Ardrossan</td>\n",
       "      <td>South Australia</td>\n",
       "      <td>5571</td>\n",
       "      <td>08 8837 3596++</td>\n",
       "      <td>...</td>\n",
       "      <td>\\N</td>\n",
       "      <td>\\N</td>\n",
       "      <td>V2VsZmFyZSBhbmQgcGVuc2lvbnMgc3VwcG9ydCBmb3IgZX...</td>\n",
       "      <td>Business</td>\n",
       "      <td>Service Clubs</td>\n",
       "      <td>\\N</td>\n",
       "      <td>\\N</td>\n",
       "      <td>Ex-Defence Service Groups----Halls For Hire---...</td>\n",
       "      <td>Recreation</td>\n",
       "      <td>Yorke Peninsula Council</td>\n",
       "    </tr>\n",
       "    <tr>\n",
       "      <th>193933</th>\n",
       "      <td>RSL Balaklava Sub Branch</td>\n",
       "      <td>Balaklava RSL----Returned &amp; Services League Ba...</td>\n",
       "      <td>\\N</td>\n",
       "      <td>\\N</td>\n",
       "      <td>MjEgU2NvdGxhbmQgU3Q=</td>\n",
       "      <td>NaN</td>\n",
       "      <td>Balaklava</td>\n",
       "      <td>South Australia</td>\n",
       "      <td>5461</td>\n",
       "      <td>08 8100 7300++Main Office</td>\n",
       "      <td>...</td>\n",
       "      <td>\\N</td>\n",
       "      <td>\\N</td>\n",
       "      <td>V2VsZmFyZSBhbmQgcGVuc2lvbnMgc3VwcG9ydCBmb3IgZX...</td>\n",
       "      <td>Community</td>\n",
       "      <td>Support Groups</td>\n",
       "      <td>\\N</td>\n",
       "      <td>\\N</td>\n",
       "      <td>Ex-Defence Service Groups----Social &amp; Activity...</td>\n",
       "      <td>Personal &amp; Family Support</td>\n",
       "      <td>Wakefield Regional Council</td>\n",
       "    </tr>\n",
       "  </tbody>\n",
       "</table>\n",
       "<p>2 rows × 25 columns</p>\n",
       "</div>"
      ],
      "text/plain": [
       "                        Org Name  \\\n",
       "Org ID                             \n",
       "193932  RSL Ardrossan Sub Branch   \n",
       "193933  RSL Balaklava Sub Branch   \n",
       "\n",
       "                                                      AKA Acronym Former Name  \\\n",
       "Org ID                                                                          \n",
       "193932  Ardrossan RSL----Returned & Services League Ar...      \\N          \\N   \n",
       "193933  Balaklava RSL----Returned & Services League Ba...      \\N          \\N   \n",
       "\n",
       "                 S Street Addr 1 S Street Addr 2   S Suburb          S State  \\\n",
       "Org ID                                                                         \n",
       "193932  UlNMIEhhbGwsIFdlc3QgVGNl             NaN  Ardrossan  South Australia   \n",
       "193933      MjEgU2NvdGxhbmQgU3Q=             NaN  Balaklava  South Australia   \n",
       "\n",
       "       S Postcode                      Phone  ... Toilets Access  \\\n",
       "Org ID                                        ...                  \n",
       "193932       5571             08 8837 3596++  ...             \\N   \n",
       "193933       5461  08 8100 7300++Main Office  ...             \\N   \n",
       "\n",
       "       Disabled Parking                                           Services  \\\n",
       "Org ID                                                                       \n",
       "193932               \\N  V2VsZmFyZSBhbmQgcGVuc2lvbnMgc3VwcG9ydCBmb3IgZX...   \n",
       "193933               \\N  V2VsZmFyZSBhbmQgcGVuc2lvbnMgc3VwcG9ydCBmb3IgZX...   \n",
       "\n",
       "         Org Type Local Community dir Adelaide Hills dir Onkaparinga dir  \\\n",
       "Org ID                                                                     \n",
       "193932   Business       Service Clubs                 \\N              \\N   \n",
       "193933  Community      Support Groups                 \\N              \\N   \n",
       "\n",
       "                                                 Subjects  \\\n",
       "Org ID                                                      \n",
       "193932  Ex-Defence Service Groups----Halls For Hire---...   \n",
       "193933  Ex-Defence Service Groups----Social & Activity...   \n",
       "\n",
       "                 Primary Category                     Council  \n",
       "Org ID                                                         \n",
       "193932                 Recreation     Yorke Peninsula Council  \n",
       "193933  Personal & Family Support  Wakefield Regional Council  \n",
       "\n",
       "[2 rows x 25 columns]"
      ]
     },
     "execution_count": 2,
     "metadata": {},
     "output_type": "execute_result"
    }
   ],
   "source": [
    "data.set_index('Org ID', inplace=True)\n",
    "data.head(2)"
   ]
  },
  {
   "cell_type": "code",
   "execution_count": 3,
   "id": "2543acc8-45dc-42cf-a10d-15e4718e7a00",
   "metadata": {
    "scrolled": true
   },
   "outputs": [
    {
     "name": "stdout",
     "output_type": "stream",
     "text": [
      "<class 'pandas.core.frame.DataFrame'>\n",
      "Index: 14378 entries, 193932 to 238847\n",
      "Data columns (total 25 columns):\n",
      " #   Column               Non-Null Count  Dtype \n",
      "---  ------               --------------  ----- \n",
      " 0   Org Name             14378 non-null  object\n",
      " 1   AKA                  14377 non-null  object\n",
      " 2   Acronym              14378 non-null  object\n",
      " 3   Former Name          14378 non-null  object\n",
      " 4   S Street Addr 1      12939 non-null  object\n",
      " 5   S Street Addr 2      3343 non-null   object\n",
      " 6   S Suburb             14307 non-null  object\n",
      " 7   S State              14378 non-null  object\n",
      " 8   S Postcode           14291 non-null  object\n",
      " 9   Phone                14378 non-null  object\n",
      " 10  Mobile               14378 non-null  object\n",
      " 11  Email                14378 non-null  object\n",
      " 12  Website              14378 non-null  object\n",
      " 13  Open Hours           6285 non-null   object\n",
      " 14  Wheelchair Access    14378 non-null  object\n",
      " 15  Toilets Access       14378 non-null  object\n",
      " 16  Disabled Parking     14378 non-null  object\n",
      " 17  Services             14284 non-null  object\n",
      " 18  Org Type             14370 non-null  object\n",
      " 19  Local Community dir  14378 non-null  object\n",
      " 20  Adelaide Hills dir   14378 non-null  object\n",
      " 21  Onkaparinga dir      14378 non-null  object\n",
      " 22  Subjects             14378 non-null  object\n",
      " 23  Primary Category     14378 non-null  object\n",
      " 24  Council              14378 non-null  object\n",
      "dtypes: object(25)\n",
      "memory usage: 2.9+ MB\n"
     ]
    }
   ],
   "source": [
    "data.info()"
   ]
  },
  {
   "cell_type": "markdown",
   "id": "25502564-4cdc-4109-9db3-ef1e58d842d8",
   "metadata": {},
   "source": [
    "## Decode base64"
   ]
  },
  {
   "cell_type": "code",
   "execution_count": 4,
   "id": "bfff37dc",
   "metadata": {},
   "outputs": [
    {
     "data": {
      "text/html": [
       "<div>\n",
       "<style scoped>\n",
       "    .dataframe tbody tr th:only-of-type {\n",
       "        vertical-align: middle;\n",
       "    }\n",
       "\n",
       "    .dataframe tbody tr th {\n",
       "        vertical-align: top;\n",
       "    }\n",
       "\n",
       "    .dataframe thead th {\n",
       "        text-align: right;\n",
       "    }\n",
       "</style>\n",
       "<table border=\"1\" class=\"dataframe\">\n",
       "  <thead>\n",
       "    <tr style=\"text-align: right;\">\n",
       "      <th></th>\n",
       "      <th>S Street Addr 1</th>\n",
       "      <th>Open Hours</th>\n",
       "      <th>Services</th>\n",
       "    </tr>\n",
       "    <tr>\n",
       "      <th>Org ID</th>\n",
       "      <th></th>\n",
       "      <th></th>\n",
       "      <th></th>\n",
       "    </tr>\n",
       "  </thead>\n",
       "  <tbody>\n",
       "    <tr>\n",
       "      <th>193932</th>\n",
       "      <td>RSL Hall, West Tce</td>\n",
       "      <td>NaN</td>\n",
       "      <td>Welfare and pensions support for ex-servicemen...</td>\n",
       "    </tr>\n",
       "    <tr>\n",
       "      <th>193933</th>\n",
       "      <td>21 Scotland St</td>\n",
       "      <td>NaN</td>\n",
       "      <td>Welfare and pensions support for ex-servicemen...</td>\n",
       "    </tr>\n",
       "    <tr>\n",
       "      <th>193934</th>\n",
       "      <td>21 Sturt St</td>\n",
       "      <td>Mon 12:00 PM - 6:00 PM\\r\\\\nTues 5:30 PM - 9:00...</td>\n",
       "      <td>Welfare and pensions support for ex-servicemen...</td>\n",
       "    </tr>\n",
       "    <tr>\n",
       "      <th>193935</th>\n",
       "      <td>1 McGilton Rd</td>\n",
       "      <td>NaN</td>\n",
       "      <td>Welfare and pensions support for ex-servicemen...</td>\n",
       "    </tr>\n",
       "    <tr>\n",
       "      <th>193936</th>\n",
       "      <td>Egerton St</td>\n",
       "      <td>Sat 4pm - 8pm, Sun and public holidays 2pm - 8pm</td>\n",
       "      <td>Welfare and pensions support for ex-servicemen...</td>\n",
       "    </tr>\n",
       "  </tbody>\n",
       "</table>\n",
       "</div>"
      ],
      "text/plain": [
       "           S Street Addr 1                                         Open Hours  \\\n",
       "Org ID                                                                          \n",
       "193932  RSL Hall, West Tce                                                NaN   \n",
       "193933      21 Scotland St                                                NaN   \n",
       "193934         21 Sturt St  Mon 12:00 PM - 6:00 PM\\r\\\\nTues 5:30 PM - 9:00...   \n",
       "193935       1 McGilton Rd                                                NaN   \n",
       "193936          Egerton St   Sat 4pm - 8pm, Sun and public holidays 2pm - 8pm   \n",
       "\n",
       "                                                 Services  \n",
       "Org ID                                                     \n",
       "193932  Welfare and pensions support for ex-servicemen...  \n",
       "193933  Welfare and pensions support for ex-servicemen...  \n",
       "193934  Welfare and pensions support for ex-servicemen...  \n",
       "193935  Welfare and pensions support for ex-servicemen...  \n",
       "193936  Welfare and pensions support for ex-servicemen...  "
      ]
     },
     "execution_count": 4,
     "metadata": {},
     "output_type": "execute_result"
    }
   ],
   "source": [
    "decode_column=[\"S Street Addr 1\",\"Open Hours\",\"Services\"]\n",
    "def decode_base64(x):\n",
    "    if isinstance(x, str):\n",
    "        try:\n",
    "            # Check if the base64 string is correctly padded\n",
    "            missing_padding = len(x) % 4\n",
    "            if missing_padding != 0:\n",
    "                x += '='* (4 - missing_padding)\n",
    "            return base64.b64decode(x).decode('utf-8')\n",
    "        except UnicodeDecodeError:\n",
    "            try:\n",
    "                return base64.b64decode(x).decode('ISO-8859-1')  # replace with the correct encoding\n",
    "            except Exception:\n",
    "                return x  # or handle the error in another way\n",
    "    else:\n",
    "        return x\n",
    "    \n",
    "for column in decode_column:\n",
    "    data[column] = data[column].apply(decode_base64)\n",
    "\n",
    "data[decode_column].head()"
   ]
  },
  {
   "cell_type": "markdown",
   "id": "94d148f0",
   "metadata": {},
   "source": [
    "## Data Cleaning"
   ]
  },
  {
   "cell_type": "code",
   "execution_count": 5,
   "id": "bb50a0c1",
   "metadata": {},
   "outputs": [
    {
     "data": {
      "text/html": [
       "<div>\n",
       "<style scoped>\n",
       "    .dataframe tbody tr th:only-of-type {\n",
       "        vertical-align: middle;\n",
       "    }\n",
       "\n",
       "    .dataframe tbody tr th {\n",
       "        vertical-align: top;\n",
       "    }\n",
       "\n",
       "    .dataframe thead th {\n",
       "        text-align: right;\n",
       "    }\n",
       "</style>\n",
       "<table border=\"1\" class=\"dataframe\">\n",
       "  <thead>\n",
       "    <tr style=\"text-align: right;\">\n",
       "      <th></th>\n",
       "      <th>Org Name</th>\n",
       "      <th>AKA</th>\n",
       "      <th>Acronym</th>\n",
       "      <th>Former Name</th>\n",
       "      <th>S Street Addr 1</th>\n",
       "      <th>S Street Addr 2</th>\n",
       "      <th>S Suburb</th>\n",
       "      <th>S State</th>\n",
       "      <th>S Postcode</th>\n",
       "      <th>Phone</th>\n",
       "      <th>...</th>\n",
       "      <th>Toilets Access</th>\n",
       "      <th>Disabled Parking</th>\n",
       "      <th>Services</th>\n",
       "      <th>Org Type</th>\n",
       "      <th>Local Community dir</th>\n",
       "      <th>Adelaide Hills dir</th>\n",
       "      <th>Onkaparinga dir</th>\n",
       "      <th>Subjects</th>\n",
       "      <th>Primary Category</th>\n",
       "      <th>Council</th>\n",
       "    </tr>\n",
       "    <tr>\n",
       "      <th>Org ID</th>\n",
       "      <th></th>\n",
       "      <th></th>\n",
       "      <th></th>\n",
       "      <th></th>\n",
       "      <th></th>\n",
       "      <th></th>\n",
       "      <th></th>\n",
       "      <th></th>\n",
       "      <th></th>\n",
       "      <th></th>\n",
       "      <th></th>\n",
       "      <th></th>\n",
       "      <th></th>\n",
       "      <th></th>\n",
       "      <th></th>\n",
       "      <th></th>\n",
       "      <th></th>\n",
       "      <th></th>\n",
       "      <th></th>\n",
       "      <th></th>\n",
       "      <th></th>\n",
       "    </tr>\n",
       "  </thead>\n",
       "  <tbody>\n",
       "    <tr>\n",
       "      <th>193932</th>\n",
       "      <td>RSL Ardrossan Sub Branch</td>\n",
       "      <td>Ardrossan RSL----Returned &amp; Services League Ar...</td>\n",
       "      <td>NaN</td>\n",
       "      <td>NaN</td>\n",
       "      <td>RSL Hall, West Tce</td>\n",
       "      <td>NaN</td>\n",
       "      <td>Ardrossan</td>\n",
       "      <td>South Australia</td>\n",
       "      <td>5571</td>\n",
       "      <td>08 8837 3596++</td>\n",
       "      <td>...</td>\n",
       "      <td>NaN</td>\n",
       "      <td>NaN</td>\n",
       "      <td>Welfare and pensions support for ex-servicemen...</td>\n",
       "      <td>Business</td>\n",
       "      <td>Service Clubs</td>\n",
       "      <td>NaN</td>\n",
       "      <td>NaN</td>\n",
       "      <td>Ex-Defence Service Groups----Halls For Hire---...</td>\n",
       "      <td>Recreation</td>\n",
       "      <td>Yorke Peninsula Council</td>\n",
       "    </tr>\n",
       "    <tr>\n",
       "      <th>193933</th>\n",
       "      <td>RSL Balaklava Sub Branch</td>\n",
       "      <td>Balaklava RSL----Returned &amp; Services League Ba...</td>\n",
       "      <td>NaN</td>\n",
       "      <td>NaN</td>\n",
       "      <td>21 Scotland St</td>\n",
       "      <td>NaN</td>\n",
       "      <td>Balaklava</td>\n",
       "      <td>South Australia</td>\n",
       "      <td>5461</td>\n",
       "      <td>08 8100 7300++Main Office</td>\n",
       "      <td>...</td>\n",
       "      <td>NaN</td>\n",
       "      <td>NaN</td>\n",
       "      <td>Welfare and pensions support for ex-servicemen...</td>\n",
       "      <td>Community</td>\n",
       "      <td>Support Groups</td>\n",
       "      <td>NaN</td>\n",
       "      <td>NaN</td>\n",
       "      <td>Ex-Defence Service Groups----Social &amp; Activity...</td>\n",
       "      <td>Personal &amp; Family Support</td>\n",
       "      <td>Wakefield Regional Council</td>\n",
       "    </tr>\n",
       "    <tr>\n",
       "      <th>193934</th>\n",
       "      <td>RSL Barmera Sub Branch</td>\n",
       "      <td>Barmera RSL----Returned &amp; Services League Barmera</td>\n",
       "      <td>NaN</td>\n",
       "      <td>NaN</td>\n",
       "      <td>21 Sturt St</td>\n",
       "      <td>NaN</td>\n",
       "      <td>Barmera</td>\n",
       "      <td>South Australia</td>\n",
       "      <td>5345</td>\n",
       "      <td>08 8588 2699++</td>\n",
       "      <td>...</td>\n",
       "      <td>NaN</td>\n",
       "      <td>1</td>\n",
       "      <td>Welfare and pensions support for ex-servicemen...</td>\n",
       "      <td>Community</td>\n",
       "      <td>Service Clubs</td>\n",
       "      <td>NaN</td>\n",
       "      <td>NaN</td>\n",
       "      <td>Ex-Defence Service Groups----Social &amp; Activity...</td>\n",
       "      <td>Community Organisation &amp; Development</td>\n",
       "      <td>Berri Barmera Council</td>\n",
       "    </tr>\n",
       "    <tr>\n",
       "      <th>193935</th>\n",
       "      <td>RSL Berri Sub Branch</td>\n",
       "      <td>Berri RSL----Returned &amp; Services League Berri</td>\n",
       "      <td>NaN</td>\n",
       "      <td>NaN</td>\n",
       "      <td>1 McGilton Rd</td>\n",
       "      <td>NaN</td>\n",
       "      <td>Berri</td>\n",
       "      <td>South Australia</td>\n",
       "      <td>5343</td>\n",
       "      <td>08 8582 2936++Hall Hire</td>\n",
       "      <td>...</td>\n",
       "      <td>NaN</td>\n",
       "      <td>NaN</td>\n",
       "      <td>Welfare and pensions support for ex-servicemen...</td>\n",
       "      <td>Community</td>\n",
       "      <td>Service Clubs</td>\n",
       "      <td>NaN</td>\n",
       "      <td>NaN</td>\n",
       "      <td>Ex-Defence Service Groups----Social &amp; Activity...</td>\n",
       "      <td>Community Organisation &amp; Development</td>\n",
       "      <td>Berri Barmera Council</td>\n",
       "    </tr>\n",
       "    <tr>\n",
       "      <th>193936</th>\n",
       "      <td>RSL Blanchetown Sub Branch</td>\n",
       "      <td>Blanchetown RSL----Returned &amp; Services League ...</td>\n",
       "      <td>NaN</td>\n",
       "      <td>NaN</td>\n",
       "      <td>Egerton St</td>\n",
       "      <td>NaN</td>\n",
       "      <td>Blanchetown</td>\n",
       "      <td>South Australia</td>\n",
       "      <td>5357</td>\n",
       "      <td>08 8540 5212++</td>\n",
       "      <td>...</td>\n",
       "      <td>NaN</td>\n",
       "      <td>NaN</td>\n",
       "      <td>Welfare and pensions support for ex-servicemen...</td>\n",
       "      <td>Community</td>\n",
       "      <td>Service Clubs</td>\n",
       "      <td>NaN</td>\n",
       "      <td>NaN</td>\n",
       "      <td>Ex-Defence Service Groups----Social &amp; Activity...</td>\n",
       "      <td>Community Organisation &amp; Development</td>\n",
       "      <td>Mid Murray Council</td>\n",
       "    </tr>\n",
       "  </tbody>\n",
       "</table>\n",
       "<p>5 rows × 25 columns</p>\n",
       "</div>"
      ],
      "text/plain": [
       "                          Org Name  \\\n",
       "Org ID                               \n",
       "193932    RSL Ardrossan Sub Branch   \n",
       "193933    RSL Balaklava Sub Branch   \n",
       "193934      RSL Barmera Sub Branch   \n",
       "193935        RSL Berri Sub Branch   \n",
       "193936  RSL Blanchetown Sub Branch   \n",
       "\n",
       "                                                      AKA Acronym Former Name  \\\n",
       "Org ID                                                                          \n",
       "193932  Ardrossan RSL----Returned & Services League Ar...     NaN         NaN   \n",
       "193933  Balaklava RSL----Returned & Services League Ba...     NaN         NaN   \n",
       "193934  Barmera RSL----Returned & Services League Barmera     NaN         NaN   \n",
       "193935      Berri RSL----Returned & Services League Berri     NaN         NaN   \n",
       "193936  Blanchetown RSL----Returned & Services League ...     NaN         NaN   \n",
       "\n",
       "           S Street Addr 1 S Street Addr 2     S Suburb          S State  \\\n",
       "Org ID                                                                     \n",
       "193932  RSL Hall, West Tce             NaN    Ardrossan  South Australia   \n",
       "193933      21 Scotland St             NaN    Balaklava  South Australia   \n",
       "193934         21 Sturt St             NaN      Barmera  South Australia   \n",
       "193935       1 McGilton Rd             NaN        Berri  South Australia   \n",
       "193936          Egerton St             NaN  Blanchetown  South Australia   \n",
       "\n",
       "       S Postcode                      Phone  ... Toilets Access  \\\n",
       "Org ID                                        ...                  \n",
       "193932       5571             08 8837 3596++  ...            NaN   \n",
       "193933       5461  08 8100 7300++Main Office  ...            NaN   \n",
       "193934       5345             08 8588 2699++  ...            NaN   \n",
       "193935       5343    08 8582 2936++Hall Hire  ...            NaN   \n",
       "193936       5357             08 8540 5212++  ...            NaN   \n",
       "\n",
       "       Disabled Parking                                           Services  \\\n",
       "Org ID                                                                       \n",
       "193932              NaN  Welfare and pensions support for ex-servicemen...   \n",
       "193933              NaN  Welfare and pensions support for ex-servicemen...   \n",
       "193934                1  Welfare and pensions support for ex-servicemen...   \n",
       "193935              NaN  Welfare and pensions support for ex-servicemen...   \n",
       "193936              NaN  Welfare and pensions support for ex-servicemen...   \n",
       "\n",
       "         Org Type Local Community dir Adelaide Hills dir Onkaparinga dir  \\\n",
       "Org ID                                                                     \n",
       "193932   Business       Service Clubs                NaN             NaN   \n",
       "193933  Community      Support Groups                NaN             NaN   \n",
       "193934  Community       Service Clubs                NaN             NaN   \n",
       "193935  Community       Service Clubs                NaN             NaN   \n",
       "193936  Community       Service Clubs                NaN             NaN   \n",
       "\n",
       "                                                 Subjects  \\\n",
       "Org ID                                                      \n",
       "193932  Ex-Defence Service Groups----Halls For Hire---...   \n",
       "193933  Ex-Defence Service Groups----Social & Activity...   \n",
       "193934  Ex-Defence Service Groups----Social & Activity...   \n",
       "193935  Ex-Defence Service Groups----Social & Activity...   \n",
       "193936  Ex-Defence Service Groups----Social & Activity...   \n",
       "\n",
       "                            Primary Category                     Council  \n",
       "Org ID                                                                    \n",
       "193932                            Recreation     Yorke Peninsula Council  \n",
       "193933             Personal & Family Support  Wakefield Regional Council  \n",
       "193934  Community Organisation & Development       Berri Barmera Council  \n",
       "193935  Community Organisation & Development       Berri Barmera Council  \n",
       "193936  Community Organisation & Development          Mid Murray Council  \n",
       "\n",
       "[5 rows x 25 columns]"
      ]
     },
     "execution_count": 5,
     "metadata": {},
     "output_type": "execute_result"
    }
   ],
   "source": [
    "data.replace(r\"\\N\", np.NaN, inplace=True)\n",
    "data.head()"
   ]
  },
  {
   "cell_type": "code",
   "execution_count": 6,
   "id": "7667ad97",
   "metadata": {},
   "outputs": [
    {
     "name": "stdout",
     "output_type": "stream",
     "text": [
      "<class 'pandas.core.frame.DataFrame'>\n",
      "Index: 14378 entries, 193932 to 238847\n",
      "Data columns (total 25 columns):\n",
      " #   Column               Non-Null Count  Dtype \n",
      "---  ------               --------------  ----- \n",
      " 0   Org Name             14378 non-null  object\n",
      " 1   AKA                  4868 non-null   object\n",
      " 2   Acronym              1375 non-null   object\n",
      " 3   Former Name          1486 non-null   object\n",
      " 4   S Street Addr 1      12931 non-null  object\n",
      " 5   S Street Addr 2      3218 non-null   object\n",
      " 6   S Suburb             14303 non-null  object\n",
      " 7   S State              14346 non-null  object\n",
      " 8   S Postcode           14287 non-null  object\n",
      " 9   Phone                10401 non-null  object\n",
      " 10  Mobile               5782 non-null   object\n",
      " 11  Email                12615 non-null  object\n",
      " 12  Website              12137 non-null  object\n",
      " 13  Open Hours           6285 non-null   object\n",
      " 14  Wheelchair Access    5118 non-null   object\n",
      " 15  Toilets Access       4600 non-null   object\n",
      " 16  Disabled Parking     4070 non-null   object\n",
      " 17  Services             14284 non-null  object\n",
      " 18  Org Type             14370 non-null  object\n",
      " 19  Local Community dir  13336 non-null  object\n",
      " 20  Adelaide Hills dir   104 non-null    object\n",
      " 21  Onkaparinga dir      361 non-null    object\n",
      " 22  Subjects             14368 non-null  object\n",
      " 23  Primary Category     14376 non-null  object\n",
      " 24  Council              14367 non-null  object\n",
      "dtypes: object(25)\n",
      "memory usage: 2.9+ MB\n"
     ]
    }
   ],
   "source": [
    "data.info()"
   ]
  },
  {
   "cell_type": "code",
   "execution_count": 7,
   "id": "18fce6d8",
   "metadata": {
    "scrolled": true
   },
   "outputs": [
    {
     "data": {
      "text/plain": [
       "AKA\n",
       "CBS Inc.                                                                                   21\n",
       "Rostrum SA/NT                                                                              11\n",
       "Kids Taekwondo----Oriental Sports Academy----World Taekwondo                                9\n",
       "Families SA                                                                                 9\n",
       "                                                                                            7\n",
       "School of Scottish Dancing                                                                  6\n",
       "DoJangs                                                                                     5\n",
       "Intensive Home Based Support Services IHBSS                                                 4\n",
       "Royal Society for the Blind RSB ----See Differently                                         4\n",
       "Retire Australia ----RetireAustralia                                                        4\n",
       "Adventist Development & Relief Agency----Adventist Development and Relief Agency (ADRA)     3\n",
       "Mobo Group                                                                                  3\n",
       "Bedford Phoenix                                                                             3\n",
       "Patient Assistance Transport Scheme                                                         3\n",
       "Counselling and Support for People Affected by the Disability Royal Commission              3\n",
       "Name: count, dtype: int64"
      ]
     },
     "execution_count": 7,
     "metadata": {},
     "output_type": "execute_result"
    }
   ],
   "source": [
    "data[\"AKA\"].value_counts().head(15)"
   ]
  },
  {
   "cell_type": "code",
   "execution_count": 8,
   "id": "ebacc3da",
   "metadata": {},
   "outputs": [
    {
     "data": {
      "text/plain": [
       "AKA\n",
       "Wyatt Benevolent Institution Inc.                                                                                                                                                                                           1\n",
       "Centacare Catholic Family Services Country SA - Whyalla Office                                                                                                                                                              1\n",
       "Court Companion Service                                                                                                                                                                                                     1\n",
       "St Luke Anglican Church                                                                                                                                                                                                     1\n",
       "Voluntary Euthanasia Society                                                                                                                                                                                                1\n",
       "St Vincent de Paul Society SA Inc.                                                                                                                                                                                          1\n",
       "Salvation Army SA                                                                                                                                                                                                           1\n",
       "Carrousel Club S.A                                                                                                                                                                                                          1\n",
       "Northern Country Area Service, UnitingCare Wesley Port Pirie Inc.; UCWCSA; Uniting Care Wesley Enterprise                                                                                                                   1\n",
       "Diversion Assessment & Support Service, OARS; Illicit Drug Intervention Program, OARS                                                                                                                                       1\n",
       "GA                                                                                                                                                                                                                          1\n",
       "CareWorks SA; Churches of Christ CareWorks; Churches of Christ in SA & NT Community Care Inc.; Community Care SA                                                                                                            1\n",
       "CSA                                                                                                                                                                                                                         1\n",
       "ACCESS Programs; ASCEND Suicide Intervention Program; Catholic Family Services; Drug Court Supported Housing; Homeless Students Service, Centacare; Northern Respite Service, Centacare; Reconnect; Women Exiting Prison    1\n",
       "South Australian Chess Association                                                                                                                                                                                          1\n",
       "Name: count, dtype: int64"
      ]
     },
     "execution_count": 8,
     "metadata": {},
     "output_type": "execute_result"
    }
   ],
   "source": [
    "data[\"AKA\"] = data[\"AKA\"].str.replace('----', '; ', case=False, regex=True)\n",
    "data[\"AKA\"] = data[\"AKA\"].replace(r'^\\s*$', np.nan, regex=True)\n",
    "data[\"AKA\"].value_counts().tail(15)"
   ]
  },
  {
   "cell_type": "code",
   "execution_count": 9,
   "id": "f5fb7123-e9aa-4c6a-a89e-67ec58244d3e",
   "metadata": {},
   "outputs": [
    {
     "data": {
      "text/plain": [
       "S State\n",
       "South Australia                 14292\n",
       "Victoria                           25\n",
       "New South Wales                    15\n",
       "Queensland                          7\n",
       "Australian Capital Territory        4\n",
       "Northern Territory                  3\n",
       "Name: count, dtype: int64"
      ]
     },
     "execution_count": 9,
     "metadata": {},
     "output_type": "execute_result"
    }
   ],
   "source": [
    "data[\"S State\"].value_counts()"
   ]
  },
  {
   "cell_type": "code",
   "execution_count": 10,
   "id": "73cd99db",
   "metadata": {},
   "outputs": [
    {
     "data": {
      "text/plain": [
       "Org ID\n",
       "193932                                       08 8837 3596++\n",
       "193933                            08 8100 7300++Main Office\n",
       "193934                                       08 8588 2699++\n",
       "193935                              08 8582 2936++Hall Hire\n",
       "193936                                       08 8540 5212++\n",
       "193938                                                  NaN\n",
       "193939                                       08 8296 8303++\n",
       "193940                                                  NaN\n",
       "193942                                                  NaN\n",
       "193943                                       08 8625 2670++\n",
       "193944                                                  NaN\n",
       "193945                        08 8737 2560++Neville T Dixon\n",
       "193946                   08 8100 7300++Adelaide Head Office\n",
       "193947                                                  NaN\n",
       "193948                                       08 8255 7670++\n",
       "193949                               08 8581 1340++RSL Room\n",
       "193950                                                  NaN\n",
       "193951                                       08 8337 8136++\n",
       "193952                                                  NaN\n",
       "193953                                                  NaN\n",
       "193955                                       08 8755 3384++\n",
       "193956          08 8100 7300++Main Office----08 8627 2436++\n",
       "193957                            08 8100 7300++Main Office\n",
       "193959                                                  NaN\n",
       "193960                    08 8584 6553++Main and Venue Hire\n",
       "193961                                                  NaN\n",
       "193963                                                  NaN\n",
       "193964                                                  NaN\n",
       "193965    0427 717 788++Secretary----0456 086 262++Presi...\n",
       "193966                                                  NaN\n",
       "193968                                       08 8825 1240++\n",
       "193970                                                  NaN\n",
       "193972                                       08 8651 3055++\n",
       "193973                                                  NaN\n",
       "193974                                       08 8682 3594++\n",
       "Name: Phone, dtype: object"
      ]
     },
     "execution_count": 10,
     "metadata": {},
     "output_type": "execute_result"
    }
   ],
   "source": [
    "data[\"Phone\"].head(35)"
   ]
  },
  {
   "cell_type": "code",
   "execution_count": 11,
   "id": "eebe5562",
   "metadata": {},
   "outputs": [
    {
     "data": {
      "text/plain": [
       "Org ID\n",
       "193932                                      08 8837 3596\n",
       "193933                          08 8100 7300 Main Office\n",
       "193934                                      08 8588 2699\n",
       "193935                            08 8582 2936 Hall Hire\n",
       "193936                                      08 8540 5212\n",
       "193938                                               NaN\n",
       "193939                                      08 8296 8303\n",
       "193940                                               NaN\n",
       "193942                                               NaN\n",
       "193943                                      08 8625 2670\n",
       "193944                                               NaN\n",
       "193945                      08 8737 2560 Neville T Dixon\n",
       "193946                 08 8100 7300 Adelaide Head Office\n",
       "193947                                               NaN\n",
       "193948                                      08 8255 7670\n",
       "193949                             08 8581 1340 RSL Room\n",
       "193950                                               NaN\n",
       "193951                                      08 8337 8136\n",
       "193952                                               NaN\n",
       "193953                                               NaN\n",
       "193955                                      08 8755 3384\n",
       "193956            08 8100 7300 Main Office; 08 8627 2436\n",
       "193957                          08 8100 7300 Main Office\n",
       "193959                                               NaN\n",
       "193960                  08 8584 6553 Main and Venue Hire\n",
       "193961                                               NaN\n",
       "193963                                               NaN\n",
       "193964                                               NaN\n",
       "193965    0427 717 788 Secretary; 0456 086 262 President\n",
       "193966                                               NaN\n",
       "193968                                      08 8825 1240\n",
       "193970                                               NaN\n",
       "193972                                      08 8651 3055\n",
       "193973                                               NaN\n",
       "193974                                      08 8682 3594\n",
       "Name: Phone, dtype: object"
      ]
     },
     "execution_count": 11,
     "metadata": {},
     "output_type": "execute_result"
    }
   ],
   "source": [
    "data[\"Phone\"] = data[\"Phone\"].str.replace(r'\\+\\+----', '; ', regex=True)\n",
    "data[\"Phone\"] = data[\"Phone\"].str.replace(r'\\+\\+(?=\\w)', ' ', regex=True)\n",
    "data[\"Phone\"] = data[\"Phone\"].str.replace(r'\\+\\+$', '', regex=True)\n",
    "data[\"Phone\"] = data[\"Phone\"].str.replace('----', '; ', regex=True)\n",
    "data[\"Phone\"].head(35)"
   ]
  },
  {
   "cell_type": "code",
   "execution_count": 12,
   "id": "440a3603",
   "metadata": {},
   "outputs": [
    {
     "data": {
      "text/plain": [
       "Org ID\n",
       "193932                                                  NaN\n",
       "193933                              0433 799 950++President\n",
       "193934                              0431 635 405++Secretary\n",
       "193935                                       0427 374 658++\n",
       "193936                                                  NaN\n",
       "193938                              0450 085 314++Secretary\n",
       "193939                                                  NaN\n",
       "193940                              0411 208 041++President\n",
       "193942    0417 452 922++President----0438 173 297++Treas...\n",
       "193943                              0407 797 556++Secretary\n",
       "193944    0408 089 725++President----0456 033 274++Secre...\n",
       "193945                                                  NaN\n",
       "193946                                       0407 277 501++\n",
       "193947                                       0481 481 086++\n",
       "193948                                                  NaN\n",
       "193949                           0422 930 931++Geoff Hansen\n",
       "193950                                       0413 585 991++\n",
       "193951                                       0410 008 586++\n",
       "193952                              0409 641 681++President\n",
       "193953                                       0429 967 261++\n",
       "193955                                                  NaN\n",
       "193956                                       0428 272 828++\n",
       "193957                             0409 775 931++Secretary \n",
       "193959           0408 635 054++Secretary and Hall/Clubrooms\n",
       "193960    0414 663 771++President----0473 364 881++Secre...\n",
       "193961                                       0438 562 302++\n",
       "193963    0417 450 088++President/Venue Hire----0428 559...\n",
       "193964    0410 496 894++President ----0413 680 129++Secr...\n",
       "193965                                                  NaN\n",
       "193966                                       0448 298 368++\n",
       "Name: Mobile, dtype: object"
      ]
     },
     "execution_count": 12,
     "metadata": {},
     "output_type": "execute_result"
    }
   ],
   "source": [
    "data[\"Mobile\"].head(30)"
   ]
  },
  {
   "cell_type": "code",
   "execution_count": 13,
   "id": "11adbe54",
   "metadata": {},
   "outputs": [
    {
     "data": {
      "text/plain": [
       "Org ID\n",
       "193932                                                  NaN\n",
       "193933                               0433 799 950 President\n",
       "193934                               0431 635 405 Secretary\n",
       "193935                                         0427 374 658\n",
       "193936                                                  NaN\n",
       "193938                               0450 085 314 Secretary\n",
       "193939                                                  NaN\n",
       "193940                               0411 208 041 President\n",
       "193942       0417 452 922 President; 0438 173 297 Treasurer\n",
       "193943                               0407 797 556 Secretary\n",
       "193944    0408 089 725 President; 0456 033 274 Secretary...\n",
       "193945                                                  NaN\n",
       "193946                                         0407 277 501\n",
       "193947                                         0481 481 086\n",
       "193948                                                  NaN\n",
       "193949                            0422 930 931 Geoff Hansen\n",
       "193950                                         0413 585 991\n",
       "193951                                         0410 008 586\n",
       "193952                               0409 641 681 President\n",
       "193953                                         0429 967 261\n",
       "193955                                                  NaN\n",
       "193956                                         0428 272 828\n",
       "193957                              0409 775 931 Secretary \n",
       "193959            0408 635 054 Secretary and Hall/Clubrooms\n",
       "193960       0414 663 771 President; 0473 364 881 Secretary\n",
       "193961                                         0438 562 302\n",
       "193963    0417 450 088 President/Venue Hire; 0428 559 78...\n",
       "193964     0410 496 894 President ; 0413 680 129 Secretary \n",
       "193965                                                  NaN\n",
       "193966                                         0448 298 368\n",
       "Name: Mobile, dtype: object"
      ]
     },
     "execution_count": 13,
     "metadata": {},
     "output_type": "execute_result"
    }
   ],
   "source": [
    "data[\"Mobile\"] = data[\"Mobile\"].str.replace(r'\\+\\+----', '; ', regex=True)\n",
    "data[\"Mobile\"] = data[\"Mobile\"].str.replace(r'\\+\\+(?=\\w)', ' ', regex=True)\n",
    "data[\"Mobile\"] = data[\"Mobile\"].str.replace(r'\\+\\+$', '', regex=True)\n",
    "data[\"Mobile\"] = data[\"Mobile\"].str.replace('----', '; ', regex=True)\n",
    "data[\"Mobile\"].head(30)"
   ]
  },
  {
   "cell_type": "code",
   "execution_count": 14,
   "id": "2c898fa3",
   "metadata": {},
   "outputs": [
    {
     "data": {
      "text/plain": [
       "Org ID\n",
       "238783    Religious Theatre Production Group\\r\\\\nEaster ...\n",
       "238787                                                  NaN\n",
       "238791                                                  NaN\n",
       "238792                                                  NaN\n",
       "238793                                                  NaN\n",
       "238795    Customers are asked to sort their recycling pr...\n",
       "238797                              Community Radio Station\n",
       "238804    Professional development workshops especially ...\n",
       "238809                 Repair Café\\r\\\\nQualified volunteers\n",
       "238810                 Repair Café\\r\\\\nQualified volunteers\n",
       "238811                 Repair Café\\r\\\\nQualified volunteers\n",
       "238815    Ford Owners Car Club\\r\\\\nMonthly meetings\\r\\\\n...\n",
       "238818                            Arts\\r\\\\nCommunity Nights\n",
       "238825    Mental Health \\r\\\\nAllied Health \\r\\\\nNDIS Ser...\n",
       "238829    Disability Support Services \\r\\\\nSenior Suppor...\n",
       "238842    Gymnastics\\r\\\\nPrograms: KinderGym, Mini Gym, ...\n",
       "238843    Gymnastics\\r\\\\nPrograms: KinderGym, Mini Gym, ...\n",
       "238845                          Chess\\r\\\\nCompetitive chess\n",
       "238846                               Chess\\r\\\\nJunior chess\n",
       "238847    Buddhist rituals \\r\\\\nMeditation programs\\r\\\\n...\n",
       "Name: Services, dtype: object"
      ]
     },
     "execution_count": 14,
     "metadata": {},
     "output_type": "execute_result"
    }
   ],
   "source": [
    "data[\"Services\"] = data[\"Services\"].str.replace(r'\\r\\\\', '', regex=True)\n",
    "data[\"Services\"].tail(20)"
   ]
  },
  {
   "cell_type": "code",
   "execution_count": 15,
   "id": "7f50d610",
   "metadata": {},
   "outputs": [
    {
     "name": "stdout",
     "output_type": "stream",
     "text": [
      "238783 'Religious Theatre Production Group\\r\\\\\\nEaster plays\\r\\\\\\nChristmas plays'\n",
      "238787 nan\n",
      "238791 nan\n",
      "238792 nan\n",
      "238793 nan\n",
      "238795 'Customers are asked to sort their recycling prior to arriving on site and ensure they are able to lift bales, bins and bags themselves onto the sorting table. For large amounts of recycling, a booking may be required to enable sorting.\\r\\\\\\nAccepted Recycling:\\r\\\\\\n- All deposit cans, bottles, milk/juice cartons\\r\\\\\\n- Other non-deposit glass (i.e. glass jars, wine & spirit bottles)\\r\\\\\\nRecycling will not be accepted unless:\\r\\\\\\n- All lids & rubbish is removed\\r\\\\\\n- Liquid is removed from containers & bottles\\r\\\\\\nNon-deposit plastic jars and bottles are not accepted'\n",
      "238797 'Community Radio Station'\n",
      "238804 'Professional development workshops especially for teachers, therapists, and community workers.'\n",
      "238809 'Repair Café\\r\\\\\\nQualified volunteers'\n",
      "238810 'Repair Café\\r\\\\\\nQualified volunteers'\n",
      "238811 'Repair Café\\r\\\\\\nQualified volunteers'\n",
      "238815 'Ford Owners Car Club\\r\\\\\\nMonthly meetings\\r\\\\\\nEvents'\n",
      "238818 'Arts\\r\\\\\\nCommunity Nights'\n",
      "238825 'Mental Health \\r\\\\\\nAllied Health \\r\\\\\\nNDIS Services \\r\\\\\\nAlcohol & Other Drugs\\r\\\\\\nAboriginal Health \\r\\\\\\nOlder Persons \\r\\\\\\nHeadspace\\r\\\\\\n'\n",
      "238829 'Disability Support Services \\r\\\\\\nSenior Support Services\\r\\\\\\nFamily Support Services'\n",
      "238842 'Gymnastics\\r\\\\\\nPrograms: KinderGym, Mini Gym, Recreational Gymnastics, Competitive Gymnastics, School Holiday Programs'\n",
      "238843 'Gymnastics\\r\\\\\\nPrograms: KinderGym, Mini Gym, Recreational gymnastics, Competitive Gymnastics, School Holiday Programs'\n",
      "238845 'Chess\\r\\\\\\nCompetitive chess'\n",
      "238846 'Chess\\r\\\\\\nJunior chess'\n",
      "238847 'Buddhist rituals \\r\\\\\\nMeditation programs\\r\\\\\\nCultural programs\\r\\\\\\nCommunity library\\r\\\\\\nNew migrant and refugee support\\r\\\\\\nCommunity Language School'\n"
     ]
    }
   ],
   "source": [
    "for index, value in data['Services'].tail(20).items():  # Using items() instead of iteritems()\n",
    "    print(index, repr(value))"
   ]
  },
  {
   "cell_type": "code",
   "execution_count": 16,
   "id": "c91c648f-0605-4bc9-8e62-101007a4e259",
   "metadata": {},
   "outputs": [
    {
     "data": {
      "text/plain": [
       "Council\n",
       "Karoonda East Murray               22\n",
       "District Council of Coober Pedy    21\n",
       "District of Franklin Harbour       21\n",
       "District Council of Streaky Bay    19\n",
       "District Council of Cleve          18\n",
       "District Council of Elliston       15\n",
       "District Council of Kimba          13\n",
       "ACT                                11\n",
       "QLD                                10\n",
       "nil                                 5\n",
       "Yalata Community                    3\n",
       "APY Lands                           3\n",
       "NT                                  1\n",
       "Maralinga Tjarutja Community        1\n",
       "Nepabunna Community Council         1\n",
       "Name: count, dtype: int64"
      ]
     },
     "execution_count": 16,
     "metadata": {},
     "output_type": "execute_result"
    }
   ],
   "source": [
    "data[\"Council\"].value_counts().tail(15)"
   ]
  },
  {
   "cell_type": "code",
   "execution_count": 17,
   "id": "5fac733f-039c-490b-a3b1-fce76f4a75a7",
   "metadata": {},
   "outputs": [
    {
     "data": {
      "text/plain": [
       "Council\n",
       "The Flinders Ranges Council        23\n",
       "Karoonda East Murray               22\n",
       "District Council of Coober Pedy    21\n",
       "District of Franklin Harbour       21\n",
       "District Council of Streaky Bay    19\n",
       "District Council of Cleve          18\n",
       "District Council of Elliston       15\n",
       "District Council of Kimba          13\n",
       "ACT                                11\n",
       "QLD                                10\n",
       "Yalata Community                    3\n",
       "APY Lands                           3\n",
       "NT                                  1\n",
       "Maralinga Tjarutja Community        1\n",
       "Nepabunna Community Council         1\n",
       "Name: count, dtype: int64"
      ]
     },
     "execution_count": 17,
     "metadata": {},
     "output_type": "execute_result"
    }
   ],
   "source": [
    "data[\"Council\"] = data[\"Council\"].replace('nil', np.NaN, regex=True)\n",
    "data[\"Council\"].value_counts().tail(15)"
   ]
  },
  {
   "cell_type": "code",
   "execution_count": 18,
   "id": "09935b75-6cca-4da2-9324-85b77abc35fd",
   "metadata": {},
   "outputs": [
    {
     "data": {
      "text/plain": [
       "Adelaide Hills dir\n",
       "Primary Schools - Government          25\n",
       "Pre-school Education                  11\n",
       "Child Care                             9\n",
       "Church Youth Groups                    8\n",
       "Primary Schools - Non-Government       6\n",
       "Health & Welfare                       6\n",
       "Swimming                               5\n",
       "Playgroups                             5\n",
       "Libraries                              4\n",
       "Outside School Hours Care              4\n",
       "Kindergyms                             3\n",
       "Support Groups                         3\n",
       "Secondary Schools - Non-Government     3\n",
       "Secondary Schools - Government         3\n",
       "Education                              2\n",
       "Toy Libraries                          2\n",
       "Immunisation                           1\n",
       "Hospitals                              1\n",
       "Care Programs                          1\n",
       "Activities & Resources                 1\n",
       "Dental Services                        1\n",
       "Name: count, dtype: int64"
      ]
     },
     "execution_count": 18,
     "metadata": {},
     "output_type": "execute_result"
    }
   ],
   "source": [
    "data[\"Adelaide Hills dir\"].value_counts()"
   ]
  },
  {
   "cell_type": "code",
   "execution_count": 19,
   "id": "8d48de91-0adb-4052-af86-dd9e3fd92faa",
   "metadata": {},
   "outputs": [
    {
     "data": {
      "text/plain": [
       "Disabled Parking\n",
       "1    3529\n",
       "0     541\n",
       "Name: count, dtype: int64"
      ]
     },
     "execution_count": 19,
     "metadata": {},
     "output_type": "execute_result"
    }
   ],
   "source": [
    "data[\"Disabled Parking\"].value_counts()"
   ]
  },
  {
   "cell_type": "code",
   "execution_count": 20,
   "id": "83b1bb6c-4f89-4f22-9c42-608aa443d290",
   "metadata": {},
   "outputs": [
    {
     "data": {
      "text/plain": [
       "Subjects\n",
       "Post Offices                                                                                                                                                                          300\n",
       "Police Stations                                                                                                                                                                       115\n",
       "Halls For Hire                                                                                                                                                                        105\n",
       "Cricket                                                                                                                                                                               101\n",
       "Tennis                                                                                                                                                                                 97\n",
       "                                                                                                                                                                                     ... \n",
       "Freedom of Information----Government Information Services----Information----Public Records----State Government                                                                          1\n",
       "Counselling----Crisis Intervention----Mental Health Services----Mentally Ill----Psychiatric Services----Psychology Services                                                             1\n",
       "Residential Aged Care (Dementia)----Residential Aged Care Facilities (High Level)----Residential Aged Care Facilities (Low Level)----Residential Care (Short Term)----Respite Care      1\n",
       "Community Arts----Function Facilities----Hire----Multicultural Arts & Culture----Music----Performing Arts----Visual Arts                                                                1\n",
       "Buddhist----Community Languages----English as a Second Language----Migrant Education----Migrant Resource Centres----Migrants----Refugees----Religions & Philosophies                    1\n",
       "Name: count, Length: 6884, dtype: int64"
      ]
     },
     "execution_count": 20,
     "metadata": {},
     "output_type": "execute_result"
    }
   ],
   "source": [
    "data[\"Subjects\"].value_counts()"
   ]
  },
  {
   "cell_type": "code",
   "execution_count": 21,
   "id": "8b1ce234",
   "metadata": {},
   "outputs": [
    {
     "data": {
      "text/plain": [
       "Subjects\n",
       "Post Offices                                                                                                                                                                  300\n",
       "Police Stations                                                                                                                                                               115\n",
       "Halls For Hire                                                                                                                                                                105\n",
       "Cricket                                                                                                                                                                       101\n",
       "Tennis                                                                                                                                                                         97\n",
       "                                                                                                                                                                             ... \n",
       "Freedom of Information; Government Information Services; Information; Public Records; State Government                                                                          1\n",
       "Counselling; Crisis Intervention; Mental Health Services; Mentally Ill; Psychiatric Services; Psychology Services                                                               1\n",
       "Residential Aged Care (Dementia); Residential Aged Care Facilities (High Level); Residential Aged Care Facilities (Low Level); Residential Care (Short Term); Respite Care      1\n",
       "Community Arts; Function Facilities; Hire; Multicultural Arts & Culture; Music; Performing Arts; Visual Arts                                                                    1\n",
       "Buddhist; Community Languages; English as a Second Language; Migrant Education; Migrant Resource Centres; Migrants; Refugees; Religions & Philosophies                          1\n",
       "Name: count, Length: 6884, dtype: int64"
      ]
     },
     "execution_count": 21,
     "metadata": {},
     "output_type": "execute_result"
    }
   ],
   "source": [
    "data[\"Subjects\"] = data[\"Subjects\"].str.replace('----', '; ', regex=True)\n",
    "data[\"Subjects\"].value_counts()"
   ]
  },
  {
   "cell_type": "markdown",
   "id": "3ed6c57e-6c15-40f5-96d1-177688552763",
   "metadata": {},
   "source": [
    "## New CSV data is well cleaned"
   ]
  },
  {
   "cell_type": "code",
   "execution_count": 22,
   "id": "3953b145-2208-4cb8-a77f-6002b7a71950",
   "metadata": {},
   "outputs": [],
   "source": [
    "data.to_csv(\"decoded_sacom.csv\")"
   ]
  }
 ],
 "metadata": {
  "kernelspec": {
   "display_name": "Python 3 (ipykernel)",
   "language": "python",
   "name": "python3"
  },
  "language_info": {
   "codemirror_mode": {
    "name": "ipython",
    "version": 3
   },
   "file_extension": ".py",
   "mimetype": "text/x-python",
   "name": "python",
   "nbconvert_exporter": "python",
   "pygments_lexer": "ipython3",
   "version": "3.11.5"
  }
 },
 "nbformat": 4,
 "nbformat_minor": 5
}
